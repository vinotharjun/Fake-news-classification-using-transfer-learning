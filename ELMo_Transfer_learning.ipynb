{
  "nbformat": 4,
  "nbformat_minor": 0,
  "metadata": {
    "colab": {
      "name": "ELMo Transfer learning.ipynb",
      "version": "0.3.2",
      "provenance": [],
      "collapsed_sections": [],
      "machine_shape": "hm",
      "include_colab_link": true
    },
    "kernelspec": {
      "name": "python3",
      "display_name": "Python 3"
    }
  },
  "cells": [
    {
      "cell_type": "markdown",
      "metadata": {
        "id": "view-in-github",
        "colab_type": "text"
      },
      "source": [
        "<a href=\"https://colab.research.google.com/github/vinotharjun/Fake-news-classification-using-transfer-learning/blob/master/ELMo_Transfer_learning.ipynb\" target=\"_parent\"><img src=\"https://colab.research.google.com/assets/colab-badge.svg\" alt=\"Open In Colab\"/></a>"
      ]
    },
    {
      "cell_type": "code",
      "metadata": {
        "id": "RykuDM-wtZRT",
        "colab_type": "code",
        "outputId": "9602b06b-1592-414b-d441-78b9c6c86284",
        "colab": {
          "base_uri": "https://localhost:8080/",
          "height": 124
        }
      },
      "source": [
        "from google.colab import drive\n",
        "drive.mount('/content/drive')"
      ],
      "execution_count": 0,
      "outputs": [
        {
          "output_type": "stream",
          "text": [
            "Go to this URL in a browser: https://accounts.google.com/o/oauth2/auth?client_id=947318989803-6bn6qk8qdgf4n4g3pfee6491hc0brc4i.apps.googleusercontent.com&redirect_uri=urn%3Aietf%3Awg%3Aoauth%3A2.0%3Aoob&scope=email%20https%3A%2F%2Fwww.googleapis.com%2Fauth%2Fdocs.test%20https%3A%2F%2Fwww.googleapis.com%2Fauth%2Fdrive%20https%3A%2F%2Fwww.googleapis.com%2Fauth%2Fdrive.photos.readonly%20https%3A%2F%2Fwww.googleapis.com%2Fauth%2Fpeopleapi.readonly&response_type=code\n",
            "\n",
            "Enter your authorization code:\n",
            "··········\n",
            "Mounted at /content/drive\n"
          ],
          "name": "stdout"
        }
      ]
    },
    {
      "cell_type": "markdown",
      "metadata": {
        "id": "QUFgVKkaigI4",
        "colab_type": "text"
      },
      "source": [
        "# Data loading"
      ]
    },
    {
      "cell_type": "code",
      "metadata": {
        "id": "qIqSIFjluZEv",
        "colab_type": "code",
        "outputId": "729261bf-275c-47ba-dfa9-e376e532fd6f",
        "colab": {
          "base_uri": "https://localhost:8080/",
          "height": 34
        }
      },
      "source": [
        "import tensorflow_hub as hub\n",
        "import tensorflow as tf\n",
        "import keras.backend as K\n",
        "from keras.layers import Dense,Embedding,Input,LSTM,Dropout,Lambda,concatenate\n",
        "from keras.models import Model\n",
        "import spacy\n",
        "import pandas as pd\n",
        "import numpy as np\n",
        "# nlp = spacy.load('en', disable=['parser', 'ner'])"
      ],
      "execution_count": 0,
      "outputs": [
        {
          "output_type": "stream",
          "text": [
            "Using TensorFlow backend.\n"
          ],
          "name": "stderr"
        }
      ]
    },
    {
      "cell_type": "code",
      "metadata": {
        "id": "tYPGjmxZucUt",
        "colab_type": "code",
        "colab": {}
      },
      "source": [
        "elmo=hub.Module(\"https://tfhub.dev/google/elmo/2\",trainable=True)"
      ],
      "execution_count": 0,
      "outputs": []
    },
    {
      "cell_type": "markdown",
      "metadata": {
        "id": "XetmslQg6bIO",
        "colab_type": "text"
      },
      "source": [
        ""
      ]
    },
    {
      "cell_type": "code",
      "metadata": {
        "id": "e-U-Fhadugue",
        "colab_type": "code",
        "outputId": "ccc938c9-0884-414d-9e87-06ef5558fcfd",
        "colab": {
          "base_uri": "https://localhost:8080/",
          "height": 34
        }
      },
      "source": [
        "dataset=pd.read_csv(\"/content/drive/My Drive/paper works/preprocessedData6000(1).csv\")\n",
        "del dataset[\"Unnamed: 0\"]\n",
        "len(dataset)"
      ],
      "execution_count": 0,
      "outputs": [
        {
          "output_type": "execute_result",
          "data": {
            "text/plain": [
              "6335"
            ]
          },
          "metadata": {
            "tags": []
          },
          "execution_count": 7
        }
      ]
    },
    {
      "cell_type": "code",
      "metadata": {
        "id": "ifzdlnEKvh35",
        "colab_type": "code",
        "outputId": "6e271a73-52c8-4006-a997-44fd7c3cfbf7",
        "colab": {
          "base_uri": "https://localhost:8080/",
          "height": 34
        }
      },
      "source": [
        "dataset.dropna(subset=[\"title\",\"text\",\"label\"],inplace=True)\n",
        "len(dataset)"
      ],
      "execution_count": 0,
      "outputs": [
        {
          "output_type": "execute_result",
          "data": {
            "text/plain": [
              "6298"
            ]
          },
          "metadata": {
            "tags": []
          },
          "execution_count": 8
        }
      ]
    },
    {
      "cell_type": "code",
      "metadata": {
        "id": "7z0WotdNvGDK",
        "colab_type": "code",
        "colab": {}
      },
      "source": [
        "def elmo_vectors(x):\n",
        "  embeddings = elmo(x, signature=\"default\", as_dict=True)[\"elmo\"]\n",
        "\n",
        "  with tf.Session() as sess:\n",
        "    sess.run(tf.global_variables_initializer())\n",
        "    sess.run(tf.tables_initializer())\n",
        "    # return average of ELMo features\n",
        "    return sess.run(tf.reduce_mean(embeddings,1))"
      ],
      "execution_count": 0,
      "outputs": []
    },
    {
      "cell_type": "code",
      "metadata": {
        "id": "bLzQdACqx5aL",
        "colab_type": "code",
        "colab": {}
      },
      "source": [
        "batched_data = [dataset[i:i+100] for i in range(0,dataset.shape[0],100)]"
      ],
      "execution_count": 0,
      "outputs": []
    },
    {
      "cell_type": "code",
      "metadata": {
        "id": "KrAFhQChyqMQ",
        "colab_type": "code",
        "colab": {}
      },
      "source": [
        "def cut(text):\n",
        "  arr=text.split(\" \")\n",
        "  return \" \".join(arr[:20]) \n",
        "dataset[\"text\"]=dataset[\"text\"].apply(cut)"
      ],
      "execution_count": 0,
      "outputs": []
    },
    {
      "cell_type": "code",
      "metadata": {
        "id": "dlKG-Pr8ilce",
        "colab_type": "code",
        "colab": {}
      },
      "source": [
        ""
      ],
      "execution_count": 0,
      "outputs": []
    },
    {
      "cell_type": "markdown",
      "metadata": {
        "id": "JUxi5zZtim95",
        "colab_type": "text"
      },
      "source": [
        "# ELMo Embedding"
      ]
    },
    {
      "cell_type": "code",
      "metadata": {
        "id": "mh97o24FyPvw",
        "colab_type": "code",
        "colab": {}
      },
      "source": [
        "elmo_train_top = []\n",
        "i=0\n",
        "for x in batched_data:\n",
        "  print(i)\n",
        "  elmo_train_top.append(elmo_vectors(list(x['title'])))\n",
        "  i=i+1\n",
        "# elmo_train_top = [elmo_vectors(x['title1_en']) for x in batched_data]"
      ],
      "execution_count": 0,
      "outputs": []
    },
    {
      "cell_type": "code",
      "metadata": {
        "id": "cJw2W7hB0Oqh",
        "colab_type": "code",
        "colab": {}
      },
      "source": [
        "elmo_train_top = np.concatenate(elmo_train_top, axis = 0)"
      ],
      "execution_count": 0,
      "outputs": []
    },
    {
      "cell_type": "code",
      "metadata": {
        "id": "wAg5A_ti0bTs",
        "colab_type": "code",
        "outputId": "1a3eb1fc-1a45-4f41-b40d-868d9d8c2821",
        "colab": {
          "base_uri": "https://localhost:8080/",
          "height": 34
        }
      },
      "source": [
        "len(elmo_train_top[0])"
      ],
      "execution_count": 0,
      "outputs": [
        {
          "output_type": "execute_result",
          "data": {
            "text/plain": [
              "1024"
            ]
          },
          "metadata": {
            "tags": []
          },
          "execution_count": 20
        }
      ]
    },
    {
      "cell_type": "code",
      "metadata": {
        "id": "S1ucnvzg1Huf",
        "colab_type": "code",
        "colab": {}
      },
      "source": [
        "dataset.text=dataset.text.astype(str)"
      ],
      "execution_count": 0,
      "outputs": []
    },
    {
      "cell_type": "code",
      "metadata": {
        "id": "JEvcB9GV1ap7",
        "colab_type": "code",
        "colab": {}
      },
      "source": [
        "batched_data = [dataset[i:i+100] for i in range(0,dataset.shape[0],100)]"
      ],
      "execution_count": 0,
      "outputs": []
    },
    {
      "cell_type": "code",
      "metadata": {
        "id": "oinjCwHv0UWP",
        "colab_type": "code",
        "colab": {}
      },
      "source": [
        "import pickle\n",
        "# save elmo_train_new\n",
        "pickle_out = open(\"/content/drive/My Drive/paper works/elmo_train_top_03032019.pickle\",\"wb\")\n",
        "pickle.dump(elmo_train_top, pickle_out)\n",
        "pickle_out.close()"
      ],
      "execution_count": 0,
      "outputs": []
    },
    {
      "cell_type": "code",
      "metadata": {
        "id": "bwy2TneUznRw",
        "colab_type": "code",
        "colab": {}
      },
      "source": [
        "elmo_train_bm = []\n",
        "i=0\n",
        "for x in batched_data:\n",
        "  print(i)\n",
        "  elmo_train_bm.append(elmo_vectors(list(x['text'])))\n",
        "  i=i+1\n",
        "# elmo_train_top = [elmo_vectors(x['title1_en']) for x in batched_data]"
      ],
      "execution_count": 0,
      "outputs": []
    },
    {
      "cell_type": "code",
      "metadata": {
        "id": "GwQxby7S0om4",
        "colab_type": "code",
        "colab": {}
      },
      "source": [
        "import pickle\n",
        "# elmo_train_top = np.concatenate(elmo_train_top, axis = 0)\n",
        "elmo_train_bm = np.concatenate(elmo_train_bm, axis = 0)\n",
        "\n",
        "# save elmo_test_new\n",
        "pickle_out = open(\"/content/drive/My Drive/paper works/elmo_train_bm_03032019.pickle\",\"wb\")\n",
        "pickle.dump(elmo_train_bm, pickle_out)\n",
        "pickle_out.close()"
      ],
      "execution_count": 0,
      "outputs": []
    },
    {
      "cell_type": "code",
      "metadata": {
        "id": "58R6rUKS7E6J",
        "colab_type": "code",
        "colab": {}
      },
      "source": [
        "import pickle\n",
        "# load elmo_train_new\n",
        "pickle_in = open(\"/content/drive/My Drive/paper works/elmo_train_top_03032019.pickle\", \"rb\")\n",
        "elmo_train_top = pickle.load(pickle_in)\n",
        "\n",
        "# load elmo_train_new\n",
        "pickle_in = open(\"/content/drive/My Drive/paper works/elmo_train_bm_03032019.pickle\", \"rb\")\n",
        "elmo_train_bm = pickle.load(pickle_in)"
      ],
      "execution_count": 0,
      "outputs": []
    },
    {
      "cell_type": "code",
      "metadata": {
        "id": "CvIgmg-FCRUN",
        "colab_type": "code",
        "outputId": "b962833f-2f56-4fcf-b946-6ea2a342b4ad",
        "colab": {
          "base_uri": "https://localhost:8080/",
          "height": 34
        }
      },
      "source": [
        ""
      ],
      "execution_count": 0,
      "outputs": [
        {
          "output_type": "execute_result",
          "data": {
            "text/plain": [
              "(6449152,)"
            ]
          },
          "metadata": {
            "tags": []
          },
          "execution_count": 105
        }
      ]
    },
    {
      "cell_type": "code",
      "metadata": {
        "id": "bvE1qg3jta0_",
        "colab_type": "code",
        "colab": {}
      },
      "source": [
        "elmo_train_top=np.array(elmo_train_top)\n",
        "elmo_train_bm=np.array(elmo_train_bm )\n",
        "\n"
      ],
      "execution_count": 0,
      "outputs": []
    },
    {
      "cell_type": "code",
      "metadata": {
        "id": "c0Vs6kktC8w8",
        "colab_type": "code",
        "colab": {}
      },
      "source": [
        "elmo_train_bm=elmo_train_bm.reshape((6298, 1024))"
      ],
      "execution_count": 0,
      "outputs": []
    },
    {
      "cell_type": "code",
      "metadata": {
        "id": "dlyqRRJN7SeO",
        "colab_type": "code",
        "colab": {}
      },
      "source": [
        "dataset2=pd.get_dummies(dataset, columns=['label'])"
      ],
      "execution_count": 0,
      "outputs": []
    },
    {
      "cell_type": "code",
      "metadata": {
        "id": "uITBuncC8vmh",
        "colab_type": "code",
        "colab": {}
      },
      "source": [
        "# dataset2"
      ],
      "execution_count": 0,
      "outputs": []
    },
    {
      "cell_type": "code",
      "metadata": {
        "id": "U-pM5QDj8pPY",
        "colab_type": "code",
        "colab": {}
      },
      "source": [
        "y= np.array([dataset2[\"label_FAKE\"],dataset2[\"label_REAL\"]])\n",
        "y=y.transpose()"
      ],
      "execution_count": 0,
      "outputs": []
    },
    {
      "cell_type": "code",
      "metadata": {
        "id": "SMSAmfUu83nc",
        "colab_type": "code",
        "outputId": "52def4a9-94e9-46fd-efdb-9a994a05b69a",
        "colab": {
          "base_uri": "https://localhost:8080/",
          "height": 34
        }
      },
      "source": [
        "y.shape"
      ],
      "execution_count": 0,
      "outputs": [
        {
          "output_type": "execute_result",
          "data": {
            "text/plain": [
              "(6298, 2)"
            ]
          },
          "metadata": {
            "tags": []
          },
          "execution_count": 41
        }
      ]
    },
    {
      "cell_type": "code",
      "metadata": {
        "id": "-fLB1FMK9UBy",
        "colab_type": "code",
        "outputId": "336aec97-1c91-4338-8c03-f70669ae2506",
        "colab": {
          "base_uri": "https://localhost:8080/",
          "height": 34
        }
      },
      "source": [
        "elmo_train_top.shape"
      ],
      "execution_count": 0,
      "outputs": [
        {
          "output_type": "execute_result",
          "data": {
            "text/plain": [
              "(6298, 1024)"
            ]
          },
          "metadata": {
            "tags": []
          },
          "execution_count": 43
        }
      ]
    },
    {
      "cell_type": "markdown",
      "metadata": {
        "id": "KqFLly4wirMR",
        "colab_type": "text"
      },
      "source": [
        "# Creating the model "
      ]
    },
    {
      "cell_type": "code",
      "metadata": {
        "id": "bX-qDMal9XuE",
        "colab_type": "code",
        "colab": {}
      },
      "source": [
        "from keras import Input\n",
        "from keras.models import Model"
      ],
      "execution_count": 0,
      "outputs": []
    },
    {
      "cell_type": "code",
      "metadata": {
        "id": "v92S2LIY9y_g",
        "colab_type": "code",
        "colab": {}
      },
      "source": [
        "from keras.layers import Dense,ReLU,concatenate,Dropout,LSTM,TimeDistributed,Flatten"
      ],
      "execution_count": 0,
      "outputs": []
    },
    {
      "cell_type": "code",
      "metadata": {
        "id": "Y3Mxl_fX95Kp",
        "colab_type": "code",
        "outputId": "a56bb6a1-b046-486f-b81c-bfde0f48d911",
        "colab": {
          "base_uri": "https://localhost:8080/",
          "height": 245
        }
      },
      "source": [
        "top_input=Input(shape=(1024,))\n",
        "bottom_input=Input(shape=(1024,))\n",
        "top_dense=Dense(512,activation=\"relu\")(top_input)\n",
        "top_dense=Dropout(0.5)(top_dense)\n",
        "bottom_dense=Dense(512,activation=\"relu\")(bottom_input)\n",
        "bottom_dense=Dropout(0.5)(bottom_dense)\n",
        "top_dense_next=Dense(256,activation=\"relu\")(top_dense)\n",
        "bottom_dense_next=Dense(256,activation=\"relu\")(bottom_dense)\n",
        "top_dense_next=Dropout(0.5)(top_dense)\n",
        "bottom_dense_next=Dropout(0.5)(bottom_dense)\n",
        "added_dense=concatenate([top_dense_next,bottom_dense_next],axis=-1)\n",
        "final_dense=Dense(512,activation=\"relu\")(added_dense)\n",
        "final_dense=Dropout(0.5)(final_dense)\n",
        "final_dense=Dense(256,activation=\"relu\")(final_dense)\n",
        "final_dense=Dropout(0.5)(final_dense)\n",
        "final_dense=Dense(128,activation=\"relu\")(final_dense)\n",
        "final_dense=Dropout(0.5)(final_dense)\n",
        "final_dense=Dense(128,activation=\"relu\")(final_dense)\n",
        "final_dense=Dropout(0.5)(final_dense)\n",
        "final_dense=Dense(64,activation=\"relu\")(final_dense)\n",
        "final_dense=Dropout(0.5)(final_dense)\n",
        "final_dense=Dense(64,activation=\"relu\")(final_dense)\n",
        "final_dense=Dropout(0.5)(final_dense)\n",
        "final_dense=Dense(32,activation=\"relu\")(final_dense)\n",
        "final_dense=Dropout(0.5)(final_dense)"
      ],
      "execution_count": 0,
      "outputs": [
        {
          "output_type": "stream",
          "text": [
            "WARNING: Logging before flag parsing goes to stderr.\n",
            "W0826 05:24:57.069011 139901283682176 deprecation_wrapper.py:119] From /usr/local/lib/python3.6/dist-packages/keras/backend/tensorflow_backend.py:74: The name tf.get_default_graph is deprecated. Please use tf.compat.v1.get_default_graph instead.\n",
            "\n",
            "W0826 05:24:57.129246 139901283682176 deprecation_wrapper.py:119] From /usr/local/lib/python3.6/dist-packages/keras/backend/tensorflow_backend.py:517: The name tf.placeholder is deprecated. Please use tf.compat.v1.placeholder instead.\n",
            "\n",
            "W0826 05:24:57.144056 139901283682176 deprecation_wrapper.py:119] From /usr/local/lib/python3.6/dist-packages/keras/backend/tensorflow_backend.py:4138: The name tf.random_uniform is deprecated. Please use tf.random.uniform instead.\n",
            "\n",
            "W0826 05:24:57.168853 139901283682176 deprecation_wrapper.py:119] From /usr/local/lib/python3.6/dist-packages/keras/backend/tensorflow_backend.py:133: The name tf.placeholder_with_default is deprecated. Please use tf.compat.v1.placeholder_with_default instead.\n",
            "\n",
            "W0826 05:24:57.178736 139901283682176 deprecation.py:506] From /usr/local/lib/python3.6/dist-packages/keras/backend/tensorflow_backend.py:3445: calling dropout (from tensorflow.python.ops.nn_ops) with keep_prob is deprecated and will be removed in a future version.\n",
            "Instructions for updating:\n",
            "Please use `rate` instead of `keep_prob`. Rate should be set to `rate = 1 - keep_prob`.\n"
          ],
          "name": "stderr"
        }
      ]
    },
    {
      "cell_type": "code",
      "metadata": {
        "id": "YeEAfS5PTF2M",
        "colab_type": "code",
        "colab": {}
      },
      "source": [
        "dense =  Dense(\n",
        "    units=2,\n",
        "    activation='softmax')"
      ],
      "execution_count": 0,
      "outputs": []
    },
    {
      "cell_type": "code",
      "metadata": {
        "id": "3jJeY7NZTMG0",
        "colab_type": "code",
        "colab": {}
      },
      "source": [
        "predictions = dense(final_dense)"
      ],
      "execution_count": 0,
      "outputs": []
    },
    {
      "cell_type": "code",
      "metadata": {
        "id": "XG0V50CDTQKr",
        "colab_type": "code",
        "colab": {}
      },
      "source": [
        "model = Model(\n",
        "    inputs=[top_input, bottom_input], \n",
        "    outputs=predictions)"
      ],
      "execution_count": 0,
      "outputs": []
    },
    {
      "cell_type": "code",
      "metadata": {
        "id": "UpqGOHTt_PBx",
        "colab_type": "code",
        "outputId": "23d9d848-db3d-4ff6-d0d7-df869f67cc42",
        "colab": {
          "base_uri": "https://localhost:8080/",
          "height": 990
        }
      },
      "source": [
        "model.summary()"
      ],
      "execution_count": 0,
      "outputs": [
        {
          "output_type": "stream",
          "text": [
            "__________________________________________________________________________________________________\n",
            "Layer (type)                    Output Shape         Param #     Connected to                     \n",
            "==================================================================================================\n",
            "input_1 (InputLayer)            (None, 1024)         0                                            \n",
            "__________________________________________________________________________________________________\n",
            "input_2 (InputLayer)            (None, 1024)         0                                            \n",
            "__________________________________________________________________________________________________\n",
            "dense_1 (Dense)                 (None, 512)          524800      input_1[0][0]                    \n",
            "__________________________________________________________________________________________________\n",
            "dense_2 (Dense)                 (None, 512)          524800      input_2[0][0]                    \n",
            "__________________________________________________________________________________________________\n",
            "dropout_1 (Dropout)             (None, 512)          0           dense_1[0][0]                    \n",
            "__________________________________________________________________________________________________\n",
            "dropout_2 (Dropout)             (None, 512)          0           dense_2[0][0]                    \n",
            "__________________________________________________________________________________________________\n",
            "dropout_3 (Dropout)             (None, 512)          0           dropout_1[0][0]                  \n",
            "__________________________________________________________________________________________________\n",
            "dropout_4 (Dropout)             (None, 512)          0           dropout_2[0][0]                  \n",
            "__________________________________________________________________________________________________\n",
            "concatenate_1 (Concatenate)     (None, 1024)         0           dropout_3[0][0]                  \n",
            "                                                                 dropout_4[0][0]                  \n",
            "__________________________________________________________________________________________________\n",
            "dense_5 (Dense)                 (None, 512)          524800      concatenate_1[0][0]              \n",
            "__________________________________________________________________________________________________\n",
            "dropout_5 (Dropout)             (None, 512)          0           dense_5[0][0]                    \n",
            "__________________________________________________________________________________________________\n",
            "dense_6 (Dense)                 (None, 256)          131328      dropout_5[0][0]                  \n",
            "__________________________________________________________________________________________________\n",
            "dropout_6 (Dropout)             (None, 256)          0           dense_6[0][0]                    \n",
            "__________________________________________________________________________________________________\n",
            "dense_7 (Dense)                 (None, 128)          32896       dropout_6[0][0]                  \n",
            "__________________________________________________________________________________________________\n",
            "dropout_7 (Dropout)             (None, 128)          0           dense_7[0][0]                    \n",
            "__________________________________________________________________________________________________\n",
            "dense_8 (Dense)                 (None, 128)          16512       dropout_7[0][0]                  \n",
            "__________________________________________________________________________________________________\n",
            "dropout_8 (Dropout)             (None, 128)          0           dense_8[0][0]                    \n",
            "__________________________________________________________________________________________________\n",
            "dense_9 (Dense)                 (None, 64)           8256        dropout_8[0][0]                  \n",
            "__________________________________________________________________________________________________\n",
            "dropout_9 (Dropout)             (None, 64)           0           dense_9[0][0]                    \n",
            "__________________________________________________________________________________________________\n",
            "dense_10 (Dense)                (None, 64)           4160        dropout_9[0][0]                  \n",
            "__________________________________________________________________________________________________\n",
            "dropout_10 (Dropout)            (None, 64)           0           dense_10[0][0]                   \n",
            "__________________________________________________________________________________________________\n",
            "dense_11 (Dense)                (None, 32)           2080        dropout_10[0][0]                 \n",
            "__________________________________________________________________________________________________\n",
            "dropout_11 (Dropout)            (None, 32)           0           dense_11[0][0]                   \n",
            "__________________________________________________________________________________________________\n",
            "dense_12 (Dense)                (None, 2)            66          dropout_11[0][0]                 \n",
            "==================================================================================================\n",
            "Total params: 1,769,698\n",
            "Trainable params: 1,769,698\n",
            "Non-trainable params: 0\n",
            "__________________________________________________________________________________________________\n"
          ],
          "name": "stdout"
        }
      ]
    },
    {
      "cell_type": "code",
      "metadata": {
        "id": "N2gMURVD_QX_",
        "colab_type": "code",
        "colab": {}
      },
      "source": [
        "from keras.optimizers import Adam"
      ],
      "execution_count": 0,
      "outputs": []
    },
    {
      "cell_type": "code",
      "metadata": {
        "id": "KPANsweWBGVB",
        "colab_type": "code",
        "outputId": "9d3f4ad3-1859-4663-d7a2-ec2a3025febf",
        "colab": {
          "base_uri": "https://localhost:8080/",
          "height": 106
        }
      },
      "source": [
        "lr = 1e-3\n",
        "opt = Adam(lr=lr, decay=lr/50)\n",
        "model.compile(\n",
        "    optimizer='adam',\n",
        "    loss='categorical_crossentropy',\n",
        "    metrics=['accuracy'])"
      ],
      "execution_count": 0,
      "outputs": [
        {
          "output_type": "stream",
          "text": [
            "W0826 05:25:23.346314 139901283682176 deprecation_wrapper.py:119] From /usr/local/lib/python3.6/dist-packages/keras/optimizers.py:790: The name tf.train.Optimizer is deprecated. Please use tf.compat.v1.train.Optimizer instead.\n",
            "\n",
            "W0826 05:25:23.375767 139901283682176 deprecation_wrapper.py:119] From /usr/local/lib/python3.6/dist-packages/keras/backend/tensorflow_backend.py:3295: The name tf.log is deprecated. Please use tf.math.log instead.\n",
            "\n"
          ],
          "name": "stderr"
        }
      ]
    },
    {
      "cell_type": "code",
      "metadata": {
        "id": "_lCmxj-PZqsH",
        "colab_type": "code",
        "colab": {}
      },
      "source": [
        "\n",
        "from keras.callbacks import ModelCheckpoint\n",
        "cp=ModelCheckpoint('/content/drive/My Drive/paper works/saved models/model_elmo.hdf5',monitor='val_acc',verbose=1,save_best_only=True)"
      ],
      "execution_count": 0,
      "outputs": []
    },
    {
      "cell_type": "code",
      "metadata": {
        "id": "G9EMLwS8BH05",
        "colab_type": "code",
        "outputId": "66ef8127-6a0f-4998-8125-fd82545efd88",
        "colab": {
          "base_uri": "https://localhost:8080/",
          "height": 1000
        }
      },
      "source": [
        "\n",
        "history = model.fit(\n",
        "    x=[elmo_train_top, elmo_train_bm], \n",
        "    y=y,\n",
        "    batch_size=64,\n",
        "    epochs=50,\n",
        "        validation_split=0.2,\n",
        "    shuffle=True,\n",
        "    callbacks=[cp]\n",
        "\n",
        ")"
      ],
      "execution_count": 0,
      "outputs": [
        {
          "output_type": "stream",
          "text": [
            "Train on 5038 samples, validate on 1260 samples\n",
            "Epoch 1/50\n",
            "5038/5038 [==============================] - 3s 522us/step - loss: 0.1458 - acc: 0.9512 - val_loss: 0.3597 - val_acc: 0.8421\n",
            "\n",
            "Epoch 00001: val_acc improved from -inf to 0.84206, saving model to /content/drive/My Drive/paper works/saved models/model_elmo.hdf5\n",
            "Epoch 2/50\n",
            "5038/5038 [==============================] - 2s 478us/step - loss: 0.1631 - acc: 0.9454 - val_loss: 0.3956 - val_acc: 0.8325\n",
            "\n",
            "Epoch 00002: val_acc did not improve from 0.84206\n",
            "Epoch 3/50\n",
            "5038/5038 [==============================] - 2s 470us/step - loss: 0.1571 - acc: 0.9450 - val_loss: 0.3959 - val_acc: 0.8365\n",
            "\n",
            "Epoch 00003: val_acc did not improve from 0.84206\n",
            "Epoch 4/50\n",
            "5038/5038 [==============================] - 2s 466us/step - loss: 0.1691 - acc: 0.9383 - val_loss: 0.3891 - val_acc: 0.8381\n",
            "\n",
            "Epoch 00004: val_acc did not improve from 0.84206\n",
            "Epoch 5/50\n",
            "5038/5038 [==============================] - 2s 464us/step - loss: 0.1608 - acc: 0.9452 - val_loss: 0.3443 - val_acc: 0.8762\n",
            "\n",
            "Epoch 00005: val_acc improved from 0.84206 to 0.87619, saving model to /content/drive/My Drive/paper works/saved models/model_elmo.hdf5\n",
            "Epoch 6/50\n",
            "5038/5038 [==============================] - 2s 470us/step - loss: 0.1471 - acc: 0.9526 - val_loss: 0.4039 - val_acc: 0.8429\n",
            "\n",
            "Epoch 00006: val_acc did not improve from 0.87619\n",
            "Epoch 7/50\n",
            "5038/5038 [==============================] - 2s 465us/step - loss: 0.1650 - acc: 0.9426 - val_loss: 0.3389 - val_acc: 0.8690\n",
            "\n",
            "Epoch 00007: val_acc did not improve from 0.87619\n",
            "Epoch 8/50\n",
            "5038/5038 [==============================] - 2s 474us/step - loss: 0.1670 - acc: 0.9424 - val_loss: 0.3487 - val_acc: 0.8484\n",
            "\n",
            "Epoch 00008: val_acc did not improve from 0.87619\n",
            "Epoch 9/50\n",
            "5038/5038 [==============================] - 2s 470us/step - loss: 0.1599 - acc: 0.9464 - val_loss: 0.3758 - val_acc: 0.8373\n",
            "\n",
            "Epoch 00009: val_acc did not improve from 0.87619\n",
            "Epoch 10/50\n",
            "5038/5038 [==============================] - 2s 470us/step - loss: 0.1577 - acc: 0.9464 - val_loss: 0.3403 - val_acc: 0.8706\n",
            "\n",
            "Epoch 00010: val_acc did not improve from 0.87619\n",
            "Epoch 11/50\n",
            "5038/5038 [==============================] - 2s 465us/step - loss: 0.1448 - acc: 0.9534 - val_loss: 0.3809 - val_acc: 0.8690\n",
            "\n",
            "Epoch 00011: val_acc did not improve from 0.87619\n",
            "Epoch 12/50\n",
            "5038/5038 [==============================] - 2s 465us/step - loss: 0.1478 - acc: 0.9518 - val_loss: 0.3950 - val_acc: 0.8278\n",
            "\n",
            "Epoch 00012: val_acc did not improve from 0.87619\n",
            "Epoch 13/50\n",
            "5038/5038 [==============================] - 2s 470us/step - loss: 0.1435 - acc: 0.9506 - val_loss: 0.3632 - val_acc: 0.8698\n",
            "\n",
            "Epoch 00013: val_acc did not improve from 0.87619\n",
            "Epoch 14/50\n",
            "5038/5038 [==============================] - 2s 467us/step - loss: 0.1409 - acc: 0.9514 - val_loss: 0.3799 - val_acc: 0.8540\n",
            "\n",
            "Epoch 00014: val_acc did not improve from 0.87619\n",
            "Epoch 15/50\n",
            "5038/5038 [==============================] - 2s 473us/step - loss: 0.1697 - acc: 0.9407 - val_loss: 0.3904 - val_acc: 0.8381\n",
            "\n",
            "Epoch 00015: val_acc did not improve from 0.87619\n",
            "Epoch 16/50\n",
            "5038/5038 [==============================] - 2s 464us/step - loss: 0.1446 - acc: 0.9520 - val_loss: 0.3746 - val_acc: 0.8643\n",
            "\n",
            "Epoch 00016: val_acc did not improve from 0.87619\n",
            "Epoch 17/50\n",
            "5038/5038 [==============================] - 2s 468us/step - loss: 0.1596 - acc: 0.9395 - val_loss: 0.3684 - val_acc: 0.8722\n",
            "\n",
            "Epoch 00017: val_acc did not improve from 0.87619\n",
            "Epoch 18/50\n",
            "5038/5038 [==============================] - 2s 472us/step - loss: 0.1574 - acc: 0.9498 - val_loss: 0.3454 - val_acc: 0.8762\n",
            "\n",
            "Epoch 00018: val_acc did not improve from 0.87619\n",
            "Epoch 19/50\n",
            "5038/5038 [==============================] - 2s 470us/step - loss: 0.1310 - acc: 0.9597 - val_loss: 0.3549 - val_acc: 0.8770\n",
            "\n",
            "Epoch 00019: val_acc improved from 0.87619 to 0.87698, saving model to /content/drive/My Drive/paper works/saved models/model_elmo.hdf5\n",
            "Epoch 20/50\n",
            "5038/5038 [==============================] - 2s 474us/step - loss: 0.1403 - acc: 0.9506 - val_loss: 0.3517 - val_acc: 0.8659\n",
            "\n",
            "Epoch 00020: val_acc did not improve from 0.87698\n",
            "Epoch 21/50\n",
            "5038/5038 [==============================] - 2s 466us/step - loss: 0.1615 - acc: 0.9460 - val_loss: 0.4369 - val_acc: 0.8048\n",
            "\n",
            "Epoch 00021: val_acc did not improve from 0.87698\n",
            "Epoch 22/50\n",
            "5038/5038 [==============================] - 2s 470us/step - loss: 0.1527 - acc: 0.9492 - val_loss: 0.3624 - val_acc: 0.8563\n",
            "\n",
            "Epoch 00022: val_acc did not improve from 0.87698\n",
            "Epoch 23/50\n",
            "5038/5038 [==============================] - 2s 457us/step - loss: 0.1370 - acc: 0.9543 - val_loss: 0.3672 - val_acc: 0.8516\n",
            "\n",
            "Epoch 00023: val_acc did not improve from 0.87698\n",
            "Epoch 24/50\n",
            "5038/5038 [==============================] - 2s 469us/step - loss: 0.1551 - acc: 0.9484 - val_loss: 0.3785 - val_acc: 0.8563\n",
            "\n",
            "Epoch 00024: val_acc did not improve from 0.87698\n",
            "Epoch 25/50\n",
            "5038/5038 [==============================] - 2s 460us/step - loss: 0.1464 - acc: 0.9526 - val_loss: 0.3665 - val_acc: 0.8437\n",
            "\n",
            "Epoch 00025: val_acc did not improve from 0.87698\n",
            "Epoch 26/50\n",
            "5038/5038 [==============================] - 2s 454us/step - loss: 0.1412 - acc: 0.9512 - val_loss: 0.3816 - val_acc: 0.8389\n",
            "\n",
            "Epoch 00026: val_acc did not improve from 0.87698\n",
            "Epoch 27/50\n",
            "5038/5038 [==============================] - 2s 448us/step - loss: 0.1531 - acc: 0.9508 - val_loss: 0.3715 - val_acc: 0.8556\n",
            "\n",
            "Epoch 00027: val_acc did not improve from 0.87698\n",
            "Epoch 28/50\n",
            "5038/5038 [==============================] - 2s 465us/step - loss: 0.1248 - acc: 0.9591 - val_loss: 0.3835 - val_acc: 0.8429\n",
            "\n",
            "Epoch 00028: val_acc did not improve from 0.87698\n",
            "Epoch 29/50\n",
            "5038/5038 [==============================] - 2s 461us/step - loss: 0.1272 - acc: 0.9601 - val_loss: 0.3637 - val_acc: 0.8603\n",
            "\n",
            "Epoch 00029: val_acc did not improve from 0.87698\n",
            "Epoch 30/50\n",
            "5038/5038 [==============================] - 2s 462us/step - loss: 0.1650 - acc: 0.9436 - val_loss: 0.4044 - val_acc: 0.8294\n",
            "\n",
            "Epoch 00030: val_acc did not improve from 0.87698\n",
            "Epoch 31/50\n",
            "5038/5038 [==============================] - 2s 465us/step - loss: 0.1489 - acc: 0.9492 - val_loss: 0.3624 - val_acc: 0.8548\n",
            "\n",
            "Epoch 00031: val_acc did not improve from 0.87698\n",
            "Epoch 32/50\n",
            "5038/5038 [==============================] - 2s 466us/step - loss: 0.1432 - acc: 0.9524 - val_loss: 0.3701 - val_acc: 0.8500\n",
            "\n",
            "Epoch 00032: val_acc did not improve from 0.87698\n",
            "Epoch 33/50\n",
            "5038/5038 [==============================] - 2s 470us/step - loss: 0.1562 - acc: 0.9464 - val_loss: 0.3837 - val_acc: 0.8222\n",
            "\n",
            "Epoch 00033: val_acc did not improve from 0.87698\n",
            "Epoch 34/50\n",
            "5038/5038 [==============================] - 2s 476us/step - loss: 0.1420 - acc: 0.9538 - val_loss: 0.3606 - val_acc: 0.8540\n",
            "\n",
            "Epoch 00034: val_acc did not improve from 0.87698\n",
            "Epoch 35/50\n",
            "5038/5038 [==============================] - 2s 473us/step - loss: 0.1314 - acc: 0.9567 - val_loss: 0.3916 - val_acc: 0.8278\n",
            "\n",
            "Epoch 00035: val_acc did not improve from 0.87698\n",
            "Epoch 36/50\n",
            "5038/5038 [==============================] - 2s 469us/step - loss: 0.1272 - acc: 0.9575 - val_loss: 0.4103 - val_acc: 0.8476\n",
            "\n",
            "Epoch 00036: val_acc did not improve from 0.87698\n",
            "Epoch 37/50\n",
            "5038/5038 [==============================] - 2s 468us/step - loss: 0.1369 - acc: 0.9585 - val_loss: 0.3819 - val_acc: 0.8571\n",
            "\n",
            "Epoch 00037: val_acc did not improve from 0.87698\n",
            "Epoch 38/50\n",
            "5038/5038 [==============================] - 2s 463us/step - loss: 0.1323 - acc: 0.9603 - val_loss: 0.3464 - val_acc: 0.8603\n",
            "\n",
            "Epoch 00038: val_acc did not improve from 0.87698\n",
            "Epoch 39/50\n",
            "5038/5038 [==============================] - 2s 471us/step - loss: 0.1423 - acc: 0.9536 - val_loss: 0.3892 - val_acc: 0.8587\n",
            "\n",
            "Epoch 00039: val_acc did not improve from 0.87698\n",
            "Epoch 40/50\n",
            "5038/5038 [==============================] - 2s 468us/step - loss: 0.1396 - acc: 0.9538 - val_loss: 0.3590 - val_acc: 0.8714\n",
            "\n",
            "Epoch 00040: val_acc did not improve from 0.87698\n",
            "Epoch 41/50\n",
            "5038/5038 [==============================] - 2s 471us/step - loss: 0.1368 - acc: 0.9547 - val_loss: 0.3420 - val_acc: 0.8651\n",
            "\n",
            "Epoch 00041: val_acc did not improve from 0.87698\n",
            "Epoch 42/50\n",
            "5038/5038 [==============================] - 2s 475us/step - loss: 0.1533 - acc: 0.9496 - val_loss: 0.3576 - val_acc: 0.8579\n",
            "\n",
            "Epoch 00042: val_acc did not improve from 0.87698\n",
            "Epoch 43/50\n",
            "5038/5038 [==============================] - 2s 472us/step - loss: 0.1459 - acc: 0.9524 - val_loss: 0.3483 - val_acc: 0.8690\n",
            "\n",
            "Epoch 00043: val_acc did not improve from 0.87698\n",
            "Epoch 44/50\n",
            "5038/5038 [==============================] - 2s 476us/step - loss: 0.1358 - acc: 0.9549 - val_loss: 0.3383 - val_acc: 0.8706\n",
            "\n",
            "Epoch 00044: val_acc did not improve from 0.87698\n",
            "Epoch 45/50\n",
            "5038/5038 [==============================] - 2s 469us/step - loss: 0.1313 - acc: 0.9543 - val_loss: 0.3601 - val_acc: 0.8587\n",
            "\n",
            "Epoch 00045: val_acc did not improve from 0.87698\n",
            "Epoch 46/50\n",
            "5038/5038 [==============================] - 2s 468us/step - loss: 0.1415 - acc: 0.9516 - val_loss: 0.3959 - val_acc: 0.8524\n",
            "\n",
            "Epoch 00046: val_acc did not improve from 0.87698\n",
            "Epoch 47/50\n",
            "5038/5038 [==============================] - 3s 500us/step - loss: 0.1440 - acc: 0.9524 - val_loss: 0.4113 - val_acc: 0.8302\n",
            "\n",
            "Epoch 00047: val_acc did not improve from 0.87698\n",
            "Epoch 48/50\n",
            "5038/5038 [==============================] - 3s 543us/step - loss: 0.1461 - acc: 0.9528 - val_loss: 0.4109 - val_acc: 0.8349\n",
            "\n",
            "Epoch 00048: val_acc did not improve from 0.87698\n",
            "Epoch 49/50\n",
            "5038/5038 [==============================] - 3s 542us/step - loss: 0.1368 - acc: 0.9498 - val_loss: 0.3647 - val_acc: 0.8825\n",
            "\n",
            "Epoch 00049: val_acc improved from 0.87698 to 0.88254, saving model to /content/drive/My Drive/paper works/saved models/model_elmo.hdf5\n",
            "Epoch 50/50\n",
            "5038/5038 [==============================] - 2s 474us/step - loss: 0.1405 - acc: 0.9559 - val_loss: 0.4097 - val_acc: 0.8405\n",
            "\n",
            "Epoch 00050: val_acc did not improve from 0.88254\n"
          ],
          "name": "stdout"
        }
      ]
    },
    {
      "cell_type": "markdown",
      "metadata": {
        "id": "stc8Uuu8iwiP",
        "colab_type": "text"
      },
      "source": [
        "# Results"
      ]
    },
    {
      "cell_type": "code",
      "metadata": {
        "id": "VSOAfr2fB0WN",
        "colab_type": "code",
        "outputId": "2e460ed8-0d8c-47ae-e94a-47c18216d220",
        "colab": {
          "base_uri": "https://localhost:8080/",
          "height": 545
        }
      },
      "source": [
        "import matplotlib.pyplot as plt\n",
        "\n",
        "acc = history.history['acc']\n",
        "val_acc = history.history['val_acc']\n",
        "loss = history.history['loss']\n",
        "val_loss = history.history['val_loss']\n",
        "\n",
        "epochs = range(len(acc))\n",
        "\n",
        "plt.plot(epochs, acc, 'bo', label='Training acc')\n",
        "plt.plot(epochs, val_acc, 'b', label='Validation acc')\n",
        "plt.title('Training and validation accuracy')\n",
        "plt.legend()\n",
        "\n",
        "plt.figure()\n",
        "\n",
        "plt.plot(epochs, loss, 'bo', label='Training loss')\n",
        "plt.plot(epochs, val_loss, 'b', label='Validation loss')\n",
        "plt.title('Training and validation loss')\n",
        "plt.legend()\n",
        "\n",
        "plt.show()\n"
      ],
      "execution_count": 0,
      "outputs": [
        {
          "output_type": "display_data",
          "data": {
            "image/png": "[encoded data removed]",
            "text/plain": [
              "<Figure size 432x288 with 1 Axes>"
            ]
          },
          "metadata": {
            "tags": []
          }
        },
        {
          "output_type": "display_data",
          "data": {
            "image/png": "[encoded data removed]",
            "text/plain": [
              "<Figure size 432x288 with 1 Axes>"
            ]
          },
          "metadata": {
            "tags": []
          }
        }
      ]
    },
    {
      "cell_type": "code",
      "metadata": {
        "id": "YDQkeop3bHeG",
        "colab_type": "code",
        "colab": {}
      },
      "source": [
        "import pickle\n",
        "import pickle\n",
        "# save elmo_train_new\n",
        "pickle_out = open(\"/content/drive/My Drive/paper works/elmo_history.pickle\",\"wb\")\n",
        "pickle.dump(history, pickle_out)\n",
        "pickle_out.close()"
      ],
      "execution_count": 0,
      "outputs": []
    },
    {
      "cell_type": "code",
      "metadata": {
        "id": "iAhQJVAbap0u",
        "colab_type": "code",
        "colab": {}
      },
      "source": [
        ""
      ],
      "execution_count": 0,
      "outputs": []
    },
    {
      "cell_type": "code",
      "metadata": {
        "id": "c2-8TXfYaqNs",
        "colab_type": "code",
        "outputId": "0f2b7800-e753-4223-bec2-499099783879",
        "colab": {
          "base_uri": "https://localhost:8080/",
          "height": 34
        }
      },
      "source": [
        "y.shape"
      ],
      "execution_count": 0,
      "outputs": [
        {
          "output_type": "execute_result",
          "data": {
            "text/plain": [
              "(6298, 2)"
            ]
          },
          "metadata": {
            "tags": []
          },
          "execution_count": 33
        }
      ]
    },
    {
      "cell_type": "code",
      "metadata": {
        "id": "F3J6Q2DMaYS0",
        "colab_type": "code",
        "colab": {}
      },
      "source": [
        "from sklearn.model_selection import train_test_split"
      ],
      "execution_count": 0,
      "outputs": []
    },
    {
      "cell_type": "code",
      "metadata": {
        "id": "7OO1JdcXaj9U",
        "colab_type": "code",
        "colab": {}
      },
      "source": [
        "x1_train, x1_val,x2_train, x2_val,y_train, y_val =train_test_split(elmo_train_top,elmo_train_bm,y,test_size=0.2)\n",
        " "
      ],
      "execution_count": 0,
      "outputs": []
    },
    {
      "cell_type": "code",
      "metadata": {
        "id": "Iruny7sDavHQ",
        "colab_type": "code",
        "colab": {}
      },
      "source": [
        ""
      ],
      "execution_count": 0,
      "outputs": []
    },
    {
      "cell_type": "code",
      "metadata": {
        "id": "sB9B34raaTxP",
        "colab_type": "code",
        "outputId": "9a3b1e5d-4b67-46f2-8a00-6fffc24627d0",
        "colab": {
          "base_uri": "https://localhost:8080/",
          "height": 449
        }
      },
      "source": [
        "from sklearn import metrics\n",
        "y_test=model.predict([x1_val,x2_val])\n",
        "array= metrics.confusion_matrix(y_test.argmax(axis=1), y_val.argmax(axis=1))\n",
        "import seaborn as sn\n",
        "import pandas as pd\n",
        "import matplotlib.pyplot as plt\n",
        "\n",
        "df_cm = pd.DataFrame(array, index = [i for i in [\"Positive(1)\",\"Negative(0)\"]],\n",
        "                  columns = [i for i in [\"Positive(1)\",\"Negative(0)\"]])\n",
        "plt.figure(figsize = (10,7))\n",
        "sn.heatmap(df_cm, annot=True,)"
      ],
      "execution_count": 0,
      "outputs": [
        {
          "output_type": "execute_result",
          "data": {
            "text/plain": [
              "<matplotlib.axes._subplots.AxesSubplot at 0x7f3ca9552828>"
            ]
          },
          "metadata": {
            "tags": []
          },
          "execution_count": 35
        },
        {
          "output_type": "display_data",
          "data": {
            "image/png": "[encoded data removed]",
            "text/plain": [
              "<Figure size 720x504 with 2 Axes>"
            ]
          },
          "metadata": {
            "tags": []
          }
        }
      ]
    },
    {
      "cell_type": "code",
      "metadata": {
        "id": "QA7iATxwaxxp",
        "colab_type": "code",
        "colab": {}
      },
      "source": [
        "# from sklearn.metrics import classification_report"
      ],
      "execution_count": 0,
      "outputs": []
    },
    {
      "cell_type": "code",
      "metadata": {
        "id": "Mjfn0ldxcMki",
        "colab_type": "code",
        "colab": {}
      },
      "source": [
        "# target_names=[\"fake\",\"real\"]"
      ],
      "execution_count": 0,
      "outputs": []
    },
    {
      "cell_type": "code",
      "metadata": {
        "id": "G-VZlNrjcUWe",
        "colab_type": "code",
        "colab": {}
      },
      "source": [
        ""
      ],
      "execution_count": 0,
      "outputs": []
    },
    {
      "cell_type": "code",
      "metadata": {
        "id": "ZZSqhnMccD1i",
        "colab_type": "code",
        "colab": {}
      },
      "source": [
        "# print(classification_report(y_val, y_test, target_names=target_names))"
      ],
      "execution_count": 0,
      "outputs": []
    },
    {
      "cell_type": "code",
      "metadata": {
        "id": "nUF8PEldcQ5s",
        "colab_type": "code",
        "colab": {}
      },
      "source": [
        ""
      ],
      "execution_count": 0,
      "outputs": []
    },
    {
      "cell_type": "code",
      "metadata": {
        "id": "HQ_lSv0OCc_Q",
        "colab_type": "code",
        "colab": {}
      },
      "source": [
        ""
      ],
      "execution_count": 0,
      "outputs": []
    }
  ]
}