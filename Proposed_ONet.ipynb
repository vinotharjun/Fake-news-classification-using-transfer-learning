{
  "nbformat": 4,
  "nbformat_minor": 0,
  "metadata": {
    "colab": {
      "name": "Proposed ONet.ipynb",
      "provenance": [],
      "collapsed_sections": [
        "sjhjE5GlvGKB",
        "pk3EHy0Wu_Co",
        "KaDaptO20SRs",
        "v5_npRIN0a40",
        "YPMzhqGd05bp",
        "GcupXlrG1i77",
        "Npw_Rz2p2P_T",
        "UobOLAeP2qH5"
      ],
      "machine_shape": "hm",
      "include_colab_link": true
    },
    "kernelspec": {
      "name": "python3",
      "display_name": "Python 3"
    },
    "accelerator": "GPU"
  },
  "cells": [
    {
      "cell_type": "markdown",
      "metadata": {
        "id": "view-in-github",
        "colab_type": "text"
      },
      "source": [
        "<a href=\"https://colab.research.google.com/github/vinotharjun/Fake-news-classification-using-transfer-learning/blob/master/Proposed_ONet.ipynb\" target=\"_parent\"><img src=\"https://colab.research.google.com/assets/colab-badge.svg\" alt=\"Open In Colab\"/></a>"
      ]
    },
    {
      "cell_type": "code",
      "metadata": {
        "id": "RykuDM-wtZRT",
        "colab_type": "code",
        "outputId": "7b77a9c2-d4fb-4168-aa8c-0f0622927c02",
        "colab": {
          "base_uri": "https://localhost:8080/",
          "height": 34
        }
      },
      "source": [
        "from google.colab import drive\n",
        "drive.mount('/content/drive')"
      ],
      "execution_count": 0,
      "outputs": [
        {
          "output_type": "stream",
          "text": [
            "Mounted at /content/drive\n"
          ],
          "name": "stdout"
        }
      ]
    },
    {
      "cell_type": "markdown",
      "metadata": {
        "id": "QUFgVKkaigI4",
        "colab_type": "text"
      },
      "source": [
        "# Data loading"
      ]
    },
    {
      "cell_type": "code",
      "metadata": {
        "id": "qIqSIFjluZEv",
        "colab_type": "code",
        "outputId": "83d601bb-623c-4e5f-80fe-185856b3f451",
        "colab": {
          "base_uri": "https://localhost:8080/",
          "height": 34
        }
      },
      "source": [
        "import tensorflow_hub as hub\n",
        "import tensorflow as tf\n",
        "import keras.backend as K\n",
        "from keras.layers import Dense,Embedding,Input,LSTM,Dropout,Lambda,concatenate\n",
        "from keras.models import Model\n",
        "import spacy\n",
        "import pandas as pd\n",
        "import numpy as np\n",
        "# nlp = spacy.load('en', disable=['parser', 'ner'])"
      ],
      "execution_count": 0,
      "outputs": [
        {
          "output_type": "stream",
          "text": [
            "Using TensorFlow backend.\n"
          ],
          "name": "stderr"
        }
      ]
    },
    {
      "cell_type": "code",
      "metadata": {
        "id": "tYPGjmxZucUt",
        "colab_type": "code",
        "colab": {}
      },
      "source": [
        "elmo=hub.Module(\"https://tfhub.dev/google/elmo/2\",trainable=True)"
      ],
      "execution_count": 0,
      "outputs": []
    },
    {
      "cell_type": "markdown",
      "metadata": {
        "id": "XetmslQg6bIO",
        "colab_type": "text"
      },
      "source": [
        ""
      ]
    },
    {
      "cell_type": "code",
      "metadata": {
        "id": "e-U-Fhadugue",
        "colab_type": "code",
        "outputId": "7b9d316d-4e1d-4f58-d9fd-77015a35d6de",
        "colab": {
          "base_uri": "https://localhost:8080/",
          "height": 34
        }
      },
      "source": [
        "dataset=pd.read_csv(\"/content/drive/My Drive/paper works/preprocessedData6000(1).csv\")\n",
        "del dataset[\"Unnamed: 0\"]\n",
        "len(dataset)"
      ],
      "execution_count": 0,
      "outputs": [
        {
          "output_type": "execute_result",
          "data": {
            "text/plain": [
              "6335"
            ]
          },
          "metadata": {
            "tags": []
          },
          "execution_count": 6
        }
      ]
    },
    {
      "cell_type": "code",
      "metadata": {
        "id": "ifzdlnEKvh35",
        "colab_type": "code",
        "outputId": "884c296b-b386-4300-f86d-8052e5bd835c",
        "colab": {
          "base_uri": "https://localhost:8080/",
          "height": 34
        }
      },
      "source": [
        "dataset.dropna(subset=[\"title\",\"text\",\"label\"],inplace=True)\n",
        "len(dataset)"
      ],
      "execution_count": 0,
      "outputs": [
        {
          "output_type": "execute_result",
          "data": {
            "text/plain": [
              "6298"
            ]
          },
          "metadata": {
            "tags": []
          },
          "execution_count": 7
        }
      ]
    },
    {
      "cell_type": "code",
      "metadata": {
        "id": "7z0WotdNvGDK",
        "colab_type": "code",
        "colab": {}
      },
      "source": [
        "def elmo_vectors(x):\n",
        "  embeddings = elmo(x, signature=\"default\", as_dict=True)[\"elmo\"]\n",
        "\n",
        "  with tf.Session() as sess:\n",
        "    sess.run(tf.global_variables_initializer())\n",
        "    sess.run(tf.tables_initializer())\n",
        "    # return average of ELMo features\n",
        "    return sess.run(tf.reduce_mean(embeddings,1))"
      ],
      "execution_count": 0,
      "outputs": []
    },
    {
      "cell_type": "code",
      "metadata": {
        "id": "bLzQdACqx5aL",
        "colab_type": "code",
        "colab": {}
      },
      "source": [
        "batched_data = [dataset[i:i+100] for i in range(0,dataset.shape[0],100)]"
      ],
      "execution_count": 0,
      "outputs": []
    },
    {
      "cell_type": "code",
      "metadata": {
        "id": "KrAFhQChyqMQ",
        "colab_type": "code",
        "colab": {}
      },
      "source": [
        "def cut(text):\n",
        "  arr=text.split(\" \")\n",
        "  return \" \".join(arr[:20]) \n",
        "dataset[\"text\"]=dataset[\"text\"].apply(cut)"
      ],
      "execution_count": 0,
      "outputs": []
    },
    {
      "cell_type": "markdown",
      "metadata": {
        "id": "JUxi5zZtim95",
        "colab_type": "text"
      },
      "source": [
        "# ELMo Embedding"
      ]
    },
    {
      "cell_type": "markdown",
      "metadata": {
        "id": "sjhjE5GlvGKB",
        "colab_type": "text"
      },
      "source": [
        "## Embedding texts"
      ]
    },
    {
      "cell_type": "code",
      "metadata": {
        "id": "mh97o24FyPvw",
        "colab_type": "code",
        "colab": {}
      },
      "source": [
        "elmo_train_top = []\n",
        "i=0\n",
        "for x in batched_data:\n",
        "  print(i)\n",
        "  elmo_train_top.append(elmo_vectors(list(x['title'])))\n",
        "  i=i+1\n",
        "# elmo_train_top = [elmo_vectors(x['title1_en']) for x in batched_data]"
      ],
      "execution_count": 0,
      "outputs": []
    },
    {
      "cell_type": "code",
      "metadata": {
        "id": "cJw2W7hB0Oqh",
        "colab_type": "code",
        "colab": {}
      },
      "source": [
        "elmo_train_top = np.concatenate(elmo_train_top, axis = 0)"
      ],
      "execution_count": 0,
      "outputs": []
    },
    {
      "cell_type": "code",
      "metadata": {
        "id": "wAg5A_ti0bTs",
        "colab_type": "code",
        "outputId": "1a3eb1fc-1a45-4f41-b40d-868d9d8c2821",
        "colab": {
          "base_uri": "https://localhost:8080/",
          "height": 34
        }
      },
      "source": [
        "len(elmo_train_top[0])"
      ],
      "execution_count": 0,
      "outputs": [
        {
          "output_type": "execute_result",
          "data": {
            "text/plain": [
              "1024"
            ]
          },
          "metadata": {
            "tags": []
          },
          "execution_count": 20
        }
      ]
    },
    {
      "cell_type": "code",
      "metadata": {
        "id": "S1ucnvzg1Huf",
        "colab_type": "code",
        "colab": {}
      },
      "source": [
        "dataset.text=dataset.text.astype(str)"
      ],
      "execution_count": 0,
      "outputs": []
    },
    {
      "cell_type": "code",
      "metadata": {
        "id": "JEvcB9GV1ap7",
        "colab_type": "code",
        "colab": {}
      },
      "source": [
        "batched_data = [dataset[i:i+100] for i in range(0,dataset.shape[0],100)]"
      ],
      "execution_count": 0,
      "outputs": []
    },
    {
      "cell_type": "code",
      "metadata": {
        "id": "oinjCwHv0UWP",
        "colab_type": "code",
        "colab": {}
      },
      "source": [
        "import pickle\n",
        "# save elmo_train_new\n",
        "pickle_out = open(\"/content/drive/My Drive/paper works/elmo_train_top_03032019.pickle\",\"wb\")\n",
        "pickle.dump(elmo_train_top, pickle_out)\n",
        "pickle_out.close()"
      ],
      "execution_count": 0,
      "outputs": []
    },
    {
      "cell_type": "code",
      "metadata": {
        "id": "bwy2TneUznRw",
        "colab_type": "code",
        "colab": {}
      },
      "source": [
        "elmo_train_bm = []\n",
        "i=0\n",
        "for x in batched_data:\n",
        "  print(i)\n",
        "  elmo_train_bm.append(elmo_vectors(list(x['text'])))\n",
        "  i=i+1\n",
        "# elmo_train_top = [elmo_vectors(x['title1_en']) for x in batched_data]"
      ],
      "execution_count": 0,
      "outputs": []
    },
    {
      "cell_type": "markdown",
      "metadata": {
        "id": "pk3EHy0Wu_Co",
        "colab_type": "text"
      },
      "source": [
        "## Saving embedded vectors"
      ]
    },
    {
      "cell_type": "code",
      "metadata": {
        "id": "GwQxby7S0om4",
        "colab_type": "code",
        "colab": {}
      },
      "source": [
        "import pickle\n",
        "# elmo_train_top = np.concatenate(elmo_train_top, axis = 0)\n",
        "elmo_train_bm = np.concatenate(elmo_train_bm, axis = 0)\n",
        "\n",
        "# save elmo_test_new\n",
        "pickle_out = open(\"/content/drive/My Drive/paper works/elmo_train_bm_03032019.pickle\",\"wb\")\n",
        "pickle.dump(elmo_train_bm, pickle_out)\n",
        "pickle_out.close()"
      ],
      "execution_count": 0,
      "outputs": []
    },
    {
      "cell_type": "markdown",
      "metadata": {
        "id": "mT8pO1nhu1rt",
        "colab_type": "text"
      },
      "source": [
        "## Loading saved vectors"
      ]
    },
    {
      "cell_type": "code",
      "metadata": {
        "id": "58R6rUKS7E6J",
        "colab_type": "code",
        "colab": {}
      },
      "source": [
        "import pickle\n",
        "# load elmo_train_new\n",
        "pickle_in = open(\"/content/drive/My Drive/paper works/embeddings/elmo_train_top_03032019.pickle\", \"rb\")\n",
        "elmo_train_top = pickle.load(pickle_in)\n",
        "\n",
        "# load elmo_train_new\n",
        "pickle_in = open(\"/content/drive/My Drive/paper works/embeddings/elmo_train_bm_03032019.pickle\", \"rb\")\n",
        "elmo_train_bm = pickle.load(pickle_in)"
      ],
      "execution_count": 0,
      "outputs": []
    },
    {
      "cell_type": "code",
      "metadata": {
        "id": "bvE1qg3jta0_",
        "colab_type": "code",
        "colab": {}
      },
      "source": [
        "elmo_train_top=np.array(elmo_train_top)\n",
        "elmo_train_bm=np.array(elmo_train_bm )\n",
        "\n"
      ],
      "execution_count": 0,
      "outputs": []
    },
    {
      "cell_type": "code",
      "metadata": {
        "id": "c0Vs6kktC8w8",
        "colab_type": "code",
        "colab": {}
      },
      "source": [
        "elmo_train_bm=elmo_train_bm.reshape((6298, 1024))"
      ],
      "execution_count": 0,
      "outputs": []
    },
    {
      "cell_type": "code",
      "metadata": {
        "id": "dlyqRRJN7SeO",
        "colab_type": "code",
        "colab": {}
      },
      "source": [
        "dataset2=pd.get_dummies(dataset, columns=['label'])"
      ],
      "execution_count": 0,
      "outputs": []
    },
    {
      "cell_type": "code",
      "metadata": {
        "id": "U-pM5QDj8pPY",
        "colab_type": "code",
        "colab": {}
      },
      "source": [
        "y= np.array([dataset2[\"label_FAKE\"],dataset2[\"label_REAL\"]])\n",
        "y=y.transpose()"
      ],
      "execution_count": 0,
      "outputs": []
    },
    {
      "cell_type": "code",
      "metadata": {
        "id": "SMSAmfUu83nc",
        "colab_type": "code",
        "outputId": "39f10097-d71e-4aa1-a86d-1a6fc023c92a",
        "colab": {
          "base_uri": "https://localhost:8080/",
          "height": 34
        }
      },
      "source": [
        "y.shape"
      ],
      "execution_count": 0,
      "outputs": [
        {
          "output_type": "execute_result",
          "data": {
            "text/plain": [
              "(6298, 2)"
            ]
          },
          "metadata": {
            "tags": []
          },
          "execution_count": 12
        }
      ]
    },
    {
      "cell_type": "code",
      "metadata": {
        "id": "-fLB1FMK9UBy",
        "colab_type": "code",
        "outputId": "6b0066cc-22b8-40c8-93ee-1598453c49af",
        "colab": {
          "base_uri": "https://localhost:8080/",
          "height": 34
        }
      },
      "source": [
        "elmo_train_top.shape"
      ],
      "execution_count": 0,
      "outputs": [
        {
          "output_type": "execute_result",
          "data": {
            "text/plain": [
              "(6298, 1024)"
            ]
          },
          "metadata": {
            "tags": []
          },
          "execution_count": 13
        }
      ]
    },
    {
      "cell_type": "code",
      "metadata": {
        "id": "wdN6Jjx8yVIj",
        "colab_type": "code",
        "colab": {}
      },
      "source": [
        ""
      ],
      "execution_count": 0,
      "outputs": []
    },
    {
      "cell_type": "markdown",
      "metadata": {
        "id": "Jb6_5nWcyVee",
        "colab_type": "text"
      },
      "source": [
        "# Creating the ONet Model (v2.0.0)\n"
      ]
    },
    {
      "cell_type": "code",
      "metadata": {
        "id": "G4AgmaXa7urd",
        "colab_type": "code",
        "colab": {}
      },
      "source": [
        " from IPython.display import Image"
      ],
      "execution_count": 0,
      "outputs": []
    },
    {
      "cell_type": "code",
      "metadata": {
        "id": "xE6tDUsZ74f8",
        "colab_type": "code",
        "outputId": "9ef74027-c7de-4a1f-d467-981dc2dc2d56",
        "colab": {
          "base_uri": "https://localhost:8080/",
          "height": 517
        }
      },
      "source": [
        "Image(\"/content/drive/My Drive/Untitled Diagram (2) (1) (1).jpg\",width=700, height=500)"
      ],
      "execution_count": 0,
      "outputs": [
        {
          "output_type": "execute_result",
          "data": {
            "image/jpeg": "[encoded data removed]",
            "text/plain": [
              "<IPython.core.display.Image object>"
            ]
          },
          "metadata": {
            "tags": [],
            "image/jpeg": {
              "width": 700,
              "height": 500
            }
          },
          "execution_count": 173
        }
      ]
    },
    {
      "cell_type": "code",
      "metadata": {
        "id": "NKev9RpLyeEw",
        "colab_type": "code",
        "colab": {}
      },
      "source": [
        "from keras import Input \n",
        "from keras.models import Model\n",
        "from keras.layers import Dense,ReLU,concatenate,Dropout,Flatten"
      ],
      "execution_count": 0,
      "outputs": []
    },
    {
      "cell_type": "markdown",
      "metadata": {
        "id": "KaDaptO20SRs",
        "colab_type": "text"
      },
      "source": [
        "## Creating the input layer"
      ]
    },
    {
      "cell_type": "code",
      "metadata": {
        "id": "WUM7RdoCyjDe",
        "colab_type": "code",
        "colab": {}
      },
      "source": [
        "input_headline= Input(shape=(1024,))\n",
        "input_content=Input(shape=(1024,))"
      ],
      "execution_count": 0,
      "outputs": []
    },
    {
      "cell_type": "code",
      "metadata": {
        "id": "0R1qNte0yl39",
        "colab_type": "code",
        "colab": {}
      },
      "source": [
        "top_headline =Dense(512,activation=\"relu\")\n",
        "top_headline =top_headline(input_headline)\n",
        "top_headline=Dropout(0.5)(top_headline)"
      ],
      "execution_count": 0,
      "outputs": []
    },
    {
      "cell_type": "code",
      "metadata": {
        "id": "YhQrb2_vzDdn",
        "colab_type": "code",
        "colab": {}
      },
      "source": [
        "top_content =Dense(512,activation=\"relu\")\n",
        "top_content =top_content(input_content)\n",
        "top_content=Dropout(0.5)(top_content)"
      ],
      "execution_count": 0,
      "outputs": []
    },
    {
      "cell_type": "code",
      "metadata": {
        "id": "_2ybwXcSzQBO",
        "colab_type": "code",
        "colab": {}
      },
      "source": [
        "concatenated_top= concatenate([top_headline,top_content],axis=-1)"
      ],
      "execution_count": 0,
      "outputs": []
    },
    {
      "cell_type": "markdown",
      "metadata": {
        "id": "v5_npRIN0a40",
        "colab_type": "text"
      },
      "source": [
        "## Creating the top layers"
      ]
    },
    {
      "cell_type": "code",
      "metadata": {
        "id": "BO7QSUA-zH4a",
        "colab_type": "code",
        "colab": {}
      },
      "source": [
        "layer_top_a =Dense(512,activation=\"relu\")\n",
        "layer_top_a = layer_top_a(concatenated_top)\n",
        "layer_top_a = Dropout(0.5)(layer_top_a)"
      ],
      "execution_count": 0,
      "outputs": []
    },
    {
      "cell_type": "code",
      "metadata": {
        "id": "7ugeAQgrzzLJ",
        "colab_type": "code",
        "colab": {}
      },
      "source": [
        "layer_top_b =Dense(512,activation =\"relu\")\n",
        "layer_top_b =layer_top_b(layer_top_a)\n",
        "layer_top_b = Dropout(0.5)(layer_top_b)"
      ],
      "execution_count": 0,
      "outputs": []
    },
    {
      "cell_type": "code",
      "metadata": {
        "id": "RI8h_gf3z9mU",
        "colab_type": "code",
        "colab": {}
      },
      "source": [
        "layer_top_c =Dense(512,activation =\"relu\")\n",
        "layer_top_c =layer_top_c(layer_top_b)\n",
        "layer_top_c = Dropout(0.5)(layer_top_c)"
      ],
      "execution_count": 0,
      "outputs": []
    },
    {
      "cell_type": "code",
      "metadata": {
        "id": "YJGCAVhU0ETr",
        "colab_type": "code",
        "colab": {}
      },
      "source": [
        "layer_top_d =Dense(512,activation =\"relu\")\n",
        "layer_top_d =layer_top_d(layer_top_c)\n",
        "layer_top_d = Dropout(0.5)(layer_top_d)"
      ],
      "execution_count": 0,
      "outputs": []
    },
    {
      "cell_type": "markdown",
      "metadata": {
        "id": "YPMzhqGd05bp",
        "colab_type": "text"
      },
      "source": [
        "## Creating the middle feature extractors"
      ]
    },
    {
      "cell_type": "code",
      "metadata": {
        "id": "W17K3m2q0P6T",
        "colab_type": "code",
        "colab": {}
      },
      "source": [
        "layer_middle_ab =Dense(256,activation=\"relu\")\n",
        "layer_middle_ab= layer_middle_ab(layer_top_a)\n",
        "layer_middle_ab = Dropout(0.5)(layer_middle_ab)"
      ],
      "execution_count": 0,
      "outputs": []
    },
    {
      "cell_type": "code",
      "metadata": {
        "id": "LmHgU8p41Qv3",
        "colab_type": "code",
        "colab": {}
      },
      "source": [
        "layer_middle_bc =Dense(256,activation=\"relu\")\n",
        "layer_middle_bc= layer_middle_bc(layer_top_b)\n",
        "layer_middle_bc = Dropout(0.5)(layer_middle_bc)"
      ],
      "execution_count": 0,
      "outputs": []
    },
    {
      "cell_type": "code",
      "metadata": {
        "id": "y0Q-DFFb1Vkt",
        "colab_type": "code",
        "colab": {}
      },
      "source": [
        "layer_middle_cd =Dense(256,activation=\"relu\")\n",
        "layer_middle_cd= layer_middle_cd(layer_top_c)\n",
        "layer_middle_cd = Dropout(0.5)(layer_middle_cd)"
      ],
      "execution_count": 0,
      "outputs": []
    },
    {
      "cell_type": "markdown",
      "metadata": {
        "id": "GcupXlrG1i77",
        "colab_type": "text"
      },
      "source": [
        "## Combining all Dense layers "
      ]
    },
    {
      "cell_type": "code",
      "metadata": {
        "id": "MTgizz4w0CEN",
        "colab_type": "code",
        "colab": {}
      },
      "source": [
        "\n",
        "concatenated_feature_layers=concatenate([layer_middle_ab,layer_middle_bc,layer_middle_cd,layer_top_d],axis=-1)\n",
        "concatenated_feature_layers=Dropout(0.5)(concatenated_feature_layers)"
      ],
      "execution_count": 0,
      "outputs": []
    },
    {
      "cell_type": "markdown",
      "metadata": {
        "id": "Npw_Rz2p2P_T",
        "colab_type": "text"
      },
      "source": [
        "## prediction layer"
      ]
    },
    {
      "cell_type": "code",
      "metadata": {
        "id": "ppKiaBel2S8t",
        "colab_type": "code",
        "colab": {}
      },
      "source": [
        "dense =  Dense(\n",
        "    units=2,\n",
        "    activation='softmax')\n",
        "prediction_layer =dense(concatenated_feature_layers)"
      ],
      "execution_count": 0,
      "outputs": []
    },
    {
      "cell_type": "markdown",
      "metadata": {
        "id": "x8DUDHnE4jty",
        "colab_type": "text"
      },
      "source": [
        "## Defining the model"
      ]
    },
    {
      "cell_type": "code",
      "metadata": {
        "id": "4XT56U2Q4mSF",
        "colab_type": "code",
        "colab": {}
      },
      "source": [
        "model = Model(\n",
        "    inputs=[input_headline, input_content], \n",
        "    outputs=prediction_layer)"
      ],
      "execution_count": 0,
      "outputs": []
    },
    {
      "cell_type": "markdown",
      "metadata": {
        "id": "UobOLAeP2qH5",
        "colab_type": "text"
      },
      "source": [
        "## Optimizer defining"
      ]
    },
    {
      "cell_type": "code",
      "metadata": {
        "id": "VeQfh9nc2s8j",
        "colab_type": "code",
        "colab": {}
      },
      "source": [
        "from keras.optimizers import Adam\n",
        "lr = 1e-2\n",
        "opt = Adam(lr=lr, decay=lr/50)\n",
        "model.compile(\n",
        "    optimizer='adam',\n",
        "    loss='categorical_crossentropy',\n",
        "    metrics=['accuracy'])"
      ],
      "execution_count": 0,
      "outputs": []
    },
    {
      "cell_type": "code",
      "metadata": {
        "id": "tNhciVoG2uSn",
        "colab_type": "code",
        "colab": {}
      },
      "source": [
        "\n",
        "from keras.callbacks import ModelCheckpoint\n",
        "cp=ModelCheckpoint('/content/drive/My Drive/paper works/saved models/model.hdf5',monitor='val_acc',verbose=1,save_best_only=True)"
      ],
      "execution_count": 0,
      "outputs": []
    },
    {
      "cell_type": "markdown",
      "metadata": {
        "id": "lW8GJCAV3BbP",
        "colab_type": "text"
      },
      "source": [
        "## Run the model"
      ]
    },
    {
      "cell_type": "code",
      "metadata": {
        "id": "rdesFEgf2nDp",
        "colab_type": "code",
        "outputId": "bb94ea91-a980-4300-cc5e-fea9f470ac1a",
        "colab": {
          "base_uri": "https://localhost:8080/",
          "height": 204
        }
      },
      "source": [
        "\n",
        "history = model.fit(\n",
        "    x=[elmo_train_top, elmo_train_bm], \n",
        "    y=y,\n",
        "    batch_size=64,\n",
        "    epochs=5,\n",
        "        validation_split=0.2,\n",
        "    shuffle=True\n",
        "#     callbacks=[cp]\n",
        "\n",
        ")"
      ],
      "execution_count": 0,
      "outputs": [
        {
          "output_type": "stream",
          "text": [
            "Train on 5038 samples, validate on 1260 samples\n",
            "Epoch 1/5\n",
            "5038/5038 [==============================] - 1s 205us/step - loss: 0.0371 - acc: 0.9867 - val_loss: 0.5297 - val_acc: 0.8897\n",
            "Epoch 2/5\n",
            "5038/5038 [==============================] - 1s 199us/step - loss: 0.0352 - acc: 0.9865 - val_loss: 0.6305 - val_acc: 0.8841\n",
            "Epoch 3/5\n",
            "5038/5038 [==============================] - 1s 195us/step - loss: 0.0248 - acc: 0.9907 - val_loss: 0.7268 - val_acc: 0.8857\n",
            "Epoch 4/5\n",
            "5038/5038 [==============================] - 1s 191us/step - loss: 0.0326 - acc: 0.9897 - val_loss: 0.5624 - val_acc: 0.8865\n",
            "Epoch 5/5\n",
            "5038/5038 [==============================] - 1s 189us/step - loss: 0.0312 - acc: 0.9921 - val_loss: 0.5881 - val_acc: 0.8921\n"
          ],
          "name": "stdout"
        }
      ]
    },
    {
      "cell_type": "markdown",
      "metadata": {
        "colab_type": "text",
        "id": "EL1XGVha6VD4"
      },
      "source": [
        "# Results"
      ]
    },
    {
      "cell_type": "code",
      "metadata": {
        "colab_type": "code",
        "outputId": "bc9ad429-9d39-4564-d6aa-c2f643288888",
        "id": "bMVGOKwh6VDz",
        "colab": {
          "base_uri": "https://localhost:8080/",
          "height": 545
        }
      },
      "source": [
        "import matplotlib.pyplot as plt\n",
        "\n",
        "acc = history.history['acc']\n",
        "val_acc = history.history['val_acc']\n",
        "loss = history.history['loss']\n",
        "val_loss = history.history['val_loss']\n",
        "\n",
        "epochs = range(len(acc))\n",
        "\n",
        "plt.plot(epochs, acc, 'bo', label='Training acc')\n",
        "plt.plot(epochs, val_acc, 'b', label='Validation acc')\n",
        "plt.title('Training and validation accuracy')\n",
        "plt.legend()\n",
        "\n",
        "plt.figure()\n",
        "\n",
        "plt.plot(epochs, loss, 'bo', label='Training loss')\n",
        "plt.plot(epochs, val_loss, 'b', label='Validation loss')\n",
        "plt.title('Training and validation loss')\n",
        "plt.legend()\n",
        "\n",
        "plt.show()\n"
      ],
      "execution_count": 0,
      "outputs": [
        {
          "output_type": "display_data",
          "data": {
            "image/png": "[encoded data removed]",
            "text/plain": [
              "<Figure size 432x288 with 1 Axes>"
            ]
          },
          "metadata": {
            "tags": []
          }
        },
        {
          "output_type": "display_data",
          "data": {
            "image/png": "[encoded data removed]",
            "text/plain": [
              "<Figure size 432x288 with 1 Axes>"
            ]
          },
          "metadata": {
            "tags": []
          }
        }
      ]
    },
    {
      "cell_type": "code",
      "metadata": {
        "colab_type": "code",
        "id": "6ZsCzsRb6VDw",
        "colab": {}
      },
      "source": [
        "import pickle\n",
        "import pickle\n",
        "# save elmo_train_new\n",
        "pickle_out = open(\"/content/drive/My Drive/paper works/elmo_history.pickle\",\"wb\")\n",
        "pickle.dump(history, pickle_out)\n",
        "pickle_out.close()"
      ],
      "execution_count": 0,
      "outputs": []
    },
    {
      "cell_type": "code",
      "metadata": {
        "colab_type": "code",
        "id": "sIy5SgTr6VDt",
        "colab": {}
      },
      "source": [
        ""
      ],
      "execution_count": 0,
      "outputs": []
    },
    {
      "cell_type": "code",
      "metadata": {
        "colab_type": "code",
        "outputId": "0f2b7800-e753-4223-bec2-499099783879",
        "id": "OHoItsqK6VDq",
        "colab": {
          "base_uri": "https://localhost:8080/",
          "height": 34
        }
      },
      "source": [
        "y.shape"
      ],
      "execution_count": 0,
      "outputs": [
        {
          "output_type": "execute_result",
          "data": {
            "text/plain": [
              "(6298, 2)"
            ]
          },
          "metadata": {
            "tags": []
          },
          "execution_count": 33
        }
      ]
    },
    {
      "cell_type": "code",
      "metadata": {
        "colab_type": "code",
        "id": "uTpPPE2Q6VDl",
        "colab": {}
      },
      "source": [
        "from sklearn.model_selection import train_test_split"
      ],
      "execution_count": 0,
      "outputs": []
    },
    {
      "cell_type": "code",
      "metadata": {
        "colab_type": "code",
        "id": "1rJUcKiM6VDi",
        "colab": {}
      },
      "source": [
        "x1_train, x1_val,x2_train, x2_val,y_train, y_val =train_test_split(elmo_train_top,elmo_train_bm,y,test_size=0.2)\n",
        " "
      ],
      "execution_count": 0,
      "outputs": []
    },
    {
      "cell_type": "code",
      "metadata": {
        "colab_type": "code",
        "id": "rPGRc1mQ6VDf",
        "colab": {}
      },
      "source": [
        ""
      ],
      "execution_count": 0,
      "outputs": []
    },
    {
      "cell_type": "code",
      "metadata": {
        "colab_type": "code",
        "outputId": "9a3b1e5d-4b67-46f2-8a00-6fffc24627d0",
        "id": "EfriApWm6VDa",
        "colab": {
          "base_uri": "https://localhost:8080/",
          "height": 449
        }
      },
      "source": [
        "from sklearn import metrics\n",
        "y_test=model.predict([x1_val,x2_val])\n",
        "array= metrics.confusion_matrix(y_test.argmax(axis=1), y_val.argmax(axis=1))\n",
        "import seaborn as sn\n",
        "import pandas as pd\n",
        "import matplotlib.pyplot as plt\n",
        "\n",
        "df_cm = pd.DataFrame(array, index = [i for i in [\"Positive(1)\",\"Negative(0)\"]],\n",
        "                  columns = [i for i in [\"Positive(1)\",\"Negative(0)\"]])\n",
        "plt.figure(figsize = (10,7))\n",
        "sn.heatmap(df_cm, annot=True,)"
      ],
      "execution_count": 0,
      "outputs": [
        {
          "output_type": "execute_result",
          "data": {
            "text/plain": [
              "<matplotlib.axes._subplots.AxesSubplot at 0x7f3ca9552828>"
            ]
          },
          "metadata": {
            "tags": []
          },
          "execution_count": 35
        },
        {
          "output_type": "display_data",
          "data": {
            "image/png": "[encoded data removed]",
            "text/plain": [
              "<Figure size 720x504 with 2 Axes>"
            ]
          },
          "metadata": {
            "tags": []
          }
        }
      ]
    },
    {
      "cell_type": "code",
      "metadata": {
        "colab_type": "code",
        "id": "ZK_mYN-r6VDU",
        "colab": {}
      },
      "source": [
        "# from sklearn.metrics import classification_report"
      ],
      "execution_count": 0,
      "outputs": []
    },
    {
      "cell_type": "code",
      "metadata": {
        "colab_type": "code",
        "id": "3ImdA6Ea6VDO",
        "colab": {}
      },
      "source": [
        "# target_names=[\"fake\",\"real\"]"
      ],
      "execution_count": 0,
      "outputs": []
    },
    {
      "cell_type": "code",
      "metadata": {
        "colab_type": "code",
        "id": "7gq3Pr8o6VDD",
        "colab": {}
      },
      "source": [
        ""
      ],
      "execution_count": 0,
      "outputs": []
    },
    {
      "cell_type": "code",
      "metadata": {
        "colab_type": "code",
        "id": "YOvqulId6VC5",
        "colab": {}
      },
      "source": [
        "# print(classification_report(y_val, y_test, target_names=target_names))"
      ],
      "execution_count": 0,
      "outputs": []
    },
    {
      "cell_type": "code",
      "metadata": {
        "colab_type": "code",
        "id": "M_IWXTe36VCx",
        "colab": {}
      },
      "source": [
        ""
      ],
      "execution_count": 0,
      "outputs": []
    },
    {
      "cell_type": "code",
      "metadata": {
        "colab_type": "code",
        "id": "CIJvXhF06VCW",
        "colab": {}
      },
      "source": [
        ""
      ],
      "execution_count": 0,
      "outputs": []
    }
  ]
}