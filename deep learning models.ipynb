{
  "nbformat": 4,
  "nbformat_minor": 0,
  "metadata": {
    "kernelspec": {
      "name": "python3",
      "display_name": "Python 3"
    },
    "language_info": {
      "codemirror_mode": {
        "name": "ipython",
        "version": 3
      },
      "file_extension": ".py",
      "mimetype": "text/x-python",
      "name": "python",
      "nbconvert_exporter": "python",
      "pygments_lexer": "ipython3",
      "version": "3.7.3"
    },
    "colab": {
      "name": "keras models.ipynb",
      "version": "0.3.2",
      "provenance": [],
      "collapsed_sections": [
        "0hZcpNwtd3K5",
        "OJJ0wL1cd3LV",
        "gVAeCLKBd3NS",
        "JJfdIqqld3No",
        "_cdCcPrwd3OI",
        "_7m6DScYd3OK"
      ]
    },
    "accelerator": "GPU"
  },
  "cells": [
    {
      "cell_type": "code",
      "metadata": {
        "id": "ggd-NxaLd3Ka",
        "colab_type": "code",
        "outputId": "a67cd2d2-6cb1-47d5-dc58-5bf7cbbb070c",
        "colab": {
          "base_uri": "https://localhost:8080/",
          "height": 104
        }
      },
      "source": [
        "\n",
        "import matplotlib.pyplot as plt\n",
        "import keras\n",
        "import re \n",
        "import keras\n",
        "import numpy as np\n",
        "import pandas as pd \n",
        "import os\n",
        "from nltk.corpus import stopwords\n",
        "import nltk\n",
        "\n",
        "import re\n",
        "import time\n",
        "import pickle\n",
        "from nltk.stem import PorterStemmer\n",
        "import keras\n",
        "from keras.preprocessing.sequence import pad_sequences\n",
        "from keras.preprocessing.text import Tokenizer\n",
        "import nltk\n",
        "import spacy\n",
        "nltk.download('punkt')\n",
        "from nltk.tokenize import word_tokenize\n",
        "from sklearn.model_selection import train_test_split\n",
        "# from gensim.models import KeyedVectors\n",
        "nltk.download(\"stopwords\")\n",
        "stop_words = set(stopwords.words('english')) \n",
        "nlp = spacy.load('en', disable=['parser', 'ner'])"
      ],
      "execution_count": 0,
      "outputs": [
        {
          "output_type": "stream",
          "text": [
            "Using TensorFlow backend.\n"
          ],
          "name": "stderr"
        },
        {
          "output_type": "stream",
          "text": [
            "[nltk_data] Downloading package punkt to /root/nltk_data...\n",
            "[nltk_data]   Unzipping tokenizers/punkt.zip.\n",
            "[nltk_data] Downloading package stopwords to /root/nltk_data...\n",
            "[nltk_data]   Unzipping corpora/stopwords.zip.\n"
          ],
          "name": "stdout"
        }
      ]
    },
    {
      "cell_type": "markdown",
      "metadata": {
        "id": "9DAJuFcOrwYg",
        "colab_type": "text"
      },
      "source": [
        "# Loading data"
      ]
    },
    {
      "cell_type": "code",
      "metadata": {
        "id": "0ofVMuTOeHD7",
        "colab_type": "code",
        "outputId": "486a280f-24ad-4594-99db-6502278e7e9c",
        "colab": {
          "base_uri": "https://localhost:8080/",
          "height": 124
        }
      },
      "source": [
        "from google.colab import drive\n",
        "drive.mount('/content/drive')"
      ],
      "execution_count": 0,
      "outputs": [
        {
          "output_type": "stream",
          "text": [
            "Go to this URL in a browser: https://accounts.google.com/o/oauth2/auth?client_id=947318989803-6bn6qk8qdgf4n4g3pfee6491hc0brc4i.apps.googleusercontent.com&redirect_uri=urn%3Aietf%3Awg%3Aoauth%3A2.0%3Aoob&scope=email%20https%3A%2F%2Fwww.googleapis.com%2Fauth%2Fdocs.test%20https%3A%2F%2Fwww.googleapis.com%2Fauth%2Fdrive%20https%3A%2F%2Fwww.googleapis.com%2Fauth%2Fdrive.photos.readonly%20https%3A%2F%2Fwww.googleapis.com%2Fauth%2Fpeopleapi.readonly&response_type=code\n",
            "\n",
            "Enter your authorization code:\n",
            "··········\n",
            "Mounted at /content/drive\n"
          ],
          "name": "stdout"
        }
      ]
    },
    {
      "cell_type": "code",
      "metadata": {
        "id": "pIw8l4QAeHpu",
        "colab_type": "code",
        "colab": {}
      },
      "source": [
        ""
      ],
      "execution_count": 0,
      "outputs": []
    },
    {
      "cell_type": "code",
      "metadata": {
        "id": "q54SV-qnd3Kn",
        "colab_type": "code",
        "colab": {}
      },
      "source": [
        "\n",
        "\n",
        "\n",
        "\n",
        "def lemmatization(texts):\n",
        "    output = []\n",
        "    j=0\n",
        "    for i in texts:\n",
        "        print(j)\n",
        "        s = [token.lemma_ for token in nlp(i)]\n",
        "        output.append(' '.join(s))\n",
        "        j=j+1\n",
        "    return output\n",
        "  \n",
        "def remove_stop(example_sent):    \n",
        "    filtered_sentence=[]\n",
        "    word_tokens = word_tokenize(example_sent) \n",
        "  \n",
        "    filtered_sentence = [w for w in word_tokens if not w in stop_words]\n",
        "    return \" \".join(filtered_sentence)\n",
        "  \n",
        "def clean_text(text):\n",
        "    return ' '.join(re.sub(\"(RT|@[A-Za-z0-9]+)|([^0-9A-Za-z \\t])|(\\w+:\\/\\/\\S+)\", \" \",text).split())"
      ],
      "execution_count": 0,
      "outputs": []
    },
    {
      "cell_type": "code",
      "metadata": {
        "id": "5a0SDhdgd3Kw",
        "colab_type": "code",
        "colab": {}
      },
      "source": [
        "# lemmatization([\"hi this is doing\",\"fucking\"])"
      ],
      "execution_count": 0,
      "outputs": []
    },
    {
      "cell_type": "markdown",
      "metadata": {
        "id": "0hZcpNwtd3K5",
        "colab_type": "text"
      },
      "source": [
        "# preprocessing the dataset"
      ]
    },
    {
      "cell_type": "code",
      "metadata": {
        "id": "cxywde_nd3LB",
        "colab_type": "code",
        "colab": {}
      },
      "source": [
        "dataset=pd.read_csv(\"./data/train.csv\")\n",
        "del dataset[\"id\"]\n",
        "\n",
        "del dataset[\"title1_zh\"]\n",
        "del dataset[\"title2_zh\"] \n",
        "dataset[\"title1_en\"]=dataset[\"title1_en\"].apply(clean_text).apply(remove_stop)\n",
        "dataset[\"title2_en\"]=dataset[\"title2_en\"].apply(clean_text).apply(remove_stop)\n"
      ],
      "execution_count": 0,
      "outputs": []
    },
    {
      "cell_type": "code",
      "metadata": {
        "id": "7xkxnPgsd3LG",
        "colab_type": "code",
        "colab": {}
      },
      "source": [
        "\n",
        "# convert text to lowercase\n",
        "dataset['title1_en']= dataset['title1_en'].str.lower()\n",
        "dataset['title2_en']=dataset['title2_en'].str.lower()\n",
        "\n",
        "# remove numbers\n",
        "dataset['title1_en']= dataset['title1_en'].str.replace(\"[0-9]\", \" \")\n",
        "dataset['title2_en'] = dataset['title2_en'].str.replace(\"[0-9]\", \" \")"
      ],
      "execution_count": 0,
      "outputs": []
    },
    {
      "cell_type": "code",
      "metadata": {
        "id": "ObpyGu9Vd3LM",
        "colab_type": "code",
        "colab": {}
      },
      "source": [
        "dataset[\"title1_en\"]=lemmatization(dataset[\"title1_en\"])"
      ],
      "execution_count": 0,
      "outputs": []
    },
    {
      "cell_type": "code",
      "metadata": {
        "id": "UCF4I3Z4d3LQ",
        "colab_type": "code",
        "colab": {}
      },
      "source": [
        "dataset[\"title2_en\"]=lemmatization(dataset[\"title2_en\"])"
      ],
      "execution_count": 0,
      "outputs": []
    },
    {
      "cell_type": "markdown",
      "metadata": {
        "id": "OJJ0wL1cd3LV",
        "colab_type": "text"
      },
      "source": [
        "# Loading preprocessed data"
      ]
    },
    {
      "cell_type": "code",
      "metadata": {
        "id": "GimPHXWjd3LX",
        "colab_type": "code",
        "colab": {}
      },
      "source": [
        "#already preprocessed data\n",
        "dataset=pd.read_csv(\"/content/drive/My Drive/paper works/preprocessedData6000(1).csv\")\n",
        "del dataset[\"Unnamed: 0\"]"
      ],
      "execution_count": 0,
      "outputs": []
    },
    {
      "cell_type": "code",
      "metadata": {
        "id": "w75okesgd3Le",
        "colab_type": "code",
        "outputId": "ede2c43a-97f2-45b7-bdb7-1c5a4b29a8a4",
        "colab": {
          "base_uri": "https://localhost:8080/",
          "height": 677
        }
      },
      "source": [
        "dataset.head(20) \n",
        "# dataset.to_csv(\"./data/preprocessedData.csv\")\n"
      ],
      "execution_count": 0,
      "outputs": [
        {
          "output_type": "execute_result",
          "data": {
            "text/html": [
              "<div>\n",
              "<style scoped>\n",
              "    .dataframe tbody tr th:only-of-type {\n",
              "        vertical-align: middle;\n",
              "    }\n",
              "\n",
              "    .dataframe tbody tr th {\n",
              "        vertical-align: top;\n",
              "    }\n",
              "\n",
              "    .dataframe thead th {\n",
              "        text-align: right;\n",
              "    }\n",
              "</style>\n",
              "<table border=\"1\" class=\"dataframe\">\n",
              "  <thead>\n",
              "    <tr style=\"text-align: right;\">\n",
              "      <th></th>\n",
              "      <th>title</th>\n",
              "      <th>text</th>\n",
              "      <th>label</th>\n",
              "    </tr>\n",
              "  </thead>\n",
              "  <tbody>\n",
              "    <tr>\n",
              "      <th>0</th>\n",
              "      <td>-PRON- can smell hillary fear</td>\n",
              "      <td>daniel greenfield shillman journalism fellow f...</td>\n",
              "      <td>FAKE</td>\n",
              "    </tr>\n",
              "    <tr>\n",
              "      <th>1</th>\n",
              "      <td>watch the exact moment paul ryan commit politi...</td>\n",
              "      <td>google pinterest digg linkedin reddit stumbleu...</td>\n",
              "      <td>FAKE</td>\n",
              "    </tr>\n",
              "    <tr>\n",
              "      <th>2</th>\n",
              "      <td>kerry go paris gesture sympathy</td>\n",
              "      <td>u s secretary state john f kerry say monday st...</td>\n",
              "      <td>REAL</td>\n",
              "    </tr>\n",
              "    <tr>\n",
              "      <th>3</th>\n",
              "      <td>bernie supporter twitter erupt anger dnc -PRON...</td>\n",
              "      <td>kaydee king november         the lesson tonigh...</td>\n",
              "      <td>FAKE</td>\n",
              "    </tr>\n",
              "    <tr>\n",
              "      <th>4</th>\n",
              "      <td>the battle new york why this primary matter</td>\n",
              "      <td>-PRON- primary day new york front runner hilla...</td>\n",
              "      <td>REAL</td>\n",
              "    </tr>\n",
              "    <tr>\n",
              "      <th>5</th>\n",
              "      <td>tehran usa</td>\n",
              "      <td>i immigrant grandparent more     year ago arri...</td>\n",
              "      <td>FAKE</td>\n",
              "    </tr>\n",
              "    <tr>\n",
              "      <th>6</th>\n",
              "      <td>girl horrify at what -PRON- watch boyfriend do...</td>\n",
              "      <td>share this baylee luciani leave screenshot bay...</td>\n",
              "      <td>FAKE</td>\n",
              "    </tr>\n",
              "    <tr>\n",
              "      <th>7</th>\n",
              "      <td>britain schindler die</td>\n",
              "      <td>a czech stockbroker save      jewish child naz...</td>\n",
              "      <td>REAL</td>\n",
              "    </tr>\n",
              "    <tr>\n",
              "      <th>8</th>\n",
              "      <td>fact check trump clinton commander chief forum</td>\n",
              "      <td>hillary clinton donald trump make inaccurate c...</td>\n",
              "      <td>REAL</td>\n",
              "    </tr>\n",
              "    <tr>\n",
              "      <th>9</th>\n",
              "      <td>iran reportedly make new push uranium concessi...</td>\n",
              "      <td>iranian negotiator reportedly make last ditch ...</td>\n",
              "      <td>REAL</td>\n",
              "    </tr>\n",
              "    <tr>\n",
              "      <th>10</th>\n",
              "      <td>with three clinton iowa glimpse fire elude hil...</td>\n",
              "      <td>cedar rapid iowa i one wonderful rally entire ...</td>\n",
              "      <td>REAL</td>\n",
              "    </tr>\n",
              "    <tr>\n",
              "      <th>11</th>\n",
              "      <td>donald trump shockingly weak delegate game som...</td>\n",
              "      <td>donald trump organizational problem go bad bad...</td>\n",
              "      <td>REAL</td>\n",
              "    </tr>\n",
              "    <tr>\n",
              "      <th>12</th>\n",
              "      <td>strong solar storm tech risk today s   news oc...</td>\n",
              "      <td>click here to learn more about alexandra perso...</td>\n",
              "      <td>FAKE</td>\n",
              "    </tr>\n",
              "    <tr>\n",
              "      <th>13</th>\n",
              "      <td>way america be prepare world war</td>\n",
              "      <td>october               pretty factual except wo...</td>\n",
              "      <td>FAKE</td>\n",
              "    </tr>\n",
              "    <tr>\n",
              "      <th>14</th>\n",
              "      <td>trump take cruz lightly</td>\n",
              "      <td>kill obama administration rule dismantle obama...</td>\n",
              "      <td>REAL</td>\n",
              "    </tr>\n",
              "    <tr>\n",
              "      <th>15</th>\n",
              "      <td>how woman lead differently</td>\n",
              "      <td>as woman move high office often bring style ap...</td>\n",
              "      <td>REAL</td>\n",
              "    </tr>\n",
              "    <tr>\n",
              "      <th>16</th>\n",
              "      <td>shocking michele obama hillary catch glamorize...</td>\n",
              "      <td>shocking michele obama hillary catch glamorize...</td>\n",
              "      <td>FAKE</td>\n",
              "    </tr>\n",
              "    <tr>\n",
              "      <th>17</th>\n",
              "      <td>hillary clinton huge trouble after america not...</td>\n",
              "      <td>hillary clinton barely lose presidential el...</td>\n",
              "      <td>FAKE</td>\n",
              "    </tr>\n",
              "    <tr>\n",
              "      <th>18</th>\n",
              "      <td>what iran bill obama like</td>\n",
              "      <td>washington cnn for month white house congress ...</td>\n",
              "      <td>REAL</td>\n",
              "    </tr>\n",
              "    <tr>\n",
              "      <th>19</th>\n",
              "      <td>the    chart explain everything nee know parti...</td>\n",
              "      <td>while page pew good datum visualization       ...</td>\n",
              "      <td>REAL</td>\n",
              "    </tr>\n",
              "  </tbody>\n",
              "</table>\n",
              "</div>"
            ],
            "text/plain": [
              "                                                title  ... label\n",
              "0                       -PRON- can smell hillary fear  ...  FAKE\n",
              "1   watch the exact moment paul ryan commit politi...  ...  FAKE\n",
              "2                     kerry go paris gesture sympathy  ...  REAL\n",
              "3   bernie supporter twitter erupt anger dnc -PRON...  ...  FAKE\n",
              "4         the battle new york why this primary matter  ...  REAL\n",
              "5                                          tehran usa  ...  FAKE\n",
              "6   girl horrify at what -PRON- watch boyfriend do...  ...  FAKE\n",
              "7                           britain schindler die      ...  REAL\n",
              "8      fact check trump clinton commander chief forum  ...  REAL\n",
              "9   iran reportedly make new push uranium concessi...  ...  REAL\n",
              "10  with three clinton iowa glimpse fire elude hil...  ...  REAL\n",
              "11  donald trump shockingly weak delegate game som...  ...  REAL\n",
              "12  strong solar storm tech risk today s   news oc...  ...  FAKE\n",
              "13                 way america be prepare world war    ...  FAKE\n",
              "14                            trump take cruz lightly  ...  REAL\n",
              "15                         how woman lead differently  ...  REAL\n",
              "16  shocking michele obama hillary catch glamorize...  ...  FAKE\n",
              "17  hillary clinton huge trouble after america not...  ...  FAKE\n",
              "18                          what iran bill obama like  ...  REAL\n",
              "19  the    chart explain everything nee know parti...  ...  REAL\n",
              "\n",
              "[20 rows x 3 columns]"
            ]
          },
          "metadata": {
            "tags": []
          },
          "execution_count": 4
        }
      ]
    },
    {
      "cell_type": "code",
      "metadata": {
        "id": "MFKBBzkQd3Lk",
        "colab_type": "code",
        "outputId": "74672a34-0552-45c3-9d5c-bb9fd3d87c5e",
        "colab": {
          "base_uri": "https://localhost:8080/",
          "height": 34
        }
      },
      "source": [
        "len(dataset)"
      ],
      "execution_count": 0,
      "outputs": [
        {
          "output_type": "execute_result",
          "data": {
            "text/plain": [
              "6335"
            ]
          },
          "metadata": {
            "tags": []
          },
          "execution_count": 5
        }
      ]
    },
    {
      "cell_type": "code",
      "metadata": {
        "id": "-AlhQnKXd3Lq",
        "colab_type": "code",
        "colab": {}
      },
      "source": [
        "dataset.dropna(subset = ['title', 'text', 'label'],inplace=True)"
      ],
      "execution_count": 0,
      "outputs": []
    },
    {
      "cell_type": "code",
      "metadata": {
        "id": "U9nMS7upd3Lv",
        "colab_type": "code",
        "outputId": "4ac6df53-e857-46f2-c7bc-2aa35a08e746",
        "colab": {
          "base_uri": "https://localhost:8080/",
          "height": 72
        }
      },
      "source": [
        "\n",
        "dataset.title =dataset.title .astype(str)\n",
        "dataset.text_en =dataset.text .astype(str)"
      ],
      "execution_count": 0,
      "outputs": [
        {
          "output_type": "stream",
          "text": [
            "/usr/local/lib/python3.6/dist-packages/ipykernel_launcher.py:3: UserWarning: Pandas doesn't allow columns to be created via a new attribute name - see https://pandas.pydata.org/pandas-docs/stable/indexing.html#attribute-access\n",
            "  This is separate from the ipykernel package so we can avoid doing imports until\n"
          ],
          "name": "stderr"
        }
      ]
    },
    {
      "cell_type": "code",
      "metadata": {
        "id": "2r3X3i80d3L0",
        "colab_type": "code",
        "outputId": "96c2a278-76a5-43db-fbc7-aa28a517bccd",
        "colab": {
          "base_uri": "https://localhost:8080/",
          "height": 34
        }
      },
      "source": [
        "len(dataset)"
      ],
      "execution_count": 0,
      "outputs": [
        {
          "output_type": "execute_result",
          "data": {
            "text/plain": [
              "6298"
            ]
          },
          "metadata": {
            "tags": []
          },
          "execution_count": 5
        }
      ]
    },
    {
      "cell_type": "code",
      "metadata": {
        "id": "E_K_t3RDd3L4",
        "colab_type": "code",
        "outputId": "f0c7b5c4-d771-4456-d0da-0d05d98896ad",
        "colab": {
          "base_uri": "https://localhost:8080/",
          "height": 403
        }
      },
      "source": [
        "\n",
        "def eda(data):\n",
        "    dup_check = data['label'].value_counts()\n",
        "    plt.bar(dup_check.index, dup_check.values)\n",
        "    plt.ylabel('Number of Queries')\n",
        "    plt.xlabel('Is Duplicate')\n",
        "    plt.title('Data Distribution', fontsize = 18)\n",
        "    plt.show()\n",
        "    \n",
        "    print(\"\\nAbove Graph Features :  [fake news | not fake news]\\n\")\n",
        "    print(\"Above Graph Indices  : \", dup_check.index)\n",
        "    print(\"\\nAbove Graph Values   : \", dup_check.values)\n",
        "\n",
        "eda(dataset)"
      ],
      "execution_count": 0,
      "outputs": [
        {
          "output_type": "display_data",
          "data": {
            "image/png": "[encoded data removed]",
            "text/plain": [
              "<Figure size 432x288 with 1 Axes>"
            ]
          },
          "metadata": {
            "tags": []
          }
        },
        {
          "output_type": "stream",
          "text": [
            "\n",
            "Above Graph Features :  [fake news | not fake news]\n",
            "\n",
            "Above Graph Indices  :  Index(['REAL', 'FAKE'], dtype='object')\n",
            "\n",
            "Above Graph Values   :  [3171 3127]\n"
          ],
          "name": "stdout"
        }
      ]
    },
    {
      "cell_type": "code",
      "metadata": {
        "id": "7tiS18Kbd3L9",
        "colab_type": "code",
        "colab": {}
      },
      "source": [
        "MAX_NUM_WORDS = 10000\n",
        "MAX_SEQUENCE_LENGTH=20\n",
        "tokenizer = keras.preprocessing.text.Tokenizer(num_words=MAX_NUM_WORDS)"
      ],
      "execution_count": 0,
      "outputs": []
    },
    {
      "cell_type": "code",
      "metadata": {
        "id": "O337JC5id3MC",
        "colab_type": "code",
        "outputId": "282e179e-5827-42b1-e905-45206778adc8",
        "colab": {
          "base_uri": "https://localhost:8080/",
          "height": 34
        }
      },
      "source": [
        "corpus_x1 = dataset.title\n",
        "corpus_x2 = dataset.text\n",
        "corpus = pd.concat([\n",
        "    corpus_x1, corpus_x2])\n",
        "corpus.shape"
      ],
      "execution_count": 0,
      "outputs": [
        {
          "output_type": "execute_result",
          "data": {
            "text/plain": [
              "(12596,)"
            ]
          },
          "metadata": {
            "tags": []
          },
          "execution_count": 7
        }
      ]
    },
    {
      "cell_type": "code",
      "metadata": {
        "id": "CYsCREAUd3MI",
        "colab_type": "code",
        "colab": {}
      },
      "source": [
        "# corpus"
      ],
      "execution_count": 0,
      "outputs": []
    },
    {
      "cell_type": "code",
      "metadata": {
        "id": "udeLKNefd3MN",
        "colab_type": "code",
        "outputId": "796859c3-f3b9-4b57-cc47-e8464f6e8fe4",
        "colab": {
          "base_uri": "https://localhost:8080/",
          "height": 206
        }
      },
      "source": [
        "pd.DataFrame(corpus.iloc[:5],\n",
        "             columns=['title'])"
      ],
      "execution_count": 0,
      "outputs": [
        {
          "output_type": "execute_result",
          "data": {
            "text/html": [
              "<div>\n",
              "<style scoped>\n",
              "    .dataframe tbody tr th:only-of-type {\n",
              "        vertical-align: middle;\n",
              "    }\n",
              "\n",
              "    .dataframe tbody tr th {\n",
              "        vertical-align: top;\n",
              "    }\n",
              "\n",
              "    .dataframe thead th {\n",
              "        text-align: right;\n",
              "    }\n",
              "</style>\n",
              "<table border=\"1\" class=\"dataframe\">\n",
              "  <thead>\n",
              "    <tr style=\"text-align: right;\">\n",
              "      <th></th>\n",
              "      <th>title</th>\n",
              "    </tr>\n",
              "  </thead>\n",
              "  <tbody>\n",
              "    <tr>\n",
              "      <th>0</th>\n",
              "      <td>-PRON- can smell hillary fear</td>\n",
              "    </tr>\n",
              "    <tr>\n",
              "      <th>1</th>\n",
              "      <td>watch the exact moment paul ryan commit politi...</td>\n",
              "    </tr>\n",
              "    <tr>\n",
              "      <th>2</th>\n",
              "      <td>kerry go paris gesture sympathy</td>\n",
              "    </tr>\n",
              "    <tr>\n",
              "      <th>3</th>\n",
              "      <td>bernie supporter twitter erupt anger dnc -PRON...</td>\n",
              "    </tr>\n",
              "    <tr>\n",
              "      <th>4</th>\n",
              "      <td>the battle new york why this primary matter</td>\n",
              "    </tr>\n",
              "  </tbody>\n",
              "</table>\n",
              "</div>"
            ],
            "text/plain": [
              "                                               title\n",
              "0                      -PRON- can smell hillary fear\n",
              "1  watch the exact moment paul ryan commit politi...\n",
              "2                    kerry go paris gesture sympathy\n",
              "3  bernie supporter twitter erupt anger dnc -PRON...\n",
              "4        the battle new york why this primary matter"
            ]
          },
          "metadata": {
            "tags": []
          },
          "execution_count": 12
        }
      ]
    },
    {
      "cell_type": "code",
      "metadata": {
        "id": "vqn_dzQId3MT",
        "colab_type": "code",
        "colab": {}
      },
      "source": [
        "tokenizer.fit_on_texts(corpus)\n",
        "X1_train = tokenizer.texts_to_sequences(corpus_x1)\n",
        "X2_train = tokenizer.texts_to_sequences(corpus_x2)"
      ],
      "execution_count": 0,
      "outputs": []
    },
    {
      "cell_type": "code",
      "metadata": {
        "id": "5yLMw-Uod3MX",
        "colab_type": "code",
        "outputId": "9a0272e0-991a-4b0a-d359-402dc3ee9a68",
        "colab": {}
      },
      "source": [
        "\n",
        "\n",
        "len(X1_train)"
      ],
      "execution_count": 0,
      "outputs": [
        {
          "output_type": "execute_result",
          "data": {
            "text/plain": [
              "6298"
            ]
          },
          "metadata": {
            "tags": []
          },
          "execution_count": 13
        }
      ]
    },
    {
      "cell_type": "code",
      "metadata": {
        "id": "flro2emAd3Mb",
        "colab_type": "code",
        "outputId": "ca7eb233-71a6-4244-cc1a-392660c8f778",
        "colab": {}
      },
      "source": [
        "for seq in X2_train[:2]:\n",
        "    print([tokenizer.index_word[idx] for idx in seq])"
      ],
      "execution_count": 0,
      "outputs": [
        {
          "output_type": "stream",
          "text": [
            "['daniel', 'greenfield', 'journalism', 'fellow', 'freedom', 'center', 'new', 'york', 'writer', 'focus', 'radical', 'islam', 'in', 'final', 'stretch', 'election', 'hillary', 'rodham', 'clinton', 'go', 'war', 'fbi', 'the', 'word', 'unprecedented', 'throw', 'around', 'often', 'election', 'ought', 'retire', 'but', 'still', 'unprecedented', 'nominee', 'major', 'political', 'party', 'go', 'war', 'fbi', 'but', 'exactly', 'hillary', 'people', 'do', 'patient', 'wake', 'watch', 'hour', 'cnn', 'hospital', 'bed', 'would', 'assume', 'fbi', 'director', 'jame', 'comey', 'hillary', 'opponent', 'election', 'the', 'fbi', 'attack', 'everyone', 'obama', 'cnn', 'hillary', 'people', 'circulate', 'letter', 'attack', 'comey', 'there', 'currently', 'medium', 'hit', 'piece', 'lambaste', 'target', 'trump', 'pron', 'surprising', 'clinton', 'ally', 'start', 'run', 'attack', 'ad', 'fbi', 'the', 'fbi', 'leadership', 'warn', 'entire', 'left', 'wing', 'establishment', 'form', 'lynch', 'mob', 'continue', 'go', 'hillary', 'and', 'fbi', 'credibility', 'attack', 'medium', 'democrat', 'head', 'result', 'investigation', 'clinton', 'foundation', 'hillary', 'clinton', 'the', 'covert', 'struggle', 'fbi', 'agent', 'obama', 'doj', 'people', 'go', 'public', 'the', 'new', 'york', 'time', 'compare', 'comey', 'j', 'edgar', 'hoover', 'pron', 'bizarre', 'headline', 'jame', 'comey', 'role', 'recall', 'hoover', 'fbi', 'fairly', 'not', 'practically', 'admit', 'front', 'nonsense', 'the', 'boston', 'globe', 'publish', 'column', 'call', 'comey', 'resignation', 'not', 'time', 'editorial', 'scandal', 'really', 'attack', 'woman', 'jame', 'appear', 'msnbc', 'remind', 'everyone', 'still', 'alive', 'insane', 'pron', 'accuse', 'comey', 'coordinate', 'house', 'republican', 'kgb', 'and', 'think', 'vast', 'right', 'wing', 'conspiracy', 'stretch', 'countless', 'medium', 'story', 'charge', 'comey', 'violate', 'procedure', 'do', 'know', 'procedural', 'violation', 'email', 'classified', 'information', 'store', 'bathroom', 'server', 'senator', 'harry', 'reid', 'send', 'comey', 'letter', 'accuse', 'hatch', 'act', 'the', 'hatch', 'act', 'nice', 'idea', 'much', 'relevance', 'age', 'obama', 'tenth', 'amendment', 'but', 'cable', 'news', 'spectrum', 'quickly', 'fill', 'medium', 'hack', 'glance', 'wikipedia', 'article', 'hatch', 'act', 'table', 'accuse', 'fbi', 'director', 'one', 'awkward', 'conspiracy', 'hillary', 'ever', 'if', 'jame', 'comey', 'really', 'hurt', 'hillary', 'pick', 'one', 'hell', 'strange', 'way', 'not', 'long', 'ago', 'democrat', 'breathe', 'sigh', 'relief', 'give', 'hillary', 'clinton', 'pass', 'prominent', 'public', 'statement', 'if', 'really', 'elect', 'trump', 'keep', 'email', 'scandal', 'go', 'trash', 'investigation', 'be', 'payroll', 'house', 'republican', 'kgb', 'back', 'play', 'sudden', 'development', 'vladimir', 'putin', 'paul', 'ryan', 'talk', 'take', 'look', 'anthony', 'weiner', 'computer', 'either', 'comey', 'fbi', 'director', 'ever', 'live', 'try', 'navigate', 'political', 'mess', 'trap', 'doj', 'leadership', 'whose', 'political', 'future', 'tie', 'hillary', 'victory', 'bureau', 'whose', 'agent', 'want', 'allow', 'job', 'the', 'truly', 'mysterious', 'thing', 'hillary', 'associate', 'decide', 'go', 'war', 'respect', 'federal', 'agency', 'most', 'american', 'like', 'fbi', 'hillary', 'clinton', 'enjoy', 'unfavorable', 'rating', 'and', 'interesting', 'question', 'hillary', 'old', 'strategy', 'lie', 'deny', 'fbi', 'even', 'criminal', 'investigation', 'underway', 'instead', 'associate', 'insist', 'security', 'review', 'the', 'fbi', 'correct', 'shrug', 'but', 'old', 'denial', 'approach', 'give', 'way', 'savage', 'assault', 'fbi', 'pretend', 'nothing', 'wrong', 'bad', 'strategy', 'better', 'one', 'pick', 'fight', 'fbi', 'lunatic', 'clinton', 'associate', 'try', 'claim', 'fbi', 'really', 'kgb', 'there', 'two', 'possible', 'explanation', 'hillary', 'clinton', 'may', 'arrogant', 'enough', 'lash', 'fbi', 'believe', 'victory', 'near', 'the', 'kind', 'hubris', 'lead', 'plan', 'victory', 'firework', 'display', 'could', 'lead', 'declare', 'war', 'fbi', 'final', 'mile', 'campaign', 'but', 'explanation', 'people', 'panic', 'go', 'war', 'fbi', 'behavior', 'smart', 'focus', 'presidential', 'campaign', 'pron', 'act', 'desperation', 'when', 'presidential', 'candidate', 'decide', 'option', 'try', 'destroy', 'credibility', 'fbi', 'hubris', 'fear', 'fbi', 'may', 'reveal', 'during', 'original', 'fbi', 'investigation', 'hillary', 'clinton', 'confident', 'could', 'ride', 'and', 'good', 'reason', 'believe', 'but', 'hillary', 'clinton', 'go', 'in', 'place', 'paranoid', 'wreck', 'within', 'short', 'space', 'time', 'positive', 'clinton', 'campaign', 'promise', 'unite', 'country', 'replace', 'desperate', 'operation', 'focus', 'energy', 'fighting', 'fbi', 'there', 'one', 'reason', 'bizarre', 'behavior', 'the', 'clinton', 'campaign', 'decide', 'fbi', 'investigation', 'late', 'batch', 'email', 'pose', 'threat', 'survival', 'and', 'go', 'fight', 'fbi', 'pron', 'unprecedented', 'step', 'bear', 'fear', 'pron', 'hard', 'know', 'whether', 'fear', 'justify', 'but', 'existence', 'fear', 'already', 'tell', 'pron', 'whole', 'lot', 'clinton', 'loyalist', 'rig', 'old', 'investigation', 'pron', 'know', 'outcome', 'ahead', 'time', 'well', 'know', 'debate', 'question', 'now', 'suddenly', 'longer', 'control', 'and', 'afraid', 'pron', 'smell', 'fear', 'the', 'fbi', 'wiretap', 'investigation', 'clinton', 'foundation', 'pron', 'find', 'new', 'email', 'time', 'and', 'panic', 'the', 'claim', 'email', 'scandal', 'much', 'smoke', 'without', 'fire', 'all', 'appearance', 'without', 'substance', 'but', 'react', 'smoke', 'pron', 'respond', 'fire', 'the', 'misguided', 'assault', 'fbi', 'tell', 'pron', 'hillary', 'clinton', 'ally', 'afraid', 'revelation', 'big', 'fundamental', 'email', 'setup', 'the', 'email', 'setup', 'cover', 'the', 'clinton', 'campaign', 'panic', 'badly', 'belief', 'right', 'wrong', 'whatever', 'crime', 'illegal', 'setup', 'mean', 'cover', 'risk', 'expose', 'the', 'clinton', 'weather', 'countless', 'scandal', 'year', 'whatever', 'protect', 'time', 'around', 'big', 'usual', 'corruption', 'bribery', 'sexual', 'assault', 'abuse', 'power', 'follow', 'around', 'throughout', 'year', 'this', 'big', 'damaging', 'allegation', 'already', 'come', 'and', 'want', 'fbi', 'investigator', 'anywhere', 'near', 'the', 'campaign', 'comey', 'pure', 'intimidation', 'pron', 'also', 'warn', 'any', 'senior', 'fbi', 'people', 'value', 'career', 'warn', 'stay', 'away', 'the', 'democrat', 'close', 'rank', 'around', 'nominee', 'fbi', 'pron', 'ugly', 'unprecedented', 'scene', 'pron', 'may', 'also', 'last', 'stand', 'hillary', 'clinton', 'wind', 'way', 'numerous', 'scandal', 'election', 'cycle', 'but', 'never', 'show', 'fear', 'desperation', 'now', 'change', 'whatever', 'afraid', 'lie', 'bury', 'email', 'huma', 'abedin', 'and', 'bring', 'like', 'nothing', 'else']\n",
            "['google', 'pinterest', 'linkedin', 'reddit', 'print', 'delicious', 'pocket', 'there', 'two', 'fundamental', 'truth', 'world', 'paul', 'ryan', 'desperately', 'want', 'president', 'and', 'paul', 'ryan', 'never', 'president', 'today', 'prove', 'in', 'particularly', 'staggering', 'example', 'political', 'paul', 'ryan', 'reverse', 'course', 'announce', 'back', 'trump', 'train', 'this', 'week', 'ago', 'pron', 'previously', 'declare', 'would', 'support', 'defend', 'trump', 'tape', 'make', 'public', 'trump', 'brag', 'assault', 'woman', 'suddenly', 'ryan', 'appear', 'pro', 'trump', 'rally', 'declare', 'already', 'send', 'vote', 'make', 'president', 'unite', 'state', 'pron', 'surreal', 'moment', 'the', 'figurehead', 'republican', 'party', 'dose', 'gasoline', 'get', 'stage', 'afternoon', 'wisconsin', 'light', 'match', 'say', 'vote', 'republican', 'time', 'come', 'home', 'pic', 'twitt', 'com', 'a', 'i', 'abc', 'news', 'politic', 'november', 'the', 'democratic', 'party', 'ask', 'well', 'moment', 'film', 'ryan', 'chance', 'ever', 'become', 'president', 'go', 'zero', 'instant', 'in', 'wreckage', 'trump', 'leave', 'behind', 'wake', 'back', 'campaign', 'recover', 'if', 'ryan', 'career', 'manage', 'way', 'dnc', 'tape', 'lock', 'load', 'use', 'every', 'ad', 'election', 'day', 'the', 'ring', 'endorsement', 'man', 'clearly', 'hate', 'personal', 'level', 'speak', 'volume', 'ryan', 'posture', 'principle', 'conservative', 'one', 'uncomfortable', 'trump', 'unapologetic', 'bigotry', 'sexism', 'however', 'push', 'come', 'shove', 'paul', 'ryan', 'like', 'many', 'colleague', 'turn', 'after', 'lofty', 'conviction', 'principle', 'house', 'card', 'collapse', 'slight', 'what', 'especially', 'bizarre', 'close', 'ryan', 'come', 'make', 'for', 'month', 'speaker', 'house', 'refuse', 'comment', 'trump', 'pron', 'strategy', 'seem', 'keep', 'head', 'pretend', 'trump', 'exist', 'hope', 'nobody', 'remember', 'happen', 'now', 'day', 'away', 'election', 'screw', 'if', 'ugly', 'election', 'do', 'good', 'expose', 'utter', 'republican', 'moral', 'courage', 'a', 'reality', 'television', 'star', 'spit', 'hijack', 'party', 'insult', 'wife', 'get', 'every', 'last', 'one', 'what', 'turn', 'event', 'feature', 'image', 'via', 'twitter']\n"
          ],
          "name": "stdout"
        }
      ]
    },
    {
      "cell_type": "code",
      "metadata": {
        "id": "EqTEXeS6d3Mh",
        "colab_type": "code",
        "colab": {}
      },
      "source": [
        "MAX_SEQUENCE_LENGTH = 20\n",
        "x1_train = keras.preprocessing.sequence.pad_sequences(X1_train, \n",
        "                   maxlen=MAX_SEQUENCE_LENGTH)\n",
        "\n",
        "x2_train = keras.preprocessing.sequence.pad_sequences(X2_train, \n",
        "                   maxlen=MAX_SEQUENCE_LENGTH)"
      ],
      "execution_count": 0,
      "outputs": []
    },
    {
      "cell_type": "code",
      "metadata": {
        "id": "bsqtAC_gd3Mk",
        "colab_type": "code",
        "colab": {}
      },
      "source": [
        "# label_to_index = {\n",
        "#     'unrelated': 0, \n",
        "#     'agreed': 1, \n",
        "#     'disagreed': 2\n",
        "# }\n",
        "label_to_index={\n",
        "    \"REAL\":0,\n",
        "    \"FAKE\":1\n",
        "}\n"
      ],
      "execution_count": 0,
      "outputs": []
    },
    {
      "cell_type": "code",
      "metadata": {
        "id": "soXEU8FRd3Mp",
        "colab_type": "code",
        "outputId": "78048c40-57b2-4214-efdd-d1f42ecb1749",
        "colab": {
          "base_uri": "https://localhost:8080/",
          "height": 34
        }
      },
      "source": [
        "y_train = dataset.label.apply(\n",
        "    lambda x: label_to_index[x])\n",
        "y_train = np.asarray(y_train).astype('float32')\n",
        "\n",
        "y_train[:5]"
      ],
      "execution_count": 0,
      "outputs": [
        {
          "output_type": "execute_result",
          "data": {
            "text/plain": [
              "array([1., 1., 0., 1., 0.], dtype=float32)"
            ]
          },
          "metadata": {
            "tags": []
          },
          "execution_count": 11
        }
      ]
    },
    {
      "cell_type": "code",
      "metadata": {
        "id": "a2yB09v7d3Ms",
        "colab_type": "code",
        "outputId": "310b5510-6777-4ce3-e8c4-099486c840b7",
        "colab": {
          "base_uri": "https://localhost:8080/",
          "height": 52
        }
      },
      "source": [
        "dataset[\"label\"][:1]"
      ],
      "execution_count": 0,
      "outputs": [
        {
          "output_type": "execute_result",
          "data": {
            "text/plain": [
              "0    FAKE\n",
              "Name: label, dtype: object"
            ]
          },
          "metadata": {
            "tags": []
          },
          "execution_count": 12
        }
      ]
    },
    {
      "cell_type": "code",
      "metadata": {
        "id": "-5OtRCb_d3Mx",
        "colab_type": "code",
        "outputId": "7dad6840-1d34-4c87-f0e0-0972d4c5dced",
        "colab": {
          "base_uri": "https://localhost:8080/",
          "height": 104
        }
      },
      "source": [
        "y_train = keras.utils.to_categorical(y_train)\n",
        "y_train[:5]"
      ],
      "execution_count": 0,
      "outputs": [
        {
          "output_type": "execute_result",
          "data": {
            "text/plain": [
              "array([[0., 1.],\n",
              "       [0., 1.],\n",
              "       [1., 0.],\n",
              "       [0., 1.],\n",
              "       [1., 0.]], dtype=float32)"
            ]
          },
          "metadata": {
            "tags": []
          },
          "execution_count": 13
        }
      ]
    },
    {
      "cell_type": "code",
      "metadata": {
        "id": "DABWhIlad3M1",
        "colab_type": "code",
        "outputId": "d4a99361-c458-4616-f05c-b6363d76577f",
        "colab": {
          "base_uri": "https://localhost:8080/",
          "height": 34
        }
      },
      "source": [
        "x2_train.shape"
      ],
      "execution_count": 0,
      "outputs": [
        {
          "output_type": "execute_result",
          "data": {
            "text/plain": [
              "(6298, 20)"
            ]
          },
          "metadata": {
            "tags": []
          },
          "execution_count": 15
        }
      ]
    },
    {
      "cell_type": "code",
      "metadata": {
        "id": "T86uy-GCd3M5",
        "colab_type": "code",
        "outputId": "e2845461-f20a-4979-a607-ced75966c8be",
        "colab": {}
      },
      "source": [
        "x1_train.shape"
      ],
      "execution_count": 0,
      "outputs": [
        {
          "output_type": "execute_result",
          "data": {
            "text/plain": [
              "(6298, 20)"
            ]
          },
          "metadata": {
            "tags": []
          },
          "execution_count": 21
        }
      ]
    },
    {
      "cell_type": "code",
      "metadata": {
        "id": "kP1Z7NEAd3M9",
        "colab_type": "code",
        "colab": {}
      },
      "source": [
        "# y_train=y_train.reshape(-1,1)"
      ],
      "execution_count": 0,
      "outputs": []
    },
    {
      "cell_type": "code",
      "metadata": {
        "id": "5Bp8oYC2d3NB",
        "colab_type": "code",
        "colab": {}
      },
      "source": [
        "from sklearn.model_selection import train_test_split"
      ],
      "execution_count": 0,
      "outputs": []
    },
    {
      "cell_type": "code",
      "metadata": {
        "id": "GQLt_BqXd3ND",
        "colab_type": "code",
        "colab": {}
      },
      "source": [
        "x1_train, x1_val,x2_train, x2_val,y_train, y_val =train_test_split(x1_train,x2_train,y_train,test_size=0.2)\n",
        " "
      ],
      "execution_count": 0,
      "outputs": []
    },
    {
      "cell_type": "code",
      "metadata": {
        "id": "Gyx7OX_-d3NH",
        "colab_type": "code",
        "outputId": "24f933ce-951f-41f9-e23d-97130073ef05",
        "colab": {
          "base_uri": "https://localhost:8080/",
          "height": 34
        }
      },
      "source": [
        "x1_train.shape,y_train.shape,x1_val.shape,y_val.shape"
      ],
      "execution_count": 0,
      "outputs": [
        {
          "output_type": "execute_result",
          "data": {
            "text/plain": [
              "((5038, 20), (5038, 2), (1260, 20), (1260, 2))"
            ]
          },
          "metadata": {
            "tags": []
          },
          "execution_count": 16
        }
      ]
    },
    {
      "cell_type": "code",
      "metadata": {
        "id": "WY5DTvphd3NL",
        "colab_type": "code",
        "colab": {}
      },
      "source": [
        "# !wget https://s3.amazonaws.com/dl4j-distribution/GoogleNews-vectors-negative300.bin.gz"
      ],
      "execution_count": 0,
      "outputs": []
    },
    {
      "cell_type": "code",
      "metadata": {
        "id": "Eg8wgr8od3NN",
        "colab_type": "code",
        "colab": {}
      },
      "source": [
        "# from gensim.models import KeyedVectors"
      ],
      "execution_count": 0,
      "outputs": []
    },
    {
      "cell_type": "code",
      "metadata": {
        "id": "fzlNmfvCd3NQ",
        "colab_type": "code",
        "colab": {}
      },
      "source": [
        "\n",
        "# import time\n",
        "# tic=time.time()\n",
        "# model=KeyedVectors.load_word2vec_format(\"./GoogleNews-vectors-negative300.bin.gz\", binary=True)\n",
        "# toc=time.time()\n",
        "# print(str((toc-tic)/60)+\" mins\")"
      ],
      "execution_count": 0,
      "outputs": []
    },
    {
      "cell_type": "markdown",
      "metadata": {
        "id": "gVAeCLKBd3NS",
        "colab_type": "text"
      },
      "source": [
        "# GLoVE EMBEDDING"
      ]
    },
    {
      "cell_type": "code",
      "metadata": {
        "id": "0AW9UXuBd3NS",
        "colab_type": "code",
        "outputId": "8f3dcb6f-3724-46d1-cae4-bd6319958e68",
        "colab": {
          "base_uri": "https://localhost:8080/",
          "height": 52
        }
      },
      "source": [
        "\n",
        "tic=time.time()\n",
        "embeddings_index = {}\n",
        "f = open('/content/drive/My Drive/paper works/glove.6B.300d.txt',encoding='utf8')\n",
        "for line in f:\n",
        "    values = line.split()\n",
        "    word = values[0]\n",
        "    coefs = np.asarray(values[1:], dtype='float32')\n",
        "    embeddings_index[word] = coefs\n",
        "f.close()\n",
        "toc=time.time()\n",
        "print('Total %s word vectors in Glove 6B 300d.' % len(embeddings_index))\n",
        "print(str(toc-tic)+\" time\")\n"
      ],
      "execution_count": 0,
      "outputs": [
        {
          "output_type": "stream",
          "text": [
            "Total 400000 word vectors in Glove 6B 300d.\n",
            "38.70122146606445 time\n"
          ],
          "name": "stdout"
        }
      ]
    },
    {
      "cell_type": "code",
      "metadata": {
        "id": "Euos1GAdd3NW",
        "colab_type": "code",
        "colab": {}
      },
      "source": [
        "# \n"
      ],
      "execution_count": 0,
      "outputs": []
    },
    {
      "cell_type": "code",
      "metadata": {
        "id": "AuwziaBEd3NY",
        "colab_type": "code",
        "colab": {}
      },
      "source": [
        "word_index=tokenizer.index_word\n",
        "# word_index"
      ],
      "execution_count": 0,
      "outputs": []
    },
    {
      "cell_type": "code",
      "metadata": {
        "id": "8KrtAV_fd3Nb",
        "colab_type": "code",
        "colab": {}
      },
      "source": [
        "embedding_matrix = np.random.random((len(word_index) + 1, 300))\n",
        "for word, i in word_index.items():\n",
        "    embedding_vector = embeddings_index.get(word)\n",
        "    if embedding_vector is not None:\n",
        "        # words not found in embedding index will be all-zeros.\n",
        "        embedding_matrix[i] = embedding_vector"
      ],
      "execution_count": 0,
      "outputs": []
    },
    {
      "cell_type": "code",
      "metadata": {
        "id": "kCBznXWed3Ne",
        "colab_type": "code",
        "colab": {}
      },
      "source": [
        "# word_index"
      ],
      "execution_count": 0,
      "outputs": []
    },
    {
      "cell_type": "markdown",
      "metadata": {
        "id": "JJfdIqqld3No",
        "colab_type": "text"
      },
      "source": [
        "# Simase LSTM"
      ]
    },
    {
      "cell_type": "code",
      "metadata": {
        "id": "MylMHU6Ad3Nq",
        "colab_type": "code",
        "colab": {}
      },
      "source": [
        "from keras import Input,regularizers\n",
        "from keras.layers import Embedding,LSTM, concatenate, Dense,regularizers\n",
        "from keras.models import Model"
      ],
      "execution_count": 0,
      "outputs": []
    },
    {
      "cell_type": "code",
      "metadata": {
        "id": "zLgP6cKid3Nt",
        "colab_type": "code",
        "outputId": "6f127496-13f4-4b78-c62c-f6a15d48a4a7",
        "colab": {
          "base_uri": "https://localhost:8080/",
          "height": 124
        }
      },
      "source": [
        "top_input = Input(\n",
        "    shape=(MAX_SEQUENCE_LENGTH, ), \n",
        "    dtype='int32')\n",
        "bm_input = Input(\n",
        "    shape=(MAX_SEQUENCE_LENGTH, ), \n",
        "    dtype='int32')\n"
      ],
      "execution_count": 0,
      "outputs": [
        {
          "output_type": "stream",
          "text": [
            "WARNING: Logging before flag parsing goes to stderr.\n",
            "W0826 08:34:43.207332 140374265051008 deprecation_wrapper.py:119] From /usr/local/lib/python3.6/dist-packages/keras/backend/tensorflow_backend.py:74: The name tf.get_default_graph is deprecated. Please use tf.compat.v1.get_default_graph instead.\n",
            "\n",
            "W0826 08:34:43.250246 140374265051008 deprecation_wrapper.py:119] From /usr/local/lib/python3.6/dist-packages/keras/backend/tensorflow_backend.py:517: The name tf.placeholder is deprecated. Please use tf.compat.v1.placeholder instead.\n",
            "\n"
          ],
          "name": "stderr"
        }
      ]
    },
    {
      "cell_type": "code",
      "metadata": {
        "id": "4X9OeZr7d3Ny",
        "colab_type": "code",
        "colab": {}
      },
      "source": [
        "embedding_layer = Embedding(len(word_index) + 1,\n",
        "                            300,\n",
        "                            weights=[embedding_matrix],\n",
        "                            input_length=MAX_SEQUENCE_LENGTH,\n",
        "                            trainable=False)"
      ],
      "execution_count": 0,
      "outputs": []
    },
    {
      "cell_type": "code",
      "metadata": {
        "id": "D9IdOV0Wd3N0",
        "colab_type": "code",
        "outputId": "a6c47fce-d90c-469d-d5ec-1c84b6b9f491",
        "colab": {
          "base_uri": "https://localhost:8080/",
          "height": 141
        }
      },
      "source": [
        "top_embedded = embedding_layer(top_input)\n",
        "bm_embedded = embedding_layer(bm_input)"
      ],
      "execution_count": 0,
      "outputs": [
        {
          "output_type": "stream",
          "text": [
            "W0826 08:34:50.770539 140374265051008 deprecation_wrapper.py:119] From /usr/local/lib/python3.6/dist-packages/keras/backend/tensorflow_backend.py:4138: The name tf.random_uniform is deprecated. Please use tf.random.uniform instead.\n",
            "\n",
            "W0826 08:34:50.788404 140374265051008 deprecation_wrapper.py:119] From /usr/local/lib/python3.6/dist-packages/keras/backend/tensorflow_backend.py:174: The name tf.get_default_session is deprecated. Please use tf.compat.v1.get_default_session instead.\n",
            "\n",
            "W0826 08:34:50.789448 140374265051008 deprecation_wrapper.py:119] From /usr/local/lib/python3.6/dist-packages/keras/backend/tensorflow_backend.py:181: The name tf.ConfigProto is deprecated. Please use tf.compat.v1.ConfigProto instead.\n",
            "\n"
          ],
          "name": "stderr"
        }
      ]
    },
    {
      "cell_type": "code",
      "metadata": {
        "id": "cz5g_3PHd3N3",
        "colab_type": "code",
        "colab": {}
      },
      "source": [
        "shared_lstm = LSTM(128,kernel_regularizer=regularizers.l2(0.01))\n",
        "top_output = shared_lstm(top_embedded)\n",
        "bm_output = shared_lstm(bm_embedded)"
      ],
      "execution_count": 0,
      "outputs": []
    },
    {
      "cell_type": "code",
      "metadata": {
        "id": "-LQpPFAld3N5",
        "colab_type": "code",
        "colab": {}
      },
      "source": [
        "merged = concatenate([top_output, bm_output],axis=-1)"
      ],
      "execution_count": 0,
      "outputs": []
    },
    {
      "cell_type": "code",
      "metadata": {
        "id": "gxTN1Fopd3N7",
        "colab_type": "code",
        "colab": {}
      },
      "source": [
        "dense =  Dense(\n",
        "    units=2, \n",
        "    activation='softmax')\n",
        "predictions = dense(merged)"
      ],
      "execution_count": 0,
      "outputs": []
    },
    {
      "cell_type": "code",
      "metadata": {
        "id": "QOjrjr4-d3N_",
        "colab_type": "code",
        "colab": {}
      },
      "source": [
        "model = Model(\n",
        "    inputs=[top_input, bm_input], \n",
        "    outputs=predictions)"
      ],
      "execution_count": 0,
      "outputs": []
    },
    {
      "cell_type": "code",
      "metadata": {
        "id": "WfdSWWdhd3OB",
        "colab_type": "code",
        "outputId": "01048f47-3723-4bd1-fb10-1c8c31ecc0ff",
        "colab": {
          "base_uri": "https://localhost:8080/",
          "height": 399
        }
      },
      "source": [
        "model.summary()"
      ],
      "execution_count": 0,
      "outputs": [
        {
          "output_type": "stream",
          "text": [
            "__________________________________________________________________________________________________\n",
            "Layer (type)                    Output Shape         Param #     Connected to                     \n",
            "==================================================================================================\n",
            "input_1 (InputLayer)            (None, 20)           0                                            \n",
            "__________________________________________________________________________________________________\n",
            "input_2 (InputLayer)            (None, 20)           0                                            \n",
            "__________________________________________________________________________________________________\n",
            "embedding_1 (Embedding)         (None, 20, 300)      15825000    input_1[0][0]                    \n",
            "                                                                 input_2[0][0]                    \n",
            "__________________________________________________________________________________________________\n",
            "lstm_2 (LSTM)                   (None, 128)          219648      embedding_1[0][0]                \n",
            "                                                                 embedding_1[1][0]                \n",
            "__________________________________________________________________________________________________\n",
            "concatenate_1 (Concatenate)     (None, 256)          0           lstm_2[0][0]                     \n",
            "                                                                 lstm_2[1][0]                     \n",
            "__________________________________________________________________________________________________\n",
            "dense_1 (Dense)                 (None, 2)            514         concatenate_1[0][0]              \n",
            "==================================================================================================\n",
            "Total params: 16,045,162\n",
            "Trainable params: 220,162\n",
            "Non-trainable params: 15,825,000\n",
            "__________________________________________________________________________________________________\n"
          ],
          "name": "stdout"
        }
      ]
    },
    {
      "cell_type": "code",
      "metadata": {
        "id": "M99r3O5Wd3OE",
        "colab_type": "code",
        "outputId": "b034b9f5-37de-4118-8ba7-9c9684469a59",
        "colab": {
          "base_uri": "https://localhost:8080/",
          "height": 72
        }
      },
      "source": [
        "from keras.optimizers import Adam\n",
        "lr = 1e-3\n",
        "opt = Adam(lr=lr, decay=lr/50)\n",
        "model.compile(\n",
        "    optimizer='adam',\n",
        "    loss='categorical_crossentropy',\n",
        "    metrics=['accuracy'])\n"
      ],
      "execution_count": 0,
      "outputs": [
        {
          "output_type": "stream",
          "text": [
            "W0826 08:35:29.775227 140374265051008 deprecation_wrapper.py:119] From /usr/local/lib/python3.6/dist-packages/keras/optimizers.py:790: The name tf.train.Optimizer is deprecated. Please use tf.compat.v1.train.Optimizer instead.\n",
            "\n"
          ],
          "name": "stderr"
        }
      ]
    },
    {
      "cell_type": "code",
      "metadata": {
        "id": "4Scd6zXUgWka",
        "colab_type": "code",
        "colab": {}
      },
      "source": [
        "file=open('/content/drive/My Drive/paper works/saved models/model_lstm.hdf5',\"a\")"
      ],
      "execution_count": 0,
      "outputs": []
    },
    {
      "cell_type": "code",
      "metadata": {
        "id": "hlBfRAmld3OF",
        "colab_type": "code",
        "outputId": "03d025b2-5f69-41eb-c659-4b875995091f",
        "colab": {
          "base_uri": "https://localhost:8080/",
          "height": 1000
        }
      },
      "source": [
        "\n",
        "from keras.callbacks import ModelCheckpoint\n",
        "cp=ModelCheckpoint('/content/drive/My Drive/paper works/saved models/model_lstm.hdf5',monitor='val_acc',verbose=1,save_best_only=True)\n",
        "history = model.fit(\n",
        "    x=[x1_train, x2_train],y=y_train,batch_size=64,epochs=50,validation_data=([x1_val, x2_val],y_val),\n",
        "    shuffle=True,callbacks=[cp])"
      ],
      "execution_count": 0,
      "outputs": [
        {
          "output_type": "stream",
          "text": [
            "W0826 08:35:38.448079 140374265051008 deprecation.py:323] From /usr/local/lib/python3.6/dist-packages/tensorflow/python/ops/math_grad.py:1250: add_dispatch_support.<locals>.wrapper (from tensorflow.python.ops.array_ops) is deprecated and will be removed in a future version.\n",
            "Instructions for updating:\n",
            "Use tf.where in 2.0, which has the same broadcast rule as np.where\n"
          ],
          "name": "stderr"
        },
        {
          "output_type": "stream",
          "text": [
            "Train on 5038 samples, validate on 1260 samples\n",
            "Epoch 1/50\n",
            "5038/5038 [==============================] - 9s 2ms/step - loss: 2.4946 - acc: 0.5859 - val_loss: 1.2633 - val_acc: 0.6873\n",
            "\n",
            "Epoch 00001: val_acc improved from -inf to 0.68730, saving model to /content/drive/My Drive/paper works/saved models/model_lstm.hdf5\n",
            "Epoch 2/50\n",
            "5038/5038 [==============================] - 7s 1ms/step - loss: 0.9758 - acc: 0.6737 - val_loss: 0.8486 - val_acc: 0.6349\n",
            "\n",
            "Epoch 00002: val_acc did not improve from 0.68730\n",
            "Epoch 3/50\n",
            "5038/5038 [==============================] - 8s 2ms/step - loss: 0.7224 - acc: 0.7170 - val_loss: 0.7792 - val_acc: 0.6063\n",
            "\n",
            "Epoch 00003: val_acc did not improve from 0.68730\n",
            "Epoch 4/50\n",
            "5038/5038 [==============================] - 7s 1ms/step - loss: 0.6511 - acc: 0.7295 - val_loss: 0.6898 - val_acc: 0.6754\n",
            "\n",
            "Epoch 00004: val_acc did not improve from 0.68730\n",
            "Epoch 5/50\n",
            "5038/5038 [==============================] - 7s 1ms/step - loss: 0.5900 - acc: 0.7503 - val_loss: 0.6266 - val_acc: 0.7071\n",
            "\n",
            "Epoch 00005: val_acc improved from 0.68730 to 0.70714, saving model to /content/drive/My Drive/paper works/saved models/model_lstm.hdf5\n",
            "Epoch 6/50\n",
            "5038/5038 [==============================] - 7s 1ms/step - loss: 0.5690 - acc: 0.7590 - val_loss: 0.6003 - val_acc: 0.7278\n",
            "\n",
            "Epoch 00006: val_acc improved from 0.70714 to 0.72778, saving model to /content/drive/My Drive/paper works/saved models/model_lstm.hdf5\n",
            "Epoch 7/50\n",
            "5038/5038 [==============================] - 8s 2ms/step - loss: 0.5554 - acc: 0.7686 - val_loss: 0.6040 - val_acc: 0.7365\n",
            "\n",
            "Epoch 00007: val_acc improved from 0.72778 to 0.73651, saving model to /content/drive/My Drive/paper works/saved models/model_lstm.hdf5\n",
            "Epoch 8/50\n",
            "5038/5038 [==============================] - 7s 1ms/step - loss: 0.5345 - acc: 0.7751 - val_loss: 0.6187 - val_acc: 0.7294\n",
            "\n",
            "Epoch 00008: val_acc did not improve from 0.73651\n",
            "Epoch 9/50\n",
            "5038/5038 [==============================] - 8s 2ms/step - loss: 0.5231 - acc: 0.7809 - val_loss: 0.5950 - val_acc: 0.7365\n",
            "\n",
            "Epoch 00009: val_acc improved from 0.73651 to 0.73651, saving model to /content/drive/My Drive/paper works/saved models/model_lstm.hdf5\n",
            "Epoch 10/50\n",
            "5038/5038 [==============================] - 8s 1ms/step - loss: 0.5029 - acc: 0.7936 - val_loss: 0.5751 - val_acc: 0.7484\n",
            "\n",
            "Epoch 00010: val_acc improved from 0.73651 to 0.74841, saving model to /content/drive/My Drive/paper works/saved models/model_lstm.hdf5\n",
            "Epoch 11/50\n",
            "5038/5038 [==============================] - 7s 1ms/step - loss: 0.4903 - acc: 0.8009 - val_loss: 0.5633 - val_acc: 0.7508\n",
            "\n",
            "Epoch 00011: val_acc improved from 0.74841 to 0.75079, saving model to /content/drive/My Drive/paper works/saved models/model_lstm.hdf5\n",
            "Epoch 12/50\n",
            "5038/5038 [==============================] - 8s 1ms/step - loss: 0.4547 - acc: 0.8158 - val_loss: 0.6526 - val_acc: 0.7310\n",
            "\n",
            "Epoch 00012: val_acc did not improve from 0.75079\n",
            "Epoch 13/50\n",
            "5038/5038 [==============================] - 8s 2ms/step - loss: 0.4878 - acc: 0.8116 - val_loss: 0.6149 - val_acc: 0.7048\n",
            "\n",
            "Epoch 00013: val_acc did not improve from 0.75079\n",
            "Epoch 14/50\n",
            "5038/5038 [==============================] - 8s 1ms/step - loss: 0.4725 - acc: 0.8092 - val_loss: 0.5757 - val_acc: 0.7429\n",
            "\n",
            "Epoch 00014: val_acc did not improve from 0.75079\n",
            "Epoch 15/50\n",
            "5038/5038 [==============================] - 7s 1ms/step - loss: 0.4552 - acc: 0.8249 - val_loss: 0.6002 - val_acc: 0.7286\n",
            "\n",
            "Epoch 00015: val_acc did not improve from 0.75079\n",
            "Epoch 16/50\n",
            "5038/5038 [==============================] - 7s 1ms/step - loss: 0.4554 - acc: 0.8216 - val_loss: 0.5753 - val_acc: 0.7667\n",
            "\n",
            "Epoch 00016: val_acc improved from 0.75079 to 0.76667, saving model to /content/drive/My Drive/paper works/saved models/model_lstm.hdf5\n",
            "Epoch 17/50\n",
            "5038/5038 [==============================] - 7s 1ms/step - loss: 0.4299 - acc: 0.8404 - val_loss: 0.5700 - val_acc: 0.7611\n",
            "\n",
            "Epoch 00017: val_acc did not improve from 0.76667\n",
            "Epoch 18/50\n",
            "5038/5038 [==============================] - 8s 2ms/step - loss: 0.4024 - acc: 0.8551 - val_loss: 0.5846 - val_acc: 0.7603\n",
            "\n",
            "Epoch 00018: val_acc did not improve from 0.76667\n",
            "Epoch 19/50\n",
            "5038/5038 [==============================] - 8s 1ms/step - loss: 0.4273 - acc: 0.8414 - val_loss: 0.6017 - val_acc: 0.7611\n",
            "\n",
            "Epoch 00019: val_acc did not improve from 0.76667\n",
            "Epoch 20/50\n",
            "5038/5038 [==============================] - 7s 1ms/step - loss: 0.4318 - acc: 0.8424 - val_loss: 0.6018 - val_acc: 0.7738\n",
            "\n",
            "Epoch 00020: val_acc improved from 0.76667 to 0.77381, saving model to /content/drive/My Drive/paper works/saved models/model_lstm.hdf5\n",
            "Epoch 21/50\n",
            "5038/5038 [==============================] - 7s 1ms/step - loss: 0.3910 - acc: 0.8557 - val_loss: 0.6222 - val_acc: 0.7357\n",
            "\n",
            "Epoch 00021: val_acc did not improve from 0.77381\n",
            "Epoch 22/50\n",
            "5038/5038 [==============================] - 8s 2ms/step - loss: 0.3793 - acc: 0.8624 - val_loss: 0.6400 - val_acc: 0.7262\n",
            "\n",
            "Epoch 00022: val_acc did not improve from 0.77381\n",
            "Epoch 23/50\n",
            "5038/5038 [==============================] - 7s 1ms/step - loss: 0.3730 - acc: 0.8730 - val_loss: 0.6176 - val_acc: 0.7516\n",
            "\n",
            "Epoch 00023: val_acc did not improve from 0.77381\n",
            "Epoch 24/50\n",
            "5038/5038 [==============================] - 7s 1ms/step - loss: 0.3429 - acc: 0.8863 - val_loss: 0.6943 - val_acc: 0.7262\n",
            "\n",
            "Epoch 00024: val_acc did not improve from 0.77381\n",
            "Epoch 25/50\n",
            "5038/5038 [==============================] - 7s 1ms/step - loss: 0.3287 - acc: 0.8946 - val_loss: 0.6424 - val_acc: 0.7619\n",
            "\n",
            "Epoch 00025: val_acc did not improve from 0.77381\n",
            "Epoch 26/50\n",
            "5038/5038 [==============================] - 7s 1ms/step - loss: 0.3191 - acc: 0.8974 - val_loss: 0.6494 - val_acc: 0.7508\n",
            "\n",
            "Epoch 00026: val_acc did not improve from 0.77381\n",
            "Epoch 27/50\n",
            "5038/5038 [==============================] - 7s 1ms/step - loss: 0.3041 - acc: 0.9069 - val_loss: 0.6921 - val_acc: 0.7675\n",
            "\n",
            "Epoch 00027: val_acc did not improve from 0.77381\n",
            "Epoch 28/50\n",
            "5038/5038 [==============================] - 7s 1ms/step - loss: 0.3097 - acc: 0.9037 - val_loss: 0.6961 - val_acc: 0.7444\n",
            "\n",
            "Epoch 00028: val_acc did not improve from 0.77381\n",
            "Epoch 29/50\n",
            "5038/5038 [==============================] - 7s 1ms/step - loss: 0.2933 - acc: 0.9174 - val_loss: 0.7202 - val_acc: 0.7278\n",
            "\n",
            "Epoch 00029: val_acc did not improve from 0.77381\n",
            "Epoch 30/50\n",
            "5038/5038 [==============================] - 7s 1ms/step - loss: 0.2775 - acc: 0.9222 - val_loss: 0.7035 - val_acc: 0.7532\n",
            "\n",
            "Epoch 00030: val_acc did not improve from 0.77381\n",
            "Epoch 31/50\n",
            "5038/5038 [==============================] - 7s 1ms/step - loss: 0.2944 - acc: 0.9113 - val_loss: 0.7207 - val_acc: 0.7381\n",
            "\n",
            "Epoch 00031: val_acc did not improve from 0.77381\n",
            "Epoch 32/50\n",
            "5038/5038 [==============================] - 7s 1ms/step - loss: 0.2658 - acc: 0.9285 - val_loss: 0.6976 - val_acc: 0.7500\n",
            "\n",
            "Epoch 00032: val_acc did not improve from 0.77381\n",
            "Epoch 33/50\n",
            "5038/5038 [==============================] - 7s 1ms/step - loss: 0.2468 - acc: 0.9361 - val_loss: 0.8114 - val_acc: 0.7516\n",
            "\n",
            "Epoch 00033: val_acc did not improve from 0.77381\n",
            "Epoch 34/50\n",
            "5038/5038 [==============================] - 7s 1ms/step - loss: 0.2332 - acc: 0.9446 - val_loss: 0.8256 - val_acc: 0.7484\n",
            "\n",
            "Epoch 00034: val_acc did not improve from 0.77381\n",
            "Epoch 35/50\n",
            "5038/5038 [==============================] - 7s 1ms/step - loss: 0.2357 - acc: 0.9450 - val_loss: 0.7794 - val_acc: 0.7556\n",
            "\n",
            "Epoch 00035: val_acc did not improve from 0.77381\n",
            "Epoch 36/50\n",
            "5038/5038 [==============================] - 7s 1ms/step - loss: 0.2837 - acc: 0.9220 - val_loss: 0.9109 - val_acc: 0.7278\n",
            "\n",
            "Epoch 00036: val_acc did not improve from 0.77381\n",
            "Epoch 37/50\n",
            "5038/5038 [==============================] - 7s 1ms/step - loss: 0.2280 - acc: 0.9502 - val_loss: 0.8523 - val_acc: 0.7278\n",
            "\n",
            "Epoch 00037: val_acc did not improve from 0.77381\n",
            "Epoch 38/50\n",
            "5038/5038 [==============================] - 7s 1ms/step - loss: 0.2208 - acc: 0.9545 - val_loss: 0.8226 - val_acc: 0.7444\n",
            "\n",
            "Epoch 00038: val_acc did not improve from 0.77381\n",
            "Epoch 39/50\n",
            "5038/5038 [==============================] - 7s 1ms/step - loss: 0.2242 - acc: 0.9553 - val_loss: 0.8695 - val_acc: 0.7444\n",
            "\n",
            "Epoch 00039: val_acc did not improve from 0.77381\n",
            "Epoch 40/50\n",
            "5038/5038 [==============================] - 7s 1ms/step - loss: 0.1985 - acc: 0.9623 - val_loss: 0.8904 - val_acc: 0.7540\n",
            "\n",
            "Epoch 00040: val_acc did not improve from 0.77381\n",
            "Epoch 41/50\n",
            "5038/5038 [==============================] - 7s 1ms/step - loss: 0.1882 - acc: 0.9700 - val_loss: 0.9227 - val_acc: 0.7532\n",
            "\n",
            "Epoch 00041: val_acc did not improve from 0.77381\n",
            "Epoch 42/50\n",
            "5038/5038 [==============================] - 7s 1ms/step - loss: 0.1868 - acc: 0.9643 - val_loss: 0.9748 - val_acc: 0.7524\n",
            "\n",
            "Epoch 00042: val_acc did not improve from 0.77381\n",
            "Epoch 43/50\n",
            "5038/5038 [==============================] - 7s 1ms/step - loss: 0.1753 - acc: 0.9728 - val_loss: 0.9466 - val_acc: 0.7397\n",
            "\n",
            "Epoch 00043: val_acc did not improve from 0.77381\n",
            "Epoch 44/50\n",
            "5038/5038 [==============================] - 7s 1ms/step - loss: 0.1707 - acc: 0.9750 - val_loss: 0.9444 - val_acc: 0.7532\n",
            "\n",
            "Epoch 00044: val_acc did not improve from 0.77381\n",
            "Epoch 45/50\n",
            "5038/5038 [==============================] - 7s 1ms/step - loss: 0.1781 - acc: 0.9688 - val_loss: 0.9874 - val_acc: 0.7579\n",
            "\n",
            "Epoch 00045: val_acc did not improve from 0.77381\n",
            "Epoch 46/50\n",
            "5038/5038 [==============================] - 7s 1ms/step - loss: 0.1768 - acc: 0.9690 - val_loss: 0.9882 - val_acc: 0.7421\n",
            "\n",
            "Epoch 00046: val_acc did not improve from 0.77381\n",
            "Epoch 47/50\n",
            "5038/5038 [==============================] - 7s 1ms/step - loss: 0.1575 - acc: 0.9803 - val_loss: 1.0310 - val_acc: 0.7508\n",
            "\n",
            "Epoch 00047: val_acc did not improve from 0.77381\n",
            "Epoch 48/50\n",
            "5038/5038 [==============================] - 7s 1ms/step - loss: 0.1739 - acc: 0.9718 - val_loss: 0.9601 - val_acc: 0.7548\n",
            "\n",
            "Epoch 00048: val_acc did not improve from 0.77381\n",
            "Epoch 49/50\n",
            "5038/5038 [==============================] - 7s 1ms/step - loss: 0.1836 - acc: 0.9655 - val_loss: 1.0379 - val_acc: 0.7381\n",
            "\n",
            "Epoch 00049: val_acc did not improve from 0.77381\n",
            "Epoch 50/50\n",
            "5038/5038 [==============================] - 7s 1ms/step - loss: 0.1596 - acc: 0.9798 - val_loss: 1.0957 - val_acc: 0.7444\n",
            "\n",
            "Epoch 00050: val_acc did not improve from 0.77381\n"
          ],
          "name": "stdout"
        }
      ]
    },
    {
      "cell_type": "markdown",
      "metadata": {
        "id": "_cdCcPrwd3OI",
        "colab_type": "text"
      },
      "source": [
        "# Results"
      ]
    },
    {
      "cell_type": "markdown",
      "metadata": {
        "id": "KTDVbLOdq_jB",
        "colab_type": "text"
      },
      "source": [
        "**ACCURACY LOSS CURVE**"
      ]
    },
    {
      "cell_type": "code",
      "metadata": {
        "id": "LKXQKxJed3OJ",
        "colab_type": "code",
        "outputId": "e289dcd2-2210-47f5-d797-e5c16301d0bf",
        "colab": {
          "base_uri": "https://localhost:8080/",
          "height": 545
        }
      },
      "source": [
        "import matplotlib.pyplot as plt\n",
        "\n",
        "acc = history.history['acc']\n",
        "val_acc = history.history['val_acc']\n",
        "loss = history.history['loss']\n",
        "val_loss = history.history['val_loss']\n",
        "\n",
        "epochs = range(len(acc))\n",
        "\n",
        "plt.plot(epochs, acc, 'bo', label='Training acc')\n",
        "plt.plot(epochs, val_acc, 'b', label='Validation acc')\n",
        "plt.title('Training and validation accuracy')\n",
        "plt.legend()\n",
        "\n",
        "plt.figure()\n",
        "\n",
        "plt.plot(epochs, loss, 'bo', label='Training loss')\n",
        "plt.plot(epochs, val_loss, 'b', label='Validation loss')\n",
        "plt.title('Training and validation loss')\n",
        "plt.legend()\n",
        "\n",
        "plt.show()\n"
      ],
      "execution_count": 0,
      "outputs": [
        {
          "output_type": "display_data",
          "data": {
            "image/png": "[encoded data removed]",
            "text/plain": [
              "<Figure size 432x288 with 1 Axes>"
            ]
          },
          "metadata": {
            "tags": []
          }
        },
        {
          "output_type": "display_data",
          "data": {
            "image/png": "[encoded data removed]",
            "text/plain": [
              "<Figure size 432x288 with 1 Axes>"
            ]
          },
          "metadata": {
            "tags": []
          }
        }
      ]
    },
    {
      "cell_type": "markdown",
      "metadata": {
        "id": "6o-o293PrFPo",
        "colab_type": "text"
      },
      "source": [
        "**Confusion matrix**"
      ]
    },
    {
      "cell_type": "code",
      "metadata": {
        "id": "UGLRq2Tsq9mx",
        "colab_type": "code",
        "outputId": "12c07967-be86-4556-a43b-f8e25648fa70",
        "colab": {
          "base_uri": "https://localhost:8080/",
          "height": 449
        }
      },
      "source": [
        "from sklearn import metrics\n",
        "y_test=model.predict([x1_val,x2_val])\n",
        "array= metrics.confusion_matrix(y_test.argmax(axis=1), y_val.argmax(axis=1))\n",
        "import seaborn as sn\n",
        "import pandas as pd\n",
        "import matplotlib.pyplot as plt\n",
        "\n",
        "df_cm = pd.DataFrame(array, index = [i for i in [\"Positive(1)\",\"Negative(0)\"]],\n",
        "                  columns = [i for i in [\"Positive(1)\",\"Negative(0)\"]])\n",
        "plt.figure(figsize = (10,7))\n",
        "sn.heatmap(df_cm, annot=True,)"
      ],
      "execution_count": 0,
      "outputs": [
        {
          "output_type": "execute_result",
          "data": {
            "text/plain": [
              "<matplotlib.axes._subplots.AxesSubplot at 0x7faa70031550>"
            ]
          },
          "metadata": {
            "tags": []
          },
          "execution_count": 34
        },
        {
          "output_type": "display_data",
          "data": {
            "image/png": "[encoded data removed]",
            "text/plain": [
              "<Figure size 720x504 with 2 Axes>"
            ]
          },
          "metadata": {
            "tags": []
          }
        }
      ]
    },
    {
      "cell_type": "markdown",
      "metadata": {
        "id": "_7m6DScYd3OK",
        "colab_type": "text"
      },
      "source": [
        "# Simase CNN"
      ]
    },
    {
      "cell_type": "code",
      "metadata": {
        "id": "hRnvfFrld3OK",
        "colab_type": "code",
        "colab": {}
      },
      "source": [
        "from keras import Input\n",
        "from keras.layers import Embedding,LSTM, concatenate, Dense,Conv1D,MaxPooling1D,ReLU,Dropout,Flatten\n",
        "from keras.models import Model"
      ],
      "execution_count": 0,
      "outputs": []
    },
    {
      "cell_type": "code",
      "metadata": {
        "id": "OFwAVVaAd3ON",
        "colab_type": "code",
        "outputId": "f634a6ca-36cd-469b-a320-537806cb826d",
        "colab": {
          "base_uri": "https://localhost:8080/",
          "height": 124
        }
      },
      "source": [
        "top_input = Input(shape=(MAX_SEQUENCE_LENGTH, ),dtype='int32')\n",
        "bm_input = Input(shape=(MAX_SEQUENCE_LENGTH, ),dtype='int32')"
      ],
      "execution_count": 0,
      "outputs": [
        {
          "output_type": "stream",
          "text": [
            "WARNING: Logging before flag parsing goes to stderr.\n",
            "W0825 21:03:02.107192 140410693695360 deprecation_wrapper.py:119] From /usr/local/lib/python3.6/dist-packages/keras/backend/tensorflow_backend.py:74: The name tf.get_default_graph is deprecated. Please use tf.compat.v1.get_default_graph instead.\n",
            "\n",
            "W0825 21:03:02.161182 140410693695360 deprecation_wrapper.py:119] From /usr/local/lib/python3.6/dist-packages/keras/backend/tensorflow_backend.py:517: The name tf.placeholder is deprecated. Please use tf.compat.v1.placeholder instead.\n",
            "\n"
          ],
          "name": "stderr"
        }
      ]
    },
    {
      "cell_type": "code",
      "metadata": {
        "id": "94LQuf1Jd3OO",
        "colab_type": "code",
        "colab": {}
      },
      "source": [
        "embedding_layer = Embedding(len(word_index) + 1,\n",
        "                            300,\n",
        "                            weights=[embedding_matrix],\n",
        "                            input_length=MAX_SEQUENCE_LENGTH,\n",
        "                            trainable=False)"
      ],
      "execution_count": 0,
      "outputs": []
    },
    {
      "cell_type": "code",
      "metadata": {
        "id": "jF4Zai-qd3OP",
        "colab_type": "code",
        "outputId": "c52e14e1-7c9a-47f4-d5c2-ddabe7809340",
        "colab": {
          "base_uri": "https://localhost:8080/",
          "height": 141
        }
      },
      "source": [
        "top_embedded = embedding_layer(top_input)\n",
        "bm_embedded = embedding_layer(bm_input)"
      ],
      "execution_count": 0,
      "outputs": [
        {
          "output_type": "stream",
          "text": [
            "W0825 21:03:13.102530 140410693695360 deprecation_wrapper.py:119] From /usr/local/lib/python3.6/dist-packages/keras/backend/tensorflow_backend.py:4138: The name tf.random_uniform is deprecated. Please use tf.random.uniform instead.\n",
            "\n",
            "W0825 21:03:13.123896 140410693695360 deprecation_wrapper.py:119] From /usr/local/lib/python3.6/dist-packages/keras/backend/tensorflow_backend.py:174: The name tf.get_default_session is deprecated. Please use tf.compat.v1.get_default_session instead.\n",
            "\n",
            "W0825 21:03:13.126721 140410693695360 deprecation_wrapper.py:119] From /usr/local/lib/python3.6/dist-packages/keras/backend/tensorflow_backend.py:181: The name tf.ConfigProto is deprecated. Please use tf.compat.v1.ConfigProto instead.\n",
            "\n"
          ],
          "name": "stderr"
        }
      ]
    },
    {
      "cell_type": "code",
      "metadata": {
        "id": "KnGi34a5d3OX",
        "colab_type": "code",
        "colab": {}
      },
      "source": [
        "\n",
        "shared_conv1 = Conv1D(100, kernel_size=3)\n",
        "\n"
      ],
      "execution_count": 0,
      "outputs": []
    },
    {
      "cell_type": "code",
      "metadata": {
        "id": "Z9-90XQSd3OZ",
        "colab_type": "code",
        "outputId": "0b49da3a-ca47-403b-dc1d-b525ec305af5",
        "colab": {
          "base_uri": "https://localhost:8080/",
          "height": 124
        }
      },
      "source": [
        "top_output = shared_conv1(top_embedded)\n",
        "relu1 = ReLU()(top_output)\n",
        "dropout1=Dropout(0.5)(relu1)\n",
        "max_pool1=MaxPooling1D(pool_size=3)(dropout1)\n",
        "flatten1=Flatten()(max_pool1)\n"
      ],
      "execution_count": 0,
      "outputs": [
        {
          "output_type": "stream",
          "text": [
            "W0825 21:03:18.333451 140410693695360 deprecation.py:506] From /usr/local/lib/python3.6/dist-packages/keras/backend/tensorflow_backend.py:3445: calling dropout (from tensorflow.python.ops.nn_ops) with keep_prob is deprecated and will be removed in a future version.\n",
            "Instructions for updating:\n",
            "Please use `rate` instead of `keep_prob`. Rate should be set to `rate = 1 - keep_prob`.\n",
            "W0825 21:03:18.350919 140410693695360 deprecation_wrapper.py:119] From /usr/local/lib/python3.6/dist-packages/keras/backend/tensorflow_backend.py:3976: The name tf.nn.max_pool is deprecated. Please use tf.nn.max_pool2d instead.\n",
            "\n"
          ],
          "name": "stderr"
        }
      ]
    },
    {
      "cell_type": "code",
      "metadata": {
        "id": "5hmFodC6d3Ob",
        "colab_type": "code",
        "colab": {}
      },
      "source": [
        "bm_output = shared_conv1(bm_embedded)\n",
        "relu2= ReLU()(bm_output)\n",
        "dropout2=Dropout(0.5)(relu2)\n",
        "max_pool2=MaxPooling1D(pool_size=3)(dropout2)\n",
        "flatten2=Flatten()(max_pool2)"
      ],
      "execution_count": 0,
      "outputs": []
    },
    {
      "cell_type": "code",
      "metadata": {
        "id": "_h1nGnm_d3Od",
        "colab_type": "code",
        "colab": {}
      },
      "source": [
        "merged = concatenate([flatten1,flatten2],axis=-1)"
      ],
      "execution_count": 0,
      "outputs": []
    },
    {
      "cell_type": "code",
      "metadata": {
        "id": "ymAZY0SUd3Oe",
        "colab_type": "code",
        "colab": {}
      },
      "source": [
        "dense =  Dense(\n",
        "    units=2, \n",
        "    activation='softmax')\n",
        "predictions = dense(merged)"
      ],
      "execution_count": 0,
      "outputs": []
    },
    {
      "cell_type": "code",
      "metadata": {
        "id": "DMEbipg6d3Og",
        "colab_type": "code",
        "colab": {}
      },
      "source": [
        "model = Model(\n",
        "    inputs=[top_input, bm_input], \n",
        "    outputs=predictions)\n"
      ],
      "execution_count": 0,
      "outputs": []
    },
    {
      "cell_type": "code",
      "metadata": {
        "id": "9SqSeVgMd3Oi",
        "colab_type": "code",
        "outputId": "aca9e279-3972-4e1d-a0ca-a0aa217698ea",
        "colab": {
          "base_uri": "https://localhost:8080/",
          "height": 677
        }
      },
      "source": [
        "model.summary()"
      ],
      "execution_count": 0,
      "outputs": [
        {
          "output_type": "stream",
          "text": [
            "__________________________________________________________________________________________________\n",
            "Layer (type)                    Output Shape         Param #     Connected to                     \n",
            "==================================================================================================\n",
            "input_1 (InputLayer)            (None, 20)           0                                            \n",
            "__________________________________________________________________________________________________\n",
            "input_2 (InputLayer)            (None, 20)           0                                            \n",
            "__________________________________________________________________________________________________\n",
            "embedding_1 (Embedding)         (None, 20, 300)      15825000    input_1[0][0]                    \n",
            "                                                                 input_2[0][0]                    \n",
            "__________________________________________________________________________________________________\n",
            "conv1d_1 (Conv1D)               (None, 18, 100)      90100       embedding_1[0][0]                \n",
            "                                                                 embedding_1[1][0]                \n",
            "__________________________________________________________________________________________________\n",
            "re_lu_1 (ReLU)                  (None, 18, 100)      0           conv1d_1[0][0]                   \n",
            "__________________________________________________________________________________________________\n",
            "re_lu_2 (ReLU)                  (None, 18, 100)      0           conv1d_1[1][0]                   \n",
            "__________________________________________________________________________________________________\n",
            "dropout_1 (Dropout)             (None, 18, 100)      0           re_lu_1[0][0]                    \n",
            "__________________________________________________________________________________________________\n",
            "dropout_2 (Dropout)             (None, 18, 100)      0           re_lu_2[0][0]                    \n",
            "__________________________________________________________________________________________________\n",
            "max_pooling1d_1 (MaxPooling1D)  (None, 6, 100)       0           dropout_1[0][0]                  \n",
            "__________________________________________________________________________________________________\n",
            "max_pooling1d_2 (MaxPooling1D)  (None, 6, 100)       0           dropout_2[0][0]                  \n",
            "__________________________________________________________________________________________________\n",
            "flatten_1 (Flatten)             (None, 600)          0           max_pooling1d_1[0][0]            \n",
            "__________________________________________________________________________________________________\n",
            "flatten_2 (Flatten)             (None, 600)          0           max_pooling1d_2[0][0]            \n",
            "__________________________________________________________________________________________________\n",
            "concatenate_1 (Concatenate)     (None, 1200)         0           flatten_1[0][0]                  \n",
            "                                                                 flatten_2[0][0]                  \n",
            "__________________________________________________________________________________________________\n",
            "dense_1 (Dense)                 (None, 2)            2402        concatenate_1[0][0]              \n",
            "==================================================================================================\n",
            "Total params: 15,917,502\n",
            "Trainable params: 92,502\n",
            "Non-trainable params: 15,825,000\n",
            "__________________________________________________________________________________________________\n"
          ],
          "name": "stdout"
        }
      ]
    },
    {
      "cell_type": "code",
      "metadata": {
        "id": "4a5vnRHod3Om",
        "colab_type": "code",
        "outputId": "abc66d32-55d4-4b50-f046-f08301c05b52",
        "colab": {
          "base_uri": "https://localhost:8080/",
          "height": 72
        }
      },
      "source": [
        "from keras.optimizers import Adam\n",
        "lr = 1e-3\n",
        "opt = Adam(lr=lr, decay=lr/50)\n",
        "model.compile(\n",
        "    optimizer='adam',\n",
        "    loss='categorical_crossentropy',\n",
        "    metrics=['accuracy'])\n"
      ],
      "execution_count": 0,
      "outputs": [
        {
          "output_type": "stream",
          "text": [
            "W0825 21:03:33.982140 140410693695360 deprecation_wrapper.py:119] From /usr/local/lib/python3.6/dist-packages/keras/optimizers.py:790: The name tf.train.Optimizer is deprecated. Please use tf.compat.v1.train.Optimizer instead.\n",
            "\n"
          ],
          "name": "stderr"
        }
      ]
    },
    {
      "cell_type": "code",
      "metadata": {
        "id": "pmTHPON8d3On",
        "colab_type": "code",
        "outputId": "c6fb0cb6-af5b-4982-b50e-d987940455e2",
        "colab": {
          "base_uri": "https://localhost:8080/",
          "height": 1000
        }
      },
      "source": [
        "\n",
        "from keras.callbacks import ModelCheckpoint\n",
        "cp=ModelCheckpoint('/content/drive/My Drive/paper works/saved models/model_cnn.hdf5',monitor='val_acc',verbose=1,save_best_only=True)\n",
        "history = model.fit(\n",
        "    x=[x1_train, x2_train],y=y_train,batch_size=64,epochs=50,validation_data=([x1_val, x2_val],y_val),\n",
        "    shuffle=True,callbacks=[cp])"
      ],
      "execution_count": 0,
      "outputs": [
        {
          "output_type": "stream",
          "text": [
            "Train on 5038 samples, validate on 1260 samples\n",
            "Epoch 1/50\n",
            "5038/5038 [==============================] - 3s 597us/step - loss: 0.3155 - acc: 0.8624 - val_loss: 0.4524 - val_acc: 0.7810\n",
            "\n",
            "Epoch 00001: val_acc improved from -inf to 0.78095, saving model to /content/drive/My Drive/paper works/saved models/model_cnn.hdf5\n",
            "Epoch 2/50\n",
            "5038/5038 [==============================] - 3s 590us/step - loss: 0.3041 - acc: 0.8654 - val_loss: 0.4184 - val_acc: 0.8048\n",
            "\n",
            "Epoch 00002: val_acc improved from 0.78095 to 0.80476, saving model to /content/drive/My Drive/paper works/saved models/model_cnn.hdf5\n",
            "Epoch 3/50\n",
            "5038/5038 [==============================] - 3s 584us/step - loss: 0.3049 - acc: 0.8652 - val_loss: 0.4341 - val_acc: 0.8008\n",
            "\n",
            "Epoch 00003: val_acc did not improve from 0.80476\n",
            "Epoch 4/50\n",
            "5038/5038 [==============================] - 3s 596us/step - loss: 0.2877 - acc: 0.8805 - val_loss: 0.4288 - val_acc: 0.7976\n",
            "\n",
            "Epoch 00004: val_acc did not improve from 0.80476\n",
            "Epoch 5/50\n",
            "5038/5038 [==============================] - 3s 631us/step - loss: 0.2743 - acc: 0.8875 - val_loss: 0.4096 - val_acc: 0.8071\n",
            "\n",
            "Epoch 00005: val_acc improved from 0.80476 to 0.80714, saving model to /content/drive/My Drive/paper works/saved models/model_cnn.hdf5\n",
            "Epoch 6/50\n",
            "5038/5038 [==============================] - 3s 611us/step - loss: 0.2830 - acc: 0.8835 - val_loss: 0.4180 - val_acc: 0.7960\n",
            "\n",
            "Epoch 00006: val_acc did not improve from 0.80714\n",
            "Epoch 7/50\n",
            "5038/5038 [==============================] - 3s 590us/step - loss: 0.2654 - acc: 0.8845 - val_loss: 0.4313 - val_acc: 0.7937\n",
            "\n",
            "Epoch 00007: val_acc did not improve from 0.80714\n",
            "Epoch 8/50\n",
            "5038/5038 [==============================] - 3s 618us/step - loss: 0.2655 - acc: 0.8882 - val_loss: 0.4120 - val_acc: 0.8024\n",
            "\n",
            "Epoch 00008: val_acc did not improve from 0.80714\n",
            "Epoch 9/50\n",
            "5038/5038 [==============================] - 3s 590us/step - loss: 0.2655 - acc: 0.8867 - val_loss: 0.4084 - val_acc: 0.8143\n",
            "\n",
            "Epoch 00009: val_acc improved from 0.80714 to 0.81429, saving model to /content/drive/My Drive/paper works/saved models/model_cnn.hdf5\n",
            "Epoch 10/50\n",
            "5038/5038 [==============================] - 3s 609us/step - loss: 0.2586 - acc: 0.8906 - val_loss: 0.4104 - val_acc: 0.8159\n",
            "\n",
            "Epoch 00010: val_acc improved from 0.81429 to 0.81587, saving model to /content/drive/My Drive/paper works/saved models/model_cnn.hdf5\n",
            "Epoch 11/50\n",
            "5038/5038 [==============================] - 3s 613us/step - loss: 0.2449 - acc: 0.8974 - val_loss: 0.4723 - val_acc: 0.7683\n",
            "\n",
            "Epoch 00011: val_acc did not improve from 0.81587\n",
            "Epoch 12/50\n",
            "5038/5038 [==============================] - 3s 589us/step - loss: 0.2633 - acc: 0.8884 - val_loss: 0.4395 - val_acc: 0.7865\n",
            "\n",
            "Epoch 00012: val_acc did not improve from 0.81587\n",
            "Epoch 13/50\n",
            "5038/5038 [==============================] - 3s 624us/step - loss: 0.2437 - acc: 0.9025 - val_loss: 0.4504 - val_acc: 0.7841\n",
            "\n",
            "Epoch 00013: val_acc did not improve from 0.81587\n",
            "Epoch 14/50\n",
            "5038/5038 [==============================] - 3s 601us/step - loss: 0.2256 - acc: 0.9047 - val_loss: 0.4571 - val_acc: 0.7857\n",
            "\n",
            "Epoch 00014: val_acc did not improve from 0.81587\n",
            "Epoch 15/50\n",
            "5038/5038 [==============================] - 3s 593us/step - loss: 0.2463 - acc: 0.8932 - val_loss: 0.4476 - val_acc: 0.7841\n",
            "\n",
            "Epoch 00015: val_acc did not improve from 0.81587\n",
            "Epoch 16/50\n",
            "5038/5038 [==============================] - 3s 591us/step - loss: 0.2327 - acc: 0.9055 - val_loss: 0.4397 - val_acc: 0.7929\n",
            "\n",
            "Epoch 00016: val_acc did not improve from 0.81587\n",
            "Epoch 17/50\n",
            "5038/5038 [==============================] - 3s 587us/step - loss: 0.2244 - acc: 0.9079 - val_loss: 0.4115 - val_acc: 0.8111\n",
            "\n",
            "Epoch 00017: val_acc did not improve from 0.81587\n",
            "Epoch 18/50\n",
            "5038/5038 [==============================] - 3s 600us/step - loss: 0.2270 - acc: 0.9053 - val_loss: 0.4098 - val_acc: 0.8095\n",
            "\n",
            "Epoch 00018: val_acc did not improve from 0.81587\n",
            "Epoch 19/50\n",
            "5038/5038 [==============================] - 3s 595us/step - loss: 0.2227 - acc: 0.9085 - val_loss: 0.4087 - val_acc: 0.8111\n",
            "\n",
            "Epoch 00019: val_acc did not improve from 0.81587\n",
            "Epoch 20/50\n",
            "5038/5038 [==============================] - 3s 592us/step - loss: 0.2119 - acc: 0.9113 - val_loss: 0.4134 - val_acc: 0.8183\n",
            "\n",
            "Epoch 00020: val_acc improved from 0.81587 to 0.81825, saving model to /content/drive/My Drive/paper works/saved models/model_cnn.hdf5\n",
            "Epoch 21/50\n",
            "5038/5038 [==============================] - 3s 606us/step - loss: 0.1989 - acc: 0.9158 - val_loss: 0.4159 - val_acc: 0.8071\n",
            "\n",
            "Epoch 00021: val_acc did not improve from 0.81825\n",
            "Epoch 22/50\n",
            "5038/5038 [==============================] - 3s 620us/step - loss: 0.2078 - acc: 0.9143 - val_loss: 0.4210 - val_acc: 0.7992\n",
            "\n",
            "Epoch 00022: val_acc did not improve from 0.81825\n",
            "Epoch 23/50\n",
            "5038/5038 [==============================] - 3s 614us/step - loss: 0.2110 - acc: 0.9081 - val_loss: 0.4228 - val_acc: 0.8071\n",
            "\n",
            "Epoch 00023: val_acc did not improve from 0.81825\n",
            "Epoch 24/50\n",
            "5038/5038 [==============================] - 3s 643us/step - loss: 0.2000 - acc: 0.9164 - val_loss: 0.4146 - val_acc: 0.8032\n",
            "\n",
            "Epoch 00024: val_acc did not improve from 0.81825\n",
            "Epoch 25/50\n",
            "5038/5038 [==============================] - 3s 624us/step - loss: 0.1953 - acc: 0.9178 - val_loss: 0.4712 - val_acc: 0.7730\n",
            "\n",
            "Epoch 00025: val_acc did not improve from 0.81825\n",
            "Epoch 26/50\n",
            "5038/5038 [==============================] - 3s 618us/step - loss: 0.2136 - acc: 0.9063 - val_loss: 0.4197 - val_acc: 0.8095\n",
            "\n",
            "Epoch 00026: val_acc did not improve from 0.81825\n",
            "Epoch 27/50\n",
            "5038/5038 [==============================] - 3s 614us/step - loss: 0.1911 - acc: 0.9242 - val_loss: 0.4322 - val_acc: 0.8048\n",
            "\n",
            "Epoch 00027: val_acc did not improve from 0.81825\n",
            "Epoch 28/50\n",
            "5038/5038 [==============================] - 3s 610us/step - loss: 0.1905 - acc: 0.9228 - val_loss: 0.4374 - val_acc: 0.8087\n",
            "\n",
            "Epoch 00028: val_acc did not improve from 0.81825\n",
            "Epoch 29/50\n",
            "5038/5038 [==============================] - 3s 610us/step - loss: 0.1836 - acc: 0.9244 - val_loss: 0.4121 - val_acc: 0.8063\n",
            "\n",
            "Epoch 00029: val_acc did not improve from 0.81825\n",
            "Epoch 30/50\n",
            "5038/5038 [==============================] - 3s 617us/step - loss: 0.1811 - acc: 0.9272 - val_loss: 0.4248 - val_acc: 0.8063\n",
            "\n",
            "Epoch 00030: val_acc did not improve from 0.81825\n",
            "Epoch 31/50\n",
            "5038/5038 [==============================] - 3s 610us/step - loss: 0.2204 - acc: 0.9069 - val_loss: 0.4182 - val_acc: 0.8111\n",
            "\n",
            "Epoch 00031: val_acc did not improve from 0.81825\n",
            "Epoch 32/50\n",
            "5038/5038 [==============================] - 3s 621us/step - loss: 0.2209 - acc: 0.9099 - val_loss: 0.4383 - val_acc: 0.8048\n",
            "\n",
            "Epoch 00032: val_acc did not improve from 0.81825\n",
            "Epoch 33/50\n",
            "5038/5038 [==============================] - 3s 607us/step - loss: 0.1708 - acc: 0.9323 - val_loss: 0.4087 - val_acc: 0.8175\n",
            "\n",
            "Epoch 00033: val_acc did not improve from 0.81825\n",
            "Epoch 34/50\n",
            "5038/5038 [==============================] - 3s 610us/step - loss: 0.1777 - acc: 0.9281 - val_loss: 0.4501 - val_acc: 0.8040\n",
            "\n",
            "Epoch 00034: val_acc did not improve from 0.81825\n",
            "Epoch 35/50\n",
            "5038/5038 [==============================] - 3s 613us/step - loss: 0.1763 - acc: 0.9262 - val_loss: 0.4128 - val_acc: 0.8230\n",
            "\n",
            "Epoch 00035: val_acc improved from 0.81825 to 0.82302, saving model to /content/drive/My Drive/paper works/saved models/model_cnn.hdf5\n",
            "Epoch 36/50\n",
            "5038/5038 [==============================] - 3s 619us/step - loss: 0.1648 - acc: 0.9331 - val_loss: 0.4288 - val_acc: 0.8095\n",
            "\n",
            "Epoch 00036: val_acc did not improve from 0.82302\n",
            "Epoch 37/50\n",
            "5038/5038 [==============================] - 3s 603us/step - loss: 0.1878 - acc: 0.9238 - val_loss: 0.4362 - val_acc: 0.8127\n",
            "\n",
            "Epoch 00037: val_acc did not improve from 0.82302\n",
            "Epoch 38/50\n",
            "5038/5038 [==============================] - 3s 607us/step - loss: 0.1649 - acc: 0.9323 - val_loss: 0.4235 - val_acc: 0.8095\n",
            "\n",
            "Epoch 00038: val_acc did not improve from 0.82302\n",
            "Epoch 39/50\n",
            "5038/5038 [==============================] - 3s 635us/step - loss: 0.1767 - acc: 0.9272 - val_loss: 0.4662 - val_acc: 0.7786\n",
            "\n",
            "Epoch 00039: val_acc did not improve from 0.82302\n",
            "Epoch 40/50\n",
            "5038/5038 [==============================] - 3s 594us/step - loss: 0.1887 - acc: 0.9208 - val_loss: 0.4229 - val_acc: 0.8024\n",
            "\n",
            "Epoch 00040: val_acc did not improve from 0.82302\n",
            "Epoch 41/50\n",
            "5038/5038 [==============================] - 3s 602us/step - loss: 0.1593 - acc: 0.9391 - val_loss: 0.4654 - val_acc: 0.8103\n",
            "\n",
            "Epoch 00041: val_acc did not improve from 0.82302\n",
            "Epoch 42/50\n",
            "5038/5038 [==============================] - 3s 607us/step - loss: 0.1484 - acc: 0.9424 - val_loss: 0.4437 - val_acc: 0.7944\n",
            "\n",
            "Epoch 00042: val_acc did not improve from 0.82302\n",
            "Epoch 43/50\n",
            "5038/5038 [==============================] - 3s 601us/step - loss: 0.1525 - acc: 0.9432 - val_loss: 0.4118 - val_acc: 0.8008\n",
            "\n",
            "Epoch 00043: val_acc did not improve from 0.82302\n",
            "Epoch 44/50\n",
            "5038/5038 [==============================] - 3s 598us/step - loss: 0.1454 - acc: 0.9422 - val_loss: 0.4273 - val_acc: 0.8048\n",
            "\n",
            "Epoch 00044: val_acc did not improve from 0.82302\n",
            "Epoch 45/50\n",
            "5038/5038 [==============================] - 3s 601us/step - loss: 0.1536 - acc: 0.9401 - val_loss: 0.4395 - val_acc: 0.8087\n",
            "\n",
            "Epoch 00045: val_acc did not improve from 0.82302\n",
            "Epoch 46/50\n",
            "5038/5038 [==============================] - 3s 599us/step - loss: 0.1485 - acc: 0.9412 - val_loss: 0.4248 - val_acc: 0.8087\n",
            "\n",
            "Epoch 00046: val_acc did not improve from 0.82302\n",
            "Epoch 47/50\n",
            "5038/5038 [==============================] - 3s 599us/step - loss: 0.1555 - acc: 0.9383 - val_loss: 0.4175 - val_acc: 0.8183\n",
            "\n",
            "Epoch 00047: val_acc did not improve from 0.82302\n",
            "Epoch 48/50\n",
            "5038/5038 [==============================] - 3s 601us/step - loss: 0.1447 - acc: 0.9456 - val_loss: 0.4263 - val_acc: 0.8048\n",
            "\n",
            "Epoch 00048: val_acc did not improve from 0.82302\n",
            "Epoch 49/50\n",
            "5038/5038 [==============================] - 3s 606us/step - loss: 0.1420 - acc: 0.9420 - val_loss: 0.4270 - val_acc: 0.8151\n",
            "\n",
            "Epoch 00049: val_acc did not improve from 0.82302\n",
            "Epoch 50/50\n",
            "5038/5038 [==============================] - 3s 596us/step - loss: 0.1558 - acc: 0.9391 - val_loss: 0.4460 - val_acc: 0.8143\n",
            "\n",
            "Epoch 00050: val_acc did not improve from 0.82302\n"
          ],
          "name": "stdout"
        }
      ]
    },
    {
      "cell_type": "markdown",
      "metadata": {
        "id": "IlQxt0s7qyh3",
        "colab_type": "text"
      },
      "source": [
        "**ACCURACY - LOSS CURVE**"
      ]
    },
    {
      "cell_type": "code",
      "metadata": {
        "id": "cwA3EAPlmzSm",
        "colab_type": "code",
        "outputId": "b89e7a00-4ec1-489e-ad9a-2997fddd752f",
        "colab": {
          "base_uri": "https://localhost:8080/",
          "height": 545
        }
      },
      "source": [
        "import matplotlib.pyplot as plt\n",
        "\n",
        "acc = history.history['acc']\n",
        "val_acc = history.history['val_acc']\n",
        "loss = history.history['loss']\n",
        "val_loss = history.history['val_loss']\n",
        "\n",
        "epochs = range(len(acc))\n",
        "\n",
        "plt.plot(epochs, acc, 'bo', label='Training acc')\n",
        "plt.plot(epochs, val_acc, 'b', label='Validation acc')\n",
        "plt.title('Training and validation accuracy')\n",
        "plt.legend()\n",
        "\n",
        "plt.figure()\n",
        "\n",
        "plt.plot(epochs, loss, 'bo', label='Training loss')\n",
        "plt.plot(epochs, val_loss, 'b', label='Validation loss')\n",
        "plt.title('Training and validation loss')\n",
        "plt.legend()\n",
        "\n",
        "plt.show()\n"
      ],
      "execution_count": 0,
      "outputs": [
        {
          "output_type": "display_data",
          "data": {
            "image/png": "[encoded data removed]",
            "text/plain": [
              "<Figure size 432x288 with 1 Axes>"
            ]
          },
          "metadata": {
            "tags": []
          }
        },
        {
          "output_type": "display_data",
          "data": {
            "image/png": "[encoded data removed]",
            "text/plain": [
              "<Figure size 432x288 with 1 Axes>"
            ]
          },
          "metadata": {
            "tags": []
          }
        }
      ]
    },
    {
      "cell_type": "markdown",
      "metadata": {
        "id": "gKTtZ6UzqsiS",
        "colab_type": "text"
      },
      "source": [
        "**Confusion matrix**"
      ]
    },
    {
      "cell_type": "code",
      "metadata": {
        "id": "iXjf2ZBSm_Vw",
        "colab_type": "code",
        "outputId": "8a07fc78-1912-4b27-a0d8-982285a2e046",
        "colab": {
          "base_uri": "https://localhost:8080/",
          "height": 449
        }
      },
      "source": [
        "from sklearn import metrics\n",
        "y_test=model.predict([x1_val,x2_val])\n",
        "array= metrics.confusion_matrix(y_test.argmax(axis=1), y_val.argmax(axis=1))\n",
        "import seaborn as sn\n",
        "import pandas as pd\n",
        "import matplotlib.pyplot as plt\n",
        "\n",
        "df_cm = pd.DataFrame(array, index = [i for i in [\"Positive(1)\",\"Negative(0)\"]],\n",
        "                  columns = [i for i in [\"Positive(1)\",\"Negative(0)\"]])\n",
        "plt.figure(figsize = (10,7))\n",
        "sn.heatmap(df_cm, annot=True,)"
      ],
      "execution_count": 0,
      "outputs": [
        {
          "output_type": "execute_result",
          "data": {
            "text/plain": [
              "<matplotlib.axes._subplots.AxesSubplot at 0x7fb34046c400>"
            ]
          },
          "metadata": {
            "tags": []
          },
          "execution_count": 72
        },
        {
          "output_type": "display_data",
          "data": {
            "image/png": "[encoded data removed]",
            "text/plain": [
              "<Figure size 720x504 with 2 Axes>"
            ]
          },
          "metadata": {
            "tags": []
          }
        }
      ]
    },
    {
      "cell_type": "code",
      "metadata": {
        "id": "-qtGZi74oRwL",
        "colab_type": "code",
        "colab": {}
      },
      "source": [
        ""
      ],
      "execution_count": 0,
      "outputs": []
    },
    {
      "cell_type": "markdown",
      "metadata": {
        "id": "43Kk_Y96d3Or",
        "colab_type": "text"
      },
      "source": [
        "# Siamse RNN"
      ]
    },
    {
      "cell_type": "code",
      "metadata": {
        "id": "RHXT7pTQd3Os",
        "colab_type": "code",
        "colab": {}
      },
      "source": [
        "from keras import Input\n",
        "from keras.layers import Embedding,SimpleRNN, concatenate, Dense,regularizers\n",
        "from keras.models import Model"
      ],
      "execution_count": 0,
      "outputs": []
    },
    {
      "cell_type": "code",
      "metadata": {
        "id": "zKH-19_md3Ou",
        "colab_type": "code",
        "colab": {}
      },
      "source": [
        "top_input = Input(\n",
        "    shape=(MAX_SEQUENCE_LENGTH, ), \n",
        "    dtype='int32')\n",
        "bm_input = Input(\n",
        "    shape=(MAX_SEQUENCE_LENGTH, ), \n",
        "    dtype='int32')\n"
      ],
      "execution_count": 0,
      "outputs": []
    },
    {
      "cell_type": "code",
      "metadata": {
        "id": "vDfnYshKd3Ov",
        "colab_type": "code",
        "colab": {}
      },
      "source": [
        "embedding_layer = Embedding(len(word_index) + 1,\n",
        "                            300,\n",
        "                            weights=[embedding_matrix],\n",
        "                            input_length=MAX_SEQUENCE_LENGTH,\n",
        "                            trainable=False)"
      ],
      "execution_count": 0,
      "outputs": []
    },
    {
      "cell_type": "code",
      "metadata": {
        "id": "dScEJrlAd3Oy",
        "colab_type": "code",
        "colab": {}
      },
      "source": [
        "top_embedded = embedding_layer(top_input)\n",
        "bm_embedded = embedding_layer(bm_input)"
      ],
      "execution_count": 0,
      "outputs": []
    },
    {
      "cell_type": "code",
      "metadata": {
        "id": "4JpSkBuAd3O2",
        "colab_type": "code",
        "colab": {}
      },
      "source": [
        "shared_rnn = SimpleRNN(128,kernel_regularizer=regularizers.l2(0.01))\n",
        "top_output = shared_rnn(top_embedded)\n",
        "bm_output = shared_rnn(bm_embedded)"
      ],
      "execution_count": 0,
      "outputs": []
    },
    {
      "cell_type": "code",
      "metadata": {
        "id": "nd60_4rPd3O3",
        "colab_type": "code",
        "colab": {}
      },
      "source": [
        "merged = concatenate([top_output, bm_output],axis=-1)"
      ],
      "execution_count": 0,
      "outputs": []
    },
    {
      "cell_type": "code",
      "metadata": {
        "id": "Y1mQDK2Qd3O4",
        "colab_type": "code",
        "colab": {}
      },
      "source": [
        "dense =  Dense(\n",
        "    units=2, \n",
        "    activation='softmax')\n",
        "predictions = dense(merged)"
      ],
      "execution_count": 0,
      "outputs": []
    },
    {
      "cell_type": "code",
      "metadata": {
        "id": "UHQhW8Cbd3O5",
        "colab_type": "code",
        "colab": {}
      },
      "source": [
        "model = Model(\n",
        "    inputs=[top_input, bm_input], \n",
        "    outputs=predictions)"
      ],
      "execution_count": 0,
      "outputs": []
    },
    {
      "cell_type": "code",
      "metadata": {
        "id": "vza2hyARd3O7",
        "colab_type": "code",
        "outputId": "60695552-aa32-4ea7-e018-b54ce94e327a",
        "colab": {
          "base_uri": "https://localhost:8080/",
          "height": 399
        }
      },
      "source": [
        "model.summary()"
      ],
      "execution_count": 0,
      "outputs": [
        {
          "output_type": "stream",
          "text": [
            "__________________________________________________________________________________________________\n",
            "Layer (type)                    Output Shape         Param #     Connected to                     \n",
            "==================================================================================================\n",
            "input_3 (InputLayer)            (None, 20)           0                                            \n",
            "__________________________________________________________________________________________________\n",
            "input_4 (InputLayer)            (None, 20)           0                                            \n",
            "__________________________________________________________________________________________________\n",
            "embedding_2 (Embedding)         (None, 20, 300)      15825000    input_3[0][0]                    \n",
            "                                                                 input_4[0][0]                    \n",
            "__________________________________________________________________________________________________\n",
            "simple_rnn_1 (SimpleRNN)        (None, 128)          54912       embedding_2[0][0]                \n",
            "                                                                 embedding_2[1][0]                \n",
            "__________________________________________________________________________________________________\n",
            "concatenate_2 (Concatenate)     (None, 256)          0           simple_rnn_1[0][0]               \n",
            "                                                                 simple_rnn_1[1][0]               \n",
            "__________________________________________________________________________________________________\n",
            "dense_2 (Dense)                 (None, 2)            514         concatenate_2[0][0]              \n",
            "==================================================================================================\n",
            "Total params: 15,880,426\n",
            "Trainable params: 55,426\n",
            "Non-trainable params: 15,825,000\n",
            "__________________________________________________________________________________________________\n"
          ],
          "name": "stdout"
        }
      ]
    },
    {
      "cell_type": "code",
      "metadata": {
        "id": "CT8uInEbd3O-",
        "colab_type": "code",
        "colab": {}
      },
      "source": [
        "from keras.optimizers import Adam\n",
        "lr = 1e-3\n",
        "opt = Adam(lr=lr, decay=lr/50)\n",
        "model.compile(\n",
        "    optimizer='adam',\n",
        "    loss='categorical_crossentropy',\n",
        "    metrics=['accuracy'])\n"
      ],
      "execution_count": 0,
      "outputs": []
    },
    {
      "cell_type": "code",
      "metadata": {
        "id": "LeEYPj5Vd3PC",
        "colab_type": "code",
        "outputId": "fb7ad385-6d0e-4898-fa63-f73de8f2d396",
        "colab": {
          "base_uri": "https://localhost:8080/",
          "height": 1000
        }
      },
      "source": [
        "\n",
        "from keras.callbacks import ModelCheckpoint\n",
        "cp=ModelCheckpoint('/content/drive/My Drive/paper works/saved models/model_rnn.hdf5',monitor='val_acc',verbose=1,save_best_only=True)\n",
        "history = model.fit(\n",
        "    x=[x1_train, x2_train],y=y_train,batch_size=64,epochs=50,validation_data=([x1_val, x2_val],y_val),\n",
        "    shuffle=True,callbacks=[cp])"
      ],
      "execution_count": 0,
      "outputs": [
        {
          "output_type": "stream",
          "text": [
            "Train on 5038 samples, validate on 1260 samples\n",
            "Epoch 1/50\n",
            "5038/5038 [==============================] - 3s 661us/step - loss: 2.1142 - acc: 0.5699 - val_loss: 1.6663 - val_acc: 0.6397\n",
            "\n",
            "Epoch 00001: val_acc improved from -inf to 0.63968, saving model to /content/drive/My Drive/paper works/saved models/model_rnn.hdf5\n",
            "Epoch 2/50\n",
            "5038/5038 [==============================] - 3s 530us/step - loss: 1.3781 - acc: 0.6888 - val_loss: 1.1584 - val_acc: 0.6762\n",
            "\n",
            "Epoch 00002: val_acc improved from 0.63968 to 0.67619, saving model to /content/drive/My Drive/paper works/saved models/model_rnn.hdf5\n",
            "Epoch 3/50\n",
            "5038/5038 [==============================] - 3s 524us/step - loss: 0.9843 - acc: 0.7507 - val_loss: 0.9239 - val_acc: 0.7190\n",
            "\n",
            "Epoch 00003: val_acc improved from 0.67619 to 0.71905, saving model to /content/drive/My Drive/paper works/saved models/model_rnn.hdf5\n",
            "Epoch 4/50\n",
            "5038/5038 [==============================] - 3s 531us/step - loss: 0.7797 - acc: 0.7872 - val_loss: 0.8238 - val_acc: 0.7079\n",
            "\n",
            "Epoch 00004: val_acc did not improve from 0.71905\n",
            "Epoch 5/50\n",
            "5038/5038 [==============================] - 3s 516us/step - loss: 0.6474 - acc: 0.8229 - val_loss: 0.8015 - val_acc: 0.7087\n",
            "\n",
            "Epoch 00005: val_acc did not improve from 0.71905\n",
            "Epoch 6/50\n",
            "5038/5038 [==============================] - 3s 525us/step - loss: 0.5775 - acc: 0.8366 - val_loss: 0.7492 - val_acc: 0.7071\n",
            "\n",
            "Epoch 00006: val_acc did not improve from 0.71905\n",
            "Epoch 7/50\n",
            "5038/5038 [==============================] - 3s 545us/step - loss: 0.5061 - acc: 0.8607 - val_loss: 0.8024 - val_acc: 0.7063\n",
            "\n",
            "Epoch 00007: val_acc did not improve from 0.71905\n",
            "Epoch 8/50\n",
            "5038/5038 [==============================] - 3s 518us/step - loss: 0.4458 - acc: 0.8867 - val_loss: 1.0107 - val_acc: 0.6627\n",
            "\n",
            "Epoch 00008: val_acc did not improve from 0.71905\n",
            "Epoch 9/50\n",
            "5038/5038 [==============================] - 3s 529us/step - loss: 0.4013 - acc: 0.8992 - val_loss: 0.8445 - val_acc: 0.7024\n",
            "\n",
            "Epoch 00009: val_acc did not improve from 0.71905\n",
            "Epoch 10/50\n",
            "5038/5038 [==============================] - 3s 522us/step - loss: 0.3555 - acc: 0.9172 - val_loss: 0.9269 - val_acc: 0.6913\n",
            "\n",
            "Epoch 00010: val_acc did not improve from 0.71905\n",
            "Epoch 11/50\n",
            "5038/5038 [==============================] - 3s 516us/step - loss: 0.3259 - acc: 0.9341 - val_loss: 0.8832 - val_acc: 0.7040\n",
            "\n",
            "Epoch 00011: val_acc did not improve from 0.71905\n",
            "Epoch 12/50\n",
            "5038/5038 [==============================] - 3s 518us/step - loss: 0.2793 - acc: 0.9534 - val_loss: 0.9911 - val_acc: 0.7056\n",
            "\n",
            "Epoch 00012: val_acc did not improve from 0.71905\n",
            "Epoch 13/50\n",
            "5038/5038 [==============================] - 3s 513us/step - loss: 0.2516 - acc: 0.9589 - val_loss: 1.0509 - val_acc: 0.6817\n",
            "\n",
            "Epoch 00013: val_acc did not improve from 0.71905\n",
            "Epoch 14/50\n",
            "5038/5038 [==============================] - 3s 520us/step - loss: 0.2901 - acc: 0.9416 - val_loss: 0.9582 - val_acc: 0.6944\n",
            "\n",
            "Epoch 00014: val_acc did not improve from 0.71905\n",
            "Epoch 15/50\n",
            "5038/5038 [==============================] - 3s 513us/step - loss: 0.2753 - acc: 0.9545 - val_loss: 1.0085 - val_acc: 0.6929\n",
            "\n",
            "Epoch 00015: val_acc did not improve from 0.71905\n",
            "Epoch 16/50\n",
            "5038/5038 [==============================] - 3s 522us/step - loss: 0.2371 - acc: 0.9663 - val_loss: 1.1752 - val_acc: 0.6960\n",
            "\n",
            "Epoch 00016: val_acc did not improve from 0.71905\n",
            "Epoch 17/50\n",
            "5038/5038 [==============================] - 3s 516us/step - loss: 0.2121 - acc: 0.9712 - val_loss: 1.1837 - val_acc: 0.6944\n",
            "\n",
            "Epoch 00017: val_acc did not improve from 0.71905\n",
            "Epoch 18/50\n",
            "5038/5038 [==============================] - 3s 517us/step - loss: 0.2177 - acc: 0.9694 - val_loss: 1.2107 - val_acc: 0.7016\n",
            "\n",
            "Epoch 00018: val_acc did not improve from 0.71905\n",
            "Epoch 19/50\n",
            "5038/5038 [==============================] - 3s 513us/step - loss: 0.2484 - acc: 0.9567 - val_loss: 1.1397 - val_acc: 0.6897\n",
            "\n",
            "Epoch 00019: val_acc did not improve from 0.71905\n",
            "Epoch 20/50\n",
            "5038/5038 [==============================] - 3s 516us/step - loss: 0.1967 - acc: 0.9748 - val_loss: 1.1591 - val_acc: 0.6857\n",
            "\n",
            "Epoch 00020: val_acc did not improve from 0.71905\n",
            "Epoch 21/50\n",
            "5038/5038 [==============================] - 3s 521us/step - loss: 0.2124 - acc: 0.9688 - val_loss: 1.1739 - val_acc: 0.6675\n",
            "\n",
            "Epoch 00021: val_acc did not improve from 0.71905\n",
            "Epoch 22/50\n",
            "5038/5038 [==============================] - 3s 521us/step - loss: 0.2202 - acc: 0.9663 - val_loss: 1.2862 - val_acc: 0.6889\n",
            "\n",
            "Epoch 00022: val_acc did not improve from 0.71905\n",
            "Epoch 23/50\n",
            "5038/5038 [==============================] - 3s 511us/step - loss: 0.2210 - acc: 0.9647 - val_loss: 1.1104 - val_acc: 0.6857\n",
            "\n",
            "Epoch 00023: val_acc did not improve from 0.71905\n",
            "Epoch 24/50\n",
            "5038/5038 [==============================] - 3s 515us/step - loss: 0.2132 - acc: 0.9690 - val_loss: 1.1701 - val_acc: 0.7016\n",
            "\n",
            "Epoch 00024: val_acc did not improve from 0.71905\n",
            "Epoch 25/50\n",
            "5038/5038 [==============================] - 3s 517us/step - loss: 0.2048 - acc: 0.9722 - val_loss: 1.2001 - val_acc: 0.6905\n",
            "\n",
            "Epoch 00025: val_acc did not improve from 0.71905\n",
            "Epoch 26/50\n",
            "5038/5038 [==============================] - 3s 521us/step - loss: 0.1959 - acc: 0.9738 - val_loss: 1.2895 - val_acc: 0.7119\n",
            "\n",
            "Epoch 00026: val_acc did not improve from 0.71905\n",
            "Epoch 27/50\n",
            "5038/5038 [==============================] - 3s 517us/step - loss: 0.2451 - acc: 0.9565 - val_loss: 1.0783 - val_acc: 0.6865\n",
            "\n",
            "Epoch 00027: val_acc did not improve from 0.71905\n",
            "Epoch 28/50\n",
            "5038/5038 [==============================] - 3s 515us/step - loss: 0.2334 - acc: 0.9627 - val_loss: 1.1920 - val_acc: 0.7008\n",
            "\n",
            "Epoch 00028: val_acc did not improve from 0.71905\n",
            "Epoch 29/50\n",
            "5038/5038 [==============================] - 3s 521us/step - loss: 0.1829 - acc: 0.9821 - val_loss: 1.2225 - val_acc: 0.7135\n",
            "\n",
            "Epoch 00029: val_acc did not improve from 0.71905\n",
            "Epoch 30/50\n",
            "5038/5038 [==============================] - 3s 517us/step - loss: 0.1852 - acc: 0.9770 - val_loss: 1.2742 - val_acc: 0.6754\n",
            "\n",
            "Epoch 00030: val_acc did not improve from 0.71905\n",
            "Epoch 31/50\n",
            "5038/5038 [==============================] - 3s 515us/step - loss: 0.1906 - acc: 0.9738 - val_loss: 1.2180 - val_acc: 0.6952\n",
            "\n",
            "Epoch 00031: val_acc did not improve from 0.71905\n",
            "Epoch 32/50\n",
            "5038/5038 [==============================] - 3s 512us/step - loss: 0.2282 - acc: 0.9609 - val_loss: 1.1102 - val_acc: 0.6722\n",
            "\n",
            "Epoch 00032: val_acc did not improve from 0.71905\n",
            "Epoch 33/50\n",
            "5038/5038 [==============================] - 3s 514us/step - loss: 0.2459 - acc: 0.9536 - val_loss: 1.2692 - val_acc: 0.6905\n",
            "\n",
            "Epoch 00033: val_acc did not improve from 0.71905\n",
            "Epoch 34/50\n",
            "5038/5038 [==============================] - 3s 519us/step - loss: 0.1959 - acc: 0.9774 - val_loss: 1.3932 - val_acc: 0.6984\n",
            "\n",
            "Epoch 00034: val_acc did not improve from 0.71905\n",
            "Epoch 35/50\n",
            "5038/5038 [==============================] - 3s 514us/step - loss: 0.1756 - acc: 0.9839 - val_loss: 1.3277 - val_acc: 0.6929\n",
            "\n",
            "Epoch 00035: val_acc did not improve from 0.71905\n",
            "Epoch 36/50\n",
            "5038/5038 [==============================] - 3s 516us/step - loss: 0.1583 - acc: 0.9867 - val_loss: 1.4824 - val_acc: 0.6738\n",
            "\n",
            "Epoch 00036: val_acc did not improve from 0.71905\n",
            "Epoch 37/50\n",
            "5038/5038 [==============================] - 3s 512us/step - loss: 0.1885 - acc: 0.9726 - val_loss: 1.3266 - val_acc: 0.6913\n",
            "\n",
            "Epoch 00037: val_acc did not improve from 0.71905\n",
            "Epoch 38/50\n",
            "5038/5038 [==============================] - 3s 523us/step - loss: 0.2001 - acc: 0.9694 - val_loss: 1.4115 - val_acc: 0.6730\n",
            "\n",
            "Epoch 00038: val_acc did not improve from 0.71905\n",
            "Epoch 39/50\n",
            "5038/5038 [==============================] - 3s 513us/step - loss: 0.2175 - acc: 0.9647 - val_loss: 1.3679 - val_acc: 0.6762\n",
            "\n",
            "Epoch 00039: val_acc did not improve from 0.71905\n",
            "Epoch 40/50\n",
            "5038/5038 [==============================] - 3s 518us/step - loss: 0.2052 - acc: 0.9704 - val_loss: 1.3472 - val_acc: 0.6786\n",
            "\n",
            "Epoch 00040: val_acc did not improve from 0.71905\n",
            "Epoch 41/50\n",
            "5038/5038 [==============================] - 3s 519us/step - loss: 0.2093 - acc: 0.9700 - val_loss: 1.3957 - val_acc: 0.6944\n",
            "\n",
            "Epoch 00041: val_acc did not improve from 0.71905\n",
            "Epoch 42/50\n",
            "5038/5038 [==============================] - 3s 516us/step - loss: 0.1977 - acc: 0.9748 - val_loss: 1.3023 - val_acc: 0.6865\n",
            "\n",
            "Epoch 00042: val_acc did not improve from 0.71905\n",
            "Epoch 43/50\n",
            "5038/5038 [==============================] - 3s 516us/step - loss: 0.1782 - acc: 0.9817 - val_loss: 1.4418 - val_acc: 0.6937\n",
            "\n",
            "Epoch 00043: val_acc did not improve from 0.71905\n",
            "Epoch 44/50\n",
            "5038/5038 [==============================] - 3s 521us/step - loss: 0.1666 - acc: 0.9821 - val_loss: 1.3306 - val_acc: 0.6754\n",
            "\n",
            "Epoch 00044: val_acc did not improve from 0.71905\n",
            "Epoch 45/50\n",
            "5038/5038 [==============================] - 3s 517us/step - loss: 0.2635 - acc: 0.9448 - val_loss: 1.2398 - val_acc: 0.6675\n",
            "\n",
            "Epoch 00045: val_acc did not improve from 0.71905\n",
            "Epoch 46/50\n",
            "5038/5038 [==============================] - 3s 515us/step - loss: 0.2461 - acc: 0.9545 - val_loss: 1.5047 - val_acc: 0.6722\n",
            "\n",
            "Epoch 00046: val_acc did not improve from 0.71905\n",
            "Epoch 47/50\n",
            "5038/5038 [==============================] - 3s 518us/step - loss: 0.1872 - acc: 0.9805 - val_loss: 1.3449 - val_acc: 0.6952\n",
            "\n",
            "Epoch 00047: val_acc did not improve from 0.71905\n",
            "Epoch 48/50\n",
            "5038/5038 [==============================] - 3s 517us/step - loss: 0.1693 - acc: 0.9855 - val_loss: 1.5010 - val_acc: 0.6794\n",
            "\n",
            "Epoch 00048: val_acc did not improve from 0.71905\n",
            "Epoch 49/50\n",
            "5038/5038 [==============================] - 3s 528us/step - loss: 0.1629 - acc: 0.9871 - val_loss: 1.3555 - val_acc: 0.6952\n",
            "\n",
            "Epoch 00049: val_acc did not improve from 0.71905\n",
            "Epoch 50/50\n",
            "5038/5038 [==============================] - 3s 515us/step - loss: 0.1533 - acc: 0.9873 - val_loss: 1.3305 - val_acc: 0.6937\n",
            "\n",
            "Epoch 00050: val_acc did not improve from 0.71905\n"
          ],
          "name": "stdout"
        }
      ]
    },
    {
      "cell_type": "code",
      "metadata": {
        "id": "HhNCuXWVd3PE",
        "colab_type": "code",
        "colab": {}
      },
      "source": [
        ""
      ],
      "execution_count": 0,
      "outputs": []
    },
    {
      "cell_type": "markdown",
      "metadata": {
        "id": "6GiXBbTnneFF",
        "colab_type": "text"
      },
      "source": [
        "# **Results**"
      ]
    },
    {
      "cell_type": "code",
      "metadata": {
        "id": "mUDBtIVQniEQ",
        "colab_type": "code",
        "outputId": "33399396-29a5-4d2b-9a2a-d1dbd8f53374",
        "colab": {
          "base_uri": "https://localhost:8080/",
          "height": 545
        }
      },
      "source": [
        "import matplotlib.pyplot as plt\n",
        "\n",
        "acc = history.history['acc']\n",
        "val_acc = history.history['val_acc']\n",
        "loss = history.history['loss']\n",
        "val_loss = history.history['val_loss']\n",
        "\n",
        "epochs = range(len(acc))\n",
        "\n",
        "plt.plot(epochs, acc, 'bo', label='Training acc')\n",
        "plt.plot(epochs, val_acc, 'b', label='Validation acc')\n",
        "plt.title('Training and validation accuracy')\n",
        "plt.legend()\n",
        "\n",
        "plt.figure()\n",
        "\n",
        "plt.plot(epochs, loss, 'bo', label='Training loss')\n",
        "plt.plot(epochs, val_loss, 'b', label='Validation loss')\n",
        "plt.title('Training and validation loss')\n",
        "plt.legend()\n",
        "\n",
        "plt.show()\n"
      ],
      "execution_count": 0,
      "outputs": [
        {
          "output_type": "display_data",
          "data": {
            "image/png": "[encoded data removed]",
            "text/plain": [
              "<Figure size 432x288 with 1 Axes>"
            ]
          },
          "metadata": {
            "tags": []
          }
        },
        {
          "output_type": "display_data",
          "data": {
            "image/png": "[encoded data removed]",
            "text/plain": [
              "<Figure size 432x288 with 1 Axes>"
            ]
          },
          "metadata": {
            "tags": []
          }
        }
      ]
    },
    {
      "cell_type": "markdown",
      "metadata": {
        "id": "ONY4B3KFqfvN",
        "colab_type": "text"
      },
      "source": [
        "**Confusion matrix**"
      ]
    },
    {
      "cell_type": "code",
      "metadata": {
        "id": "FRFpmA_Fd3PG",
        "colab_type": "code",
        "outputId": "5694e7d5-89e1-418a-f4ab-d8cd139bdb74",
        "colab": {
          "base_uri": "https://localhost:8080/",
          "height": 449
        }
      },
      "source": [
        "from sklearn import metrics\n",
        "y_test=model.predict([x1_val,x2_val])\n",
        "array= metrics.confusion_matrix(y_test.argmax(axis=1), y_val.argmax(axis=1))\n",
        "import seaborn as sn\n",
        "import pandas as pd\n",
        "import matplotlib.pyplot as plt\n",
        "\n",
        "df_cm = pd.DataFrame(array, index = [i for i in [\"Positive(1)\",\"Negative(0)\"]],\n",
        "                  columns = [i for i in [\"Positive(1)\",\"Negative(0)\"]])\n",
        "plt.figure(figsize = (10,7))\n",
        "sn.heatmap(df_cm, annot=True,)"
      ],
      "execution_count": 0,
      "outputs": [
        {
          "output_type": "execute_result",
          "data": {
            "text/plain": [
              "<matplotlib.axes._subplots.AxesSubplot at 0x7faa5e2da828>"
            ]
          },
          "metadata": {
            "tags": []
          },
          "execution_count": 47
        },
        {
          "output_type": "display_data",
          "data": {
            "image/png": "[encoded data removed]",
            "text/plain": [
              "<Figure size 720x504 with 2 Axes>"
            ]
          },
          "metadata": {
            "tags": []
          }
        }
      ]
    },
    {
      "cell_type": "code",
      "metadata": {
        "id": "m4-oMLuHG5rz",
        "colab_type": "code",
        "colab": {}
      },
      "source": [
        ""
      ],
      "execution_count": 0,
      "outputs": []
    }
  ]
}